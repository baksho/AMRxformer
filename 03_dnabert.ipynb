{
 "cells": [
  {
   "cell_type": "markdown",
   "metadata": {
    "id": "hVwC1I_nqRFq"
   },
   "source": [
    "### **INSTALL AND IMPORT REQUIRED PACKAGES**"
   ]
  },
  {
   "cell_type": "code",
   "execution_count": 1,
   "metadata": {
    "colab": {
     "base_uri": "https://localhost:8080/"
    },
    "executionInfo": {
     "elapsed": 33478,
     "status": "ok",
     "timestamp": 1751483776643,
     "user": {
      "displayName": "Suvinava Basak",
      "userId": "08195407941131229046"
     },
     "user_tz": -120
    },
    "id": "NuurWD8rh8mX",
    "outputId": "b72a50c1-6d46-433d-d853-d631a5683fca"
   },
   "outputs": [
    {
     "name": "stdout",
     "output_type": "stream",
     "text": [
      "\u001b[?25l     \u001b[90m━━━━━━━━━━━━━━━━━━━━━━━━━━━━━━━━━━━━━━━━\u001b[0m \u001b[32m0.0/98.1 kB\u001b[0m \u001b[31m?\u001b[0m eta \u001b[36m-:--:--\u001b[0m\r",
      "\u001b[2K     \u001b[90m━━━━━━━━━━━━━━━━━━━━━━━━━━━━━━━━━━━━━━━━\u001b[0m \u001b[32m98.1/98.1 kB\u001b[0m \u001b[31m5.2 MB/s\u001b[0m eta \u001b[36m0:00:00\u001b[0m\n",
      "\u001b[?25h  Installing build dependencies ... \u001b[?25l\u001b[?25hdone\n",
      "  Getting requirements to build wheel ... \u001b[?25l\u001b[?25hdone\n",
      "  Preparing metadata (pyproject.toml) ... \u001b[?25l\u001b[?25hdone\n",
      "\u001b[2K   \u001b[90m━━━━━━━━━━━━━━━━━━━━━━━━━━━━━━━━━━━━━━━━\u001b[0m \u001b[32m11.7/11.7 MB\u001b[0m \u001b[31m37.9 MB/s\u001b[0m eta \u001b[36m0:00:00\u001b[0m\n",
      "\u001b[2K   \u001b[90m━━━━━━━━━━━━━━━━━━━━━━━━━━━━━━━━━━━━━━━━\u001b[0m \u001b[32m3.3/3.3 MB\u001b[0m \u001b[31m44.6 MB/s\u001b[0m eta \u001b[36m0:00:00\u001b[0m\n",
      "\u001b[2K   \u001b[90m━━━━━━━━━━━━━━━━━━━━━━━━━━━━━━━━━━━━━━━━\u001b[0m \u001b[32m84.7/84.7 kB\u001b[0m \u001b[31m4.6 MB/s\u001b[0m eta \u001b[36m0:00:00\u001b[0m\n",
      "\u001b[?25h  Building wheel for gpustat (pyproject.toml) ... \u001b[?25l\u001b[?25hdone\n"
     ]
    }
   ],
   "source": [
    "!pip install cartopy biopython gpustat transformers datasets scikit-learn --quiet"
   ]
  },
  {
   "cell_type": "markdown",
   "metadata": {
    "id": "lKir6bgvVNJe"
   },
   "source": [
    "### **IMPORT REQUIRED PACKAGES**"
   ]
  },
  {
   "cell_type": "code",
   "execution_count": 2,
   "metadata": {
    "colab": {
     "base_uri": "https://localhost:8080/"
    },
    "executionInfo": {
     "elapsed": 40958,
     "status": "ok",
     "timestamp": 1751483833191,
     "user": {
      "displayName": "Suvinava Basak",
      "userId": "08195407941131229046"
     },
     "user_tz": -120
    },
    "id": "YVTl4cw9JnhK",
    "outputId": "643bab9b-0e55-4458-d10e-cd9365caf1e4"
   },
   "outputs": [
    {
     "name": "stdout",
     "output_type": "stream",
     "text": [
      "Packages installed and imported successfully!\n",
      "Python version 3.11.13\n",
      "Pytorch - version 2.6.0+cu124\n",
      "Pytorch - cuDNN version : 90300\n",
      "Using device: cuda\n",
      "GPU: Tesla T4\n",
      "GPU Memory: 14 GB\n"
     ]
    }
   ],
   "source": [
    "import pandas as pd\n",
    "import numpy as np\n",
    "import seaborn as sns\n",
    "import torch\n",
    "import torch.nn as nn\n",
    "from torch.utils.data import Dataset, DataLoader\n",
    "from transformers import AutoTokenizer, AutoModel\n",
    "from sklearn.metrics import accuracy_score, precision_score, recall_score, f1_score, roc_auc_score, roc_curve, auc, precision_recall_curve, confusion_matrix, ConfusionMatrixDisplay, classification_report\n",
    "from sklearn.model_selection import train_test_split\n",
    "import matplotlib.pyplot as plt\n",
    "from tqdm import tqdm\n",
    "import os\n",
    "import sys\n",
    "import gc\n",
    "from platform import python_version\n",
    "import random\n",
    "import warnings\n",
    "warnings.filterwarnings('ignore')\n",
    "\n",
    "print(\"Packages installed and imported successfully!\")\n",
    "print(\"Python version\", python_version())\n",
    "print(\"Pytorch - version\", torch.__version__)\n",
    "print(\"Pytorch - cuDNN version :\", torch.backends.cudnn.version())\n",
    "\n",
    "# Check GPU availability\n",
    "device = torch.device('cuda' if torch.cuda.is_available() else 'cpu')\n",
    "print(f\"Using device: {device}\")\n",
    "if torch.cuda.is_available():\n",
    "    print(f\"GPU: {torch.cuda.get_device_name(0)}\")\n",
    "    print(f\"GPU Memory: {torch.cuda.get_device_properties(0).total_memory // 1024**3} GB\")"
   ]
  },
  {
   "cell_type": "markdown",
   "metadata": {
    "id": "SUkzP8qXVSCn"
   },
   "source": [
    "### **SET RANDOM SEED**"
   ]
  },
  {
   "cell_type": "code",
   "execution_count": 3,
   "metadata": {
    "colab": {
     "base_uri": "https://localhost:8080/"
    },
    "executionInfo": {
     "elapsed": 38,
     "status": "ok",
     "timestamp": 1751483878954,
     "user": {
      "displayName": "Suvinava Basak",
      "userId": "08195407941131229046"
     },
     "user_tz": -120
    },
    "id": "0uRaXLHaVSa8",
    "outputId": "3ffc82e3-7a4e-4e8f-aad3-c5ad3f245319"
   },
   "outputs": [
    {
     "name": "stdout",
     "output_type": "stream",
     "text": [
      "All seeds set for reproducibility.\n"
     ]
    }
   ],
   "source": [
    "# Set all seeds for reproducibility\n",
    "def set_all_seeds(seed=42):\n",
    "    random.seed(seed)\n",
    "    np.random.seed(seed)\n",
    "    torch.manual_seed(seed)\n",
    "    torch.cuda.manual_seed(seed)\n",
    "    torch.cuda.manual_seed_all(seed)\n",
    "    torch.backends.cudnn.deterministic = True\n",
    "    torch.backends.cudnn.benchmark = False\n",
    "\n",
    "set_all_seeds(42)\n",
    "print(\"All seeds set for reproducibility.\")"
   ]
  },
  {
   "cell_type": "markdown",
   "metadata": {
    "id": "CODjRjHyJlk6"
   },
   "source": [
    "### **LOAD THE BALANCED DATA**"
   ]
  },
  {
   "cell_type": "code",
   "execution_count": 4,
   "metadata": {
    "colab": {
     "base_uri": "https://localhost:8080/"
    },
    "executionInfo": {
     "elapsed": 18037,
     "status": "ok",
     "timestamp": 1751483907810,
     "user": {
      "displayName": "Suvinava Basak",
      "userId": "08195407941131229046"
     },
     "user_tz": -120
    },
    "id": "S2Du83XIJqm5",
    "outputId": "140d3dec-7d94-4b6b-e56c-4b135d097db2"
   },
   "outputs": [
    {
     "name": "stdout",
     "output_type": "stream",
     "text": [
      "Mounted at /content/drive/\n",
      "Reloaded train/val/test splits from CSV\n"
     ]
    }
   ],
   "source": [
    "from google.colab import drive\n",
    "# drive.mount('/content/drive/')\n",
    "drive.mount('/content/drive/', force_remount=True)\n",
    "\n",
    "WORKDIR = \"/content/drive/MyDrive/Colab Notebooks/Seminar-AMR/\"\n",
    "DATA_DIR = os.path.join(WORKDIR, \"data\")\n",
    "CODE_SOURCE_DIR = os.path.join(WORKDIR, \"src\")\n",
    "GENE_OUTPUT_DIR = os.path.join(DATA_DIR, \"genes\")\n",
    "RESULT_DIR = os.path.join(WORKDIR, \"results\")\n",
    "sys.path.append(WORKDIR)\n",
    "\n",
    "filename = os.path.join(RESULT_DIR, \"balanced_original_data.csv\")\n",
    "df_all = pd.read_csv(filename)\n",
    "\n",
    "df_train = df_all[df_all[\"split\"] == \"train\"]\n",
    "# df_val   = df_all[df_all[\"split\"] == \"val\"]\n",
    "df_test  = df_all[df_all[\"split\"] == \"test\"]\n",
    "\n",
    "seq_train, y_train = df_train[\"sequence\"].tolist(), df_train[\"label\"].tolist()\n",
    "# seq_val, y_val     = df_val[\"sequence\"].tolist(),   df_val[\"label\"].tolist()\n",
    "seq_test, y_test   = df_test[\"sequence\"].tolist(),  df_test[\"label\"].tolist()\n",
    "\n",
    "print(\"Reloaded train/val/test splits from CSV\")\n",
    "\n",
    "seq_train, seq_val, y_train, y_val = train_test_split(\n",
    "    seq_train, y_train, test_size=0.2, random_state=42, stratify=y_train\n",
    ")"
   ]
  },
  {
   "cell_type": "markdown",
   "metadata": {
    "id": "zkRTaOdss3yR"
   },
   "source": [
    "### **HANDLE TRAINING CLASS IMABALANCE (CLASS WEIGHTAGE)**"
   ]
  },
  {
   "cell_type": "code",
   "execution_count": 7,
   "metadata": {
    "colab": {
     "base_uri": "https://localhost:8080/"
    },
    "executionInfo": {
     "elapsed": 612,
     "status": "ok",
     "timestamp": 1751483930298,
     "user": {
      "displayName": "Suvinava Basak",
      "userId": "08195407941131229046"
     },
     "user_tz": -120
    },
    "id": "4sy5Sknss8QJ",
    "outputId": "aeb553c3-a330-41f7-8f55-1f9af71ee3c6"
   },
   "outputs": [
    {
     "name": "stdout",
     "output_type": "stream",
     "text": [
      "Class weights: Non-Resistant=1.800, Resistant=0.692\n",
      "Positive weight for BCE loss: 0.385\n"
     ]
    }
   ],
   "source": [
    "from sklearn.utils.class_weight import compute_class_weight\n",
    "\n",
    "class_weights = compute_class_weight('balanced', classes=np.unique(y_train), y=y_train)                               # Calculate class weights for imbalanced training data\n",
    "pos_weight = torch.tensor(class_weights[1] / class_weights[0], dtype=torch.float32).to(device)                        # We give higher weightage to minority class and lower weightage to majority class during loss calculation. We will use this weight while defining loss function criteria.\n",
    "\n",
    "print(f\"Class weights: Non-Resistant={class_weights[0]:.3f}, Resistant={class_weights[1]:.3f}\")\n",
    "print(f\"Positive weight for BCE loss: {pos_weight.item():.3f}\")"
   ]
  },
  {
   "cell_type": "markdown",
   "metadata": {
    "id": "C--cXVlZJvvK"
   },
   "source": [
    "### **CUSTOM FUNCTION FOR CLEANING GPU MEMORY**"
   ]
  },
  {
   "cell_type": "code",
   "execution_count": 8,
   "metadata": {
    "executionInfo": {
     "elapsed": 2,
     "status": "ok",
     "timestamp": 1751483935199,
     "user": {
      "displayName": "Suvinava Basak",
      "userId": "08195407941131229046"
     },
     "user_tz": -120
    },
    "id": "b3Nw3xBEJ0OJ"
   },
   "outputs": [],
   "source": [
    "def clean_gpu():\n",
    "    torch.cuda.empty_cache()\n",
    "    gc.collect()"
   ]
  },
  {
   "cell_type": "markdown",
   "metadata": {
    "id": "GLWyoOn7yZT-"
   },
   "source": [
    "## **SECTION: PRETRAINED TRANFORMER: DNABERT**"
   ]
  },
  {
   "cell_type": "markdown",
   "metadata": {
    "id": "cYVSaZ3sUC3M"
   },
   "source": [
    "### **DNABERT DATASET CLASS**"
   ]
  },
  {
   "cell_type": "code",
   "execution_count": 9,
   "metadata": {
    "colab": {
     "base_uri": "https://localhost:8080/"
    },
    "executionInfo": {
     "elapsed": 22,
     "status": "ok",
     "timestamp": 1751483939227,
     "user": {
      "displayName": "Suvinava Basak",
      "userId": "08195407941131229046"
     },
     "user_tz": -120
    },
    "id": "D8y7wwpfUCQE",
    "outputId": "cc59b666-a9ca-45fd-c326-11a0023aab11"
   },
   "outputs": [
    {
     "name": "stdout",
     "output_type": "stream",
     "text": [
      "DNABERTDataset class defined!\n"
     ]
    }
   ],
   "source": [
    "from torch.nn.utils.rnn import pad_sequence\n",
    "from transformers import AutoTokenizer\n",
    "\n",
    "class DNABERTDataset(Dataset):\n",
    "    \"\"\"Dataset for DNABERT models using transformers tokenizer\"\"\"\n",
    "\n",
    "    def __init__(self, sequences, labels, tokenizer, k=6, max_len=512):\n",
    "        self.sequences = sequences\n",
    "        self.labels = labels\n",
    "        self.tokenizer = tokenizer\n",
    "        self.k = k\n",
    "        self.max_len = max_len\n",
    "\n",
    "    def _validate_sequences(self):\n",
    "        \"\"\"Validate DNA sequences for common issues\"\"\"\n",
    "        valid_chars = set('ATCGN')\n",
    "        for i, seq in enumerate(self.sequences):\n",
    "            seq_upper = seq.upper()\n",
    "            invalid_chars = set(seq_upper) - valid_chars\n",
    "            if invalid_chars:\n",
    "                print(f\"Warning: Sequence {i} contains invalid characters: {invalid_chars}\")\n",
    "\n",
    "            if len(seq) < self.k:\n",
    "                print(f\"Warning: Sequence {i} is shorter than k={self.k}\")\n",
    "\n",
    "    def __len__(self):\n",
    "        return len(self.sequences)\n",
    "\n",
    "    def __getitem__(self, idx):\n",
    "        seq = self.sequences[idx].upper()\n",
    "        label = self.labels[idx]\n",
    "\n",
    "        kmers = self.generate_kmers(seq, self.k)                                # Generate k-mers with spaces for BERT tokenization\n",
    "        if not kmers:                                                           # Handle edge case of very short sequences\n",
    "            kmers = ['N' * self.k]                                              # Fallback k-mer\n",
    "        kmers_spaced = \" \".join(kmers)\n",
    "\n",
    "        # Tokenize the k-mer sequence\n",
    "        encoding = self.tokenizer(\n",
    "            kmers_spaced,\n",
    "            padding='max_length',\n",
    "            truncation=True,\n",
    "            max_length=self.max_len,\n",
    "            return_tensors='pt'\n",
    "        )\n",
    "\n",
    "        # Squeeze the batch dimension added by the tokenizer\n",
    "        input_ids = encoding['input_ids'].squeeze(0)\n",
    "        attention_mask = encoding['attention_mask'].squeeze(0)\n",
    "\n",
    "        return {\n",
    "            \"input_ids\": input_ids,\n",
    "            \"attention_mask\": attention_mask,\n",
    "            \"labels\": torch.tensor(label, dtype=torch.long)\n",
    "        }\n",
    "\n",
    "    @staticmethod\n",
    "    def generate_kmers(sequence, k=6):\n",
    "      return [sequence[i:i+k] for i in range(len(sequence) - k + 1)]\n",
    "\n",
    "print(\"DNABERTDataset class defined!\")"
   ]
  },
  {
   "cell_type": "markdown",
   "metadata": {
    "id": "_giRP1zAU2m1"
   },
   "source": [
    "### **DNABERT MODEL CLASS**"
   ]
  },
  {
   "cell_type": "code",
   "execution_count": 10,
   "metadata": {
    "colab": {
     "base_uri": "https://localhost:8080/"
    },
    "executionInfo": {
     "elapsed": 32,
     "status": "ok",
     "timestamp": 1751483943195,
     "user": {
      "displayName": "Suvinava Basak",
      "userId": "08195407941131229046"
     },
     "user_tz": -120
    },
    "id": "D3aSgCFKU559",
    "outputId": "961350cc-69d9-478b-8e97-5f913c2f9a33"
   },
   "outputs": [
    {
     "name": "stdout",
     "output_type": "stream",
     "text": [
      "DNABERTClassifier class defined!\n"
     ]
    }
   ],
   "source": [
    "from transformers import AutoTokenizer, AutoModel, AutoConfig\n",
    "\n",
    "class DNABERTClassifier(nn.Module):\n",
    "    def __init__(self, model_name=\"zhihan1996/DNA_bert_6\", num_classes=1, dropout=0.1, freeze_pretrained=False, pos_weight=None):\n",
    "        super(DNABERTClassifier, self).__init__()\n",
    "\n",
    "        print(f\"Loading DNABERT model: {model_name}\")\n",
    "        self.dnabert = AutoModel.from_pretrained(model_name)\n",
    "\n",
    "        if freeze_pretrained:\n",
    "            for param in self.dnabert.parameters():\n",
    "                param.requires_grad = False\n",
    "            print(\"Pretrained DNABERT parameters frozen!\")\n",
    "        else:\n",
    "            print(\"All DNABERT parameters will be fine-tuned (requires very low LR)!\")\n",
    "\n",
    "        config = AutoConfig.from_pretrained(model_name)                         # Get hidden size from config\n",
    "        hidden_size = config.hidden_size\n",
    "\n",
    "        # Classification head with dropout\n",
    "        self.dropout = nn.Dropout(dropout)\n",
    "        self.classifier = nn.Linear(hidden_size, num_classes)\n",
    "        # nn.init.normal_(self.classifier.weight, std=0.02)                     # Initialize classifier weights\n",
    "        # nn.init.zeros_(self.classifier.bias)\n",
    "\n",
    "        self.pos_weight = pos_weight                                            # Store pos_weight for loss calculation\n",
    "        if pos_weight is not None:\n",
    "            print(f\"Using class weight: {pos_weight.item():.4f}\")\n",
    "\n",
    "        print(f\"DNABERT loaded with hidden size: {hidden_size}\")\n",
    "\n",
    "        # Count trainable parameters\n",
    "        trainable_params = sum(p.numel() for p in self.parameters() if p.requires_grad)\n",
    "        total_params = sum(p.numel() for p in self.parameters())\n",
    "        print(f\"Trainable parameters: {trainable_params:,} / {total_params:,}\")\n",
    "\n",
    "    def forward(self, input_ids, attention_mask):\n",
    "        outputs = self.dnabert(input_ids=input_ids, attention_mask=attention_mask)\n",
    "\n",
    "        # Use [CLS] token representation (first token)\n",
    "        pooled_output = outputs.last_hidden_state[:, 0, :]  # [batch_size, hidden_size]\n",
    "\n",
    "        dropped_output = self.dropout(pooled_output)\n",
    "        logits = self.classifier(dropped_output)\n",
    "\n",
    "        return logits.squeeze(-1), pooled_output\n",
    "\n",
    "print(\"DNABERTClassifier class defined!\")"
   ]
  },
  {
   "cell_type": "markdown",
   "metadata": {
    "id": "wVYWVp05K__w"
   },
   "source": [
    "### **DNABERT MODEL CLASS WITH LoRA FOR PARAMETER-EFFICIENT FINE-TUNING**"
   ]
  },
  {
   "cell_type": "code",
   "execution_count": 11,
   "metadata": {
    "colab": {
     "base_uri": "https://localhost:8080/"
    },
    "executionInfo": {
     "elapsed": 6284,
     "status": "ok",
     "timestamp": 1751483951994,
     "user": {
      "displayName": "Suvinava Basak",
      "userId": "08195407941131229046"
     },
     "user_tz": -120
    },
    "id": "J5rXPyGELGnI",
    "outputId": "dd4201ce-4c2b-4255-df9e-25e92858ae9a"
   },
   "outputs": [
    {
     "name": "stdout",
     "output_type": "stream",
     "text": [
      "DNABERTLoRAClassifier class defined!\n"
     ]
    }
   ],
   "source": [
    "from peft import LoraConfig, get_peft_model, TaskType, PeftModel\n",
    "\n",
    "class DNABERTLoRAClassifier(nn.Module):\n",
    "    \"\"\"\n",
    "    DNABERT model with LoRA adapters for parameter-efficient fine-tuning\n",
    "    This approach freezes the base model and only trains LoRA adapters + classification head\n",
    "    \"\"\"\n",
    "    def __init__(self, model_name=\"zhihan1996/DNA_bert_6\", num_classes=1, dropout=0.1,\n",
    "                 lora_r=16, lora_alpha=32, lora_dropout=0.1, pos_weight=None):\n",
    "        super(DNABERTLoRAClassifier, self).__init__()\n",
    "\n",
    "        print(f\"Loading DNABERT model with LoRA: {model_name}\")\n",
    "\n",
    "        self.dnabert_lora = AutoModel.from_pretrained(model_name, trust_remote_code=True)\n",
    "\n",
    "        for param in self.dnabert_lora.parameters():                                                                      # Freeze all parameters first\n",
    "            param.requires_grad = False\n",
    "\n",
    "        peft_config = LoraConfig(\n",
    "            task_type=TaskType.FEATURE_EXTRACTION,\n",
    "            inference_mode=False,\n",
    "            r=lora_r,\n",
    "            lora_alpha=lora_alpha,\n",
    "            lora_dropout=lora_dropout,\n",
    "            target_modules=[\"query\", \"value\"]                                   # Apply LoRA to attention layers\n",
    "        )\n",
    "\n",
    "        self.dnabert_lora = get_peft_model(self.dnabert_lora, peft_config)      # Apply LoRA to the model\n",
    "\n",
    "        print(\"LoRA adapters added to DNABERT!\")\n",
    "\n",
    "        config = AutoConfig.from_pretrained(model_name, trust_remote_code=True) # Get hidden size from config\n",
    "        # config.use_flash_attention = False\n",
    "        hidden_size = config.hidden_size\n",
    "\n",
    "        # Classification head\n",
    "        self.dropout = nn.Dropout(dropout)\n",
    "        self.classifier = nn.Linear(hidden_size, num_classes)\n",
    "        nn.init.normal_(self.classifier.weight, std=0.02)                       # Initialize classifier weights\n",
    "        nn.init.zeros_(self.classifier.bias)\n",
    "\n",
    "        self.pos_weight = pos_weight                                            # Store pos_weight for loss calculation\n",
    "        if pos_weight is not None:\n",
    "            print(f\"Using class weight: {pos_weight.item():.4f}\")\n",
    "\n",
    "        print(f\"DNABERT + LoRA loaded with hidden size: {hidden_size}\")\n",
    "\n",
    "        # Count trainable parameters\n",
    "        trainable_params = sum(p.numel() for p in self.parameters() if p.requires_grad)\n",
    "        total_params = sum(p.numel() for p in self.parameters())\n",
    "        print(f\"Trainable parameters: {trainable_params:,} / {total_params:,}\")\n",
    "        print(f\"LoRA trainable parameters: {self.dnabert_lora.get_nb_trainable_parameters()}\")\n",
    "\n",
    "    def forward(self, input_ids, attention_mask):\n",
    "\n",
    "        outputs = self.dnabert_lora(input_ids=input_ids, attention_mask=attention_mask)                                   # Get DNABERT-2 outputs with LoRA\n",
    "        pooled_output = outputs.last_hidden_state[:, 0, :]                                                            # Use [CLS] token representation\n",
    "        dropped_output = self.dropout(pooled_output)                                                                   # Apply dropout and classification\n",
    "        logits = self.classifier(dropped_output)\n",
    "\n",
    "        return logits.squeeze(-1), pooled_output\n",
    "\n",
    "print(\"DNABERTLoRAClassifier class defined!\")"
   ]
  },
  {
   "cell_type": "markdown",
   "metadata": {
    "id": "n3p6o1xU_N0S"
   },
   "source": [
    "### **LOSS FUNCTION: MAX-MARGIN + FOCAL BCE**"
   ]
  },
  {
   "cell_type": "code",
   "execution_count": 12,
   "metadata": {
    "executionInfo": {
     "elapsed": 19,
     "status": "ok",
     "timestamp": 1751483955892,
     "user": {
      "displayName": "Suvinava Basak",
      "userId": "08195407941131229046"
     },
     "user_tz": -120
    },
    "id": "qjKQU3rn_Raz"
   },
   "outputs": [],
   "source": [
    "import torch.nn.functional as F\n",
    "\n",
    "def max_margin_loss(features, labels, margin=1.0, lambda_margin=0.1, temperature=0.1):\n",
    "    \"\"\"\n",
    "    Max-Margin Loss for LSRTM (Lightweight Self-Regularized Transformer Model) goes beyond standard classification losses\n",
    "    to enforce better geometric properties in the learned feature space.\n",
    "\n",
    "    Args:\n",
    "        features: [batch_size, embed_dim] - learned representations before classification\n",
    "        labels: [batch_size] - binary labels (0 or 1)\n",
    "        margin: minimum distance between different classes\n",
    "        lambda_margin: weight for margin loss component\n",
    "    \"\"\"\n",
    "\n",
    "    # Separate features by class\n",
    "    class_0_features = features[labels == 0]  # Non-resistant\n",
    "    class_1_features = features[labels == 1]  # Resistant\n",
    "\n",
    "    if len(class_0_features) == 0 or len(class_1_features) == 0:\n",
    "        return torch.tensor(0.0, device=features.device)\n",
    "\n",
    "    # Intra-class compactness (minimize within-class distances) with temperature scaling\n",
    "    intra_class_loss = 0.0\n",
    "\n",
    "    if len(class_0_features) > 1:\n",
    "        # Pairwise distances within class 0; Apply temperature scaling to make distances more sensitive\n",
    "        dist_0 = torch.pdist(class_0_features / temperature, p=2)       # Euclidean distance\n",
    "        intra_class_loss += dist_0.mean()\n",
    "\n",
    "    if len(class_1_features) > 1:\n",
    "        # Pairwise distances within class 1\n",
    "        dist_1 = torch.pdist(class_1_features / temperature, p=2)\n",
    "        intra_class_loss += dist_1.mean()\n",
    "\n",
    "    # Inter-class separability (maximize between-class distances)\n",
    "    # Compute centroids for each class\n",
    "    centroid_0 = class_0_features.mean(dim=0)  # [embed_dim]\n",
    "    centroid_1 = class_1_features.mean(dim=0)  # [embed_dim]\n",
    "\n",
    "    # Cosine similarity based margin (better for high-dim spaces)\n",
    "    cos_sim = F.cosine_similarity(centroid_0.unsqueeze(0), centroid_1.unsqueeze(0))\n",
    "    margin_loss = torch.clamp(cos_sim + margin, min=0.0)  # Want negative cosine similarity\n",
    "\n",
    "    # Additional: Minimize within-class variance\n",
    "    if len(class_0_features) > 1:\n",
    "        var_0 = torch.var(class_0_features, dim=0).mean()\n",
    "    else:\n",
    "        var_0 = 0.0\n",
    "\n",
    "    if len(class_1_features) > 1:\n",
    "        var_1 = torch.var(class_1_features, dim=0).mean()\n",
    "    else:\n",
    "        var_1 = 0.0\n",
    "\n",
    "    variance_loss = var_0 + var_1\n",
    "\n",
    "    total_loss = intra_class_loss + margin_loss + 0.1 * variance_loss\n",
    "    return lambda_margin * total_loss\n",
    "\n",
    "class FocalBCELoss(nn.Module):\n",
    "    def __init__(self, alpha=1.0, gamma=2.0, pos_weight=None):\n",
    "        super().__init__()\n",
    "        self.alpha = alpha\n",
    "        self.gamma = gamma\n",
    "        self.pos_weight = pos_weight\n",
    "\n",
    "    def forward(self, inputs, targets):\n",
    "        bce_loss = F.binary_cross_entropy_with_logits(\n",
    "            inputs, targets, pos_weight=self.pos_weight, reduction='none'\n",
    "        )\n",
    "        pt = torch.exp(-bce_loss)\n",
    "        focal_loss = self.alpha * (1-pt)**self.gamma * bce_loss\n",
    "        return focal_loss.mean()"
   ]
  },
  {
   "cell_type": "markdown",
   "metadata": {
    "id": "OXRx8yk8VdIO"
   },
   "source": [
    "### **DNABERT TRAINING FUNCTION**"
   ]
  },
  {
   "cell_type": "code",
   "execution_count": 13,
   "metadata": {
    "colab": {
     "base_uri": "https://localhost:8080/"
    },
    "executionInfo": {
     "elapsed": 32,
     "status": "ok",
     "timestamp": 1751483962903,
     "user": {
      "displayName": "Suvinava Basak",
      "userId": "08195407941131229046"
     },
     "user_tz": -120
    },
    "id": "1PqWb-b-VaaA",
    "outputId": "57a44689-0859-4975-deb8-896ec9e08e3f"
   },
   "outputs": [
    {
     "name": "stdout",
     "output_type": "stream",
     "text": [
      "DNABERT training function defined!\n"
     ]
    }
   ],
   "source": [
    "import torch.nn.functional as F\n",
    "import copy\n",
    "\n",
    "def train_dnabert_model(model, train_loader, val_loader, num_epochs=10, learning_rate=2e-5, device='cuda', pos_weight=None):\n",
    "    \"\"\"Train DNABERT model with early stopping\"\"\"\n",
    "\n",
    "    model.to(device)\n",
    "    if pos_weight is not None:\n",
    "        criterion = FocalBCELoss(alpha=1.0, gamma=2.0, pos_weight=pos_weight)\n",
    "        print(f\"Using Focal BCE loss with pos_weight: {pos_weight.item():.4f}\")\n",
    "    else:\n",
    "        criterion = nn.BCEWithLogitLoss() # Corrected typo here\n",
    "        print(\"Using standard BCE loss\")\n",
    "\n",
    "    # Different optimizers and learning rates for frozen vs fine-tuned\n",
    "    # Check if any parameters in the model require gradients (for both fine-tuning and LoRA)\n",
    "    if any(p.requires_grad for p in model.parameters()):\n",
    "        # Determine the base model attribute based on the model type\n",
    "        base_model_attribute = None\n",
    "        if hasattr(model, 'dnabert'):\n",
    "            base_model_attribute = model.dnabert\n",
    "            print(f\"Model type: DNABERTClassifier\")\n",
    "        elif hasattr(model, 'dnabert_lora'):\n",
    "            base_model_attribute = model.dnabert_lora\n",
    "            print(f\"Model type: DNABERTLoRAClassifier\")\n",
    "        else:\n",
    "            print(\"Warning: Unknown model type detected. Optimizing all trainable parameters.\")\n",
    "\n",
    "\n",
    "        if base_model_attribute is not None and any(p.requires_grad for p in base_model_attribute.parameters()):\n",
    "             optimizer = torch.optim.AdamW([\n",
    "                {'params': base_model_attribute.parameters(), 'lr': learning_rate * 0.1},  # 10x lower for pretrained/LoRA base\n",
    "                {'params': model.classifier.parameters(), 'lr': learning_rate}     # Normal for new layers\n",
    "            ], weight_decay=0.01)\n",
    "             print(f\"Fine-tuning/LoRA mode: Base LR={learning_rate*0.1:.2e}, Classifier LR={learning_rate:.2e}\")\n",
    "        else:\n",
    "             # Frozen: Only classifier parameters, can use higher learning rate\n",
    "            optimizer = torch.optim.AdamW(filter(lambda p: p.requires_grad, model.parameters()), lr=learning_rate, weight_decay=0.01)\n",
    "            print(f\"Frozen mode: Classifier LR={learning_rate:.2e}\")\n",
    "    else:\n",
    "        # Default case if no specific setup is detected, optimize all trainable parameters\n",
    "        optimizer = torch.optim.AdamW(filter(lambda p: p.requires_grad, model.parameters()), lr=learning_rate, weight_decay=0.01)\n",
    "        print(f\"General trainable parameters mode: LR={learning_rate:.2e}\")\n",
    "\n",
    "\n",
    "    scheduler = torch.optim.lr_scheduler.ReduceLROnPlateau(optimizer, mode='min', factor=0.3, patience=4, verbose=True, min_lr=1e-7)\n",
    "\n",
    "    best_val_f1 = -1\n",
    "    best_model_state = None\n",
    "    patience_counter = 0\n",
    "    patience = 7\n",
    "\n",
    "    history = {\n",
    "        \"train_loss\": [], \"val_loss\": [],\n",
    "        \"train_accuracy\": [], \"train_precision\": [], \"train_recall\": [], \"train_f1\": [], \"train_roc_auc\": [],\n",
    "        \"val_accuracy\": [], \"val_precision\": [], \"val_recall\": [], \"val_f1\": [], \"val_roc_auc\": [],\n",
    "        \"learning_rate\": []\n",
    "    }\n",
    "\n",
    "    for epoch in range(num_epochs):\n",
    "        # Training phase\n",
    "        model.train()\n",
    "        train_loss = 0.0\n",
    "        total_bce_loss = 0.0\n",
    "        total_margin_loss = 0.0\n",
    "        train_batches = 0\n",
    "\n",
    "        loop = tqdm(train_loader, desc=\"Training\", leave=False)\n",
    "        for batch in loop:\n",
    "            input_ids = batch[\"input_ids\"].to(device)\n",
    "            attention_mask = batch[\"attention_mask\"].to(device)\n",
    "            labels = batch[\"labels\"].float().to(device)\n",
    "\n",
    "            optimizer.zero_grad()\n",
    "            logits, features = model(input_ids, attention_mask)\n",
    "            bce_loss = criterion(logits, labels)\n",
    "            margin_loss = max_margin_loss(features, labels.long(), margin=1.0, lambda_margin=0.1)\n",
    "            total_loss = bce_loss + margin_loss\n",
    "            total_loss.backward()\n",
    "            torch.nn.utils.clip_grad_norm_(model.parameters(), max_norm=1.0)\n",
    "            optimizer.step()\n",
    "\n",
    "            train_loss += total_loss.item() * input_ids.size(0)\n",
    "            total_bce_loss += bce_loss.item() * input_ids.size(0)\n",
    "            total_margin_loss += margin_loss.item() * input_ids.size(0)\n",
    "            # loop.set_postfix(loss=total_loss_batch.item())\n",
    "            train_batches += 1\n",
    "\n",
    "\n",
    "        if train_batches > 0: # Prevent division by zero if train_loader is empty\n",
    "            avg_train_loss = train_loss / train_batches\n",
    "            avg_bce_loss = total_bce_loss / train_batches\n",
    "            avg_margin_loss = total_margin_loss / train_batches\n",
    "        else:\n",
    "            avg_train_loss = 0.0\n",
    "            avg_bce_loss = 0.0\n",
    "            avg_margin_loss = 0.0\n",
    "\n",
    "\n",
    "        print(f\"Train Loss -- Total: {avg_train_loss:.4f}, BCE: {avg_bce_loss:.4f}, Margin: {avg_margin_loss:.4f}\")\n",
    "\n",
    "        # Evaluation phase\n",
    "        train_acc, train_prec, train_rec, train_f1, _, _, _, _ = eval_model_dnabert(model, train_loader, device)\n",
    "        val_acc, val_prec, val_rec, val_f1, val_roc_auc, _, _, _ = eval_model_dnabert(model, val_loader, device)\n",
    "        val_loss = test_loss_calc_dnabert(model, val_loader, criterion, device)\n",
    "\n",
    "        # Store metrics\n",
    "        history[\"train_loss\"].append(avg_train_loss)\n",
    "        history[\"val_loss\"].append(val_loss)\n",
    "        history[\"train_accuracy\"].append(train_acc)\n",
    "        history[\"train_precision\"].append(train_prec)\n",
    "        history[\"train_recall\"].append(train_rec)\n",
    "        history[\"train_f1\"].append(train_f1)\n",
    "        history[\"val_accuracy\"].append(val_acc)\n",
    "        history[\"val_precision\"].append(val_prec)\n",
    "        history[\"val_recall\"].append(val_rec)\n",
    "        history[\"val_f1\"].append(val_f1)\n",
    "        history[\"val_roc_auc\"].append(val_roc_auc)\n",
    "        history[\"learning_rate\"].append(optimizer.param_groups[0]['lr'])\n",
    "\n",
    "        # Get current learning rate (might be different for different param groups)\n",
    "        current_lr = max([group['lr'] for group in optimizer.param_groups])\n",
    "        history[\"learning_rate\"].append(current_lr)\n",
    "\n",
    "        # Learning rate scheduling\n",
    "        scheduler.step(val_loss)\n",
    "\n",
    "        # Early stopping\n",
    "        if val_f1 > best_val_f1:\n",
    "            best_val_f1 = val_f1\n",
    "            patience_counter = 0\n",
    "            best_model_state = copy.deepcopy(model.state_dict())\n",
    "            print(f\"✅ New best validation F1: {val_f1:.4f}\")\n",
    "        else:\n",
    "            patience_counter += 1\n",
    "\n",
    "        print(f\"Epoch {epoch+1:2d}/{num_epochs}: Val Accuracy: {val_acc:.4f}, Val Precision: {val_prec:.4f}, Val Recall: {val_rec:.4f}, Val F1: {val_f1:.4f}, Val ROC-AUC: {val_roc_auc:.4f}\")\n",
    "\n",
    "        # if train_loss > 10.0:\n",
    "        #     print(\"Training loss explosion detected! Stopping early.\")\n",
    "        #     break\n",
    "\n",
    "        # if patience_counter >= patience:\n",
    "        #     print(f\"Early stopping triggered at epoch {epoch+1}\")\n",
    "        #     break\n",
    "\n",
    "    # Load best model\n",
    "    model.load_state_dict(best_model_state)\n",
    "    return model, history\n",
    "\n",
    "print(\"DNABERT training function defined!\")"
   ]
  },
  {
   "cell_type": "markdown",
   "metadata": {
    "id": "WJeTiDD9VrHe"
   },
   "source": [
    "### **DNABERT EVALUATION HELPER FUNCTION**"
   ]
  },
  {
   "cell_type": "code",
   "execution_count": 14,
   "metadata": {
    "colab": {
     "base_uri": "https://localhost:8080/"
    },
    "executionInfo": {
     "elapsed": 32,
     "status": "ok",
     "timestamp": 1751483965807,
     "user": {
      "displayName": "Suvinava Basak",
      "userId": "08195407941131229046"
     },
     "user_tz": -120
    },
    "id": "ytBd8U5CVmrM",
    "outputId": "bc830b04-38bd-4db5-fea2-99e5a1e1c1ea"
   },
   "outputs": [
    {
     "name": "stdout",
     "output_type": "stream",
     "text": [
      "Evaluation functions with threshold optimization!\n",
      "DNABERT evaluation helper functions defined!\n"
     ]
    }
   ],
   "source": [
    "def eval_model_dnabert(model, dataloader, device, optimal_threshold=None):\n",
    "    \"\"\"Evaluate DNABERT model\"\"\"\n",
    "    model.eval()\n",
    "    preds = []\n",
    "    probs_all = []\n",
    "    targets = []\n",
    "\n",
    "    with torch.no_grad():\n",
    "        for batch in dataloader:\n",
    "            input_ids = batch[\"input_ids\"].to(device)\n",
    "            attention_mask = batch[\"attention_mask\"].to(device)\n",
    "            labels = batch[\"labels\"].to(device)\n",
    "\n",
    "            logits, _ = model(input_ids, attention_mask)\n",
    "            probs = torch.sigmoid(logits)\n",
    "\n",
    "            probs_all.extend(probs.cpu().numpy())\n",
    "            targets.extend(labels.cpu().numpy())\n",
    "\n",
    "    # Convert to numpy arrays\n",
    "    probs_all = np.array(probs_all)\n",
    "    targets = np.array(targets)\n",
    "\n",
    "    # Find optimal threshold using the targets and probs from the dataloader\n",
    "    optimal_threshold, _ = find_optimal_threshold(targets, probs_all) # Pass numpy arrays\n",
    "\n",
    "    # Use optimal threshold if provided, otherwise 0.5\n",
    "    threshold = optimal_threshold if optimal_threshold is not None else 0.5\n",
    "    preds = (probs_all > threshold).astype(int)\n",
    "\n",
    "    # Calculate metrics\n",
    "    acc = accuracy_score(targets, preds)\n",
    "    prec = precision_score(targets, preds, zero_division=0)\n",
    "    rec = recall_score(targets, preds, zero_division=0)\n",
    "    f1 = f1_score(targets, preds, zero_division=0)\n",
    "\n",
    "    try:\n",
    "        roc_auc = roc_auc_score(targets, probs_all)\n",
    "    except ValueError as e:\n",
    "        print(f\"ROC-AUC calculation failed: {e}\")\n",
    "        roc_auc = 0.0\n",
    "\n",
    "    return acc, prec, rec, f1, roc_auc, preds, targets, probs_all\n",
    "\n",
    "def find_optimal_threshold(targets, probs): # probs should be a numpy array\n",
    "    \"\"\"Find optimal threshold using F1 score\"\"\"\n",
    "    thresholds = np.arange(0.1, 0.9, 0.05)\n",
    "    best_f1 = 0\n",
    "    best_threshold = 0.5\n",
    "\n",
    "    for threshold in thresholds:\n",
    "        preds = (probs > threshold).astype(int) # probs is now numpy array\n",
    "        f1 = f1_score(targets, preds, zero_division=0)\n",
    "        if f1 > best_f1:\n",
    "            best_f1 = f1\n",
    "            best_threshold = threshold\n",
    "\n",
    "    return best_threshold, best_f1\n",
    "\n",
    "print(\"Evaluation functions with threshold optimization!\")\n",
    "\n",
    "def test_loss_calc_dnabert(model, dataloader, criterion, device):\n",
    "    \"\"\"Calculate test loss for DNABERT model\"\"\"\n",
    "    model.eval()\n",
    "    total_loss = 0.0\n",
    "    total_bce_loss = 0.0\n",
    "    total_margin_loss = 0.0\n",
    "    num_batches = 0\n",
    "\n",
    "    with torch.no_grad():\n",
    "        for batch in dataloader:\n",
    "            input_ids = batch[\"input_ids\"].to(device)\n",
    "            attention_mask = batch[\"attention_mask\"].to(device)\n",
    "            labels = batch[\"labels\"].float().to(device)\n",
    "\n",
    "            logits, features = model(input_ids, attention_mask)\n",
    "\n",
    "            bce_loss = criterion(logits, labels)\n",
    "            margin_loss = max_margin_loss(features, labels.long(), margin=1.0, lambda_margin=0.1)\n",
    "            loss = bce_loss + margin_loss\n",
    "\n",
    "            total_loss += loss.item() * input_ids.size(0)\n",
    "            total_bce_loss += bce_loss.item() * input_ids.size(0)\n",
    "            total_margin_loss += margin_loss.item() * input_ids.size(0)\n",
    "            num_batches += 1\n",
    "\n",
    "    avg_total_loss = total_loss / num_batches\n",
    "    avg_bce_loss = total_bce_loss / num_batches\n",
    "    avg_margin_loss = total_margin_loss / num_batches\n",
    "\n",
    "    print(f\"Val Loss -- Total: {avg_total_loss:.4f}, BCE: {avg_bce_loss:.4f}, Margin: {avg_margin_loss:.4f}\")\n",
    "    return avg_total_loss\n",
    "\n",
    "print(\"DNABERT evaluation helper functions defined!\")"
   ]
  },
  {
   "cell_type": "markdown",
   "metadata": {
    "id": "BUPsrOu4fN7W"
   },
   "source": [
    "### **CALCULATE CLASS WEIGHTS**"
   ]
  },
  {
   "cell_type": "code",
   "execution_count": 15,
   "metadata": {
    "colab": {
     "base_uri": "https://localhost:8080/"
    },
    "executionInfo": {
     "elapsed": 36,
     "status": "ok",
     "timestamp": 1751483970581,
     "user": {
      "displayName": "Suvinava Basak",
      "userId": "08195407941131229046"
     },
     "user_tz": -120
    },
    "id": "SuLZwxa8fQul",
    "outputId": "e2c4ebb8-c746-4822-c499-d597e5caeac9"
   },
   "outputs": [
    {
     "name": "stdout",
     "output_type": "stream",
     "text": [
      "Class weight calculation function defined!\n"
     ]
    }
   ],
   "source": [
    "from sklearn.utils.class_weight import compute_class_weight\n",
    "\n",
    "def calculate_class_weights(labels):\n",
    "    \"\"\"Calculate class weights for imbalanced dataset\"\"\"\n",
    "    labels_array = np.array(labels)\n",
    "\n",
    "    # Count classes\n",
    "    unique, counts = np.unique(labels_array, return_counts=True)\n",
    "    print(f\"Class distribution: {dict(zip(unique, counts))}\")\n",
    "\n",
    "    class_weights = compute_class_weight('balanced', classes=unique, y=labels)                                            # Calculate class weights for imbalanced training data\n",
    "    pos_weight = torch.tensor(class_weights[1] / class_weights[0], dtype=torch.float32).to(device)                        # We give higher weightage to minority class and lower weightage to majority class during loss calculation. We will use this weight while defining loss function criteria.\n",
    "\n",
    "    print(f\"Class weights: Non-Resistant={class_weights[0]:.3f}, Resistant={class_weights[1]:.3f}\")\n",
    "    print(f\"Positive weight for BCE loss: {pos_weight.item():.3f}\")\n",
    "\n",
    "    return pos_weight\n",
    "\n",
    "print(\"Class weight calculation function defined!\")"
   ]
  },
  {
   "cell_type": "markdown",
   "metadata": {
    "id": "24zhaJnfWLmL"
   },
   "source": [
    "### **INITIALIZE DNABERT TOKENIZER AND CREATE CV FOLDS**"
   ]
  },
  {
   "cell_type": "code",
   "execution_count": 16,
   "metadata": {
    "colab": {
     "base_uri": "https://localhost:8080/",
     "height": 256,
     "referenced_widgets": [
      "e5caaa7e528d40968459163442f364d6",
      "f7dcb83a6b9a49d9971a113885d1d8bc",
      "23625fc363784ad9ace3eb0b2be00766",
      "35b2b15a0b86447cb57fee4242ea2271",
      "214d7354e5944931b8bb48e4663c9598",
      "cbdc741e3a54416f8877b3d27a1de277",
      "8b5219a7a6da48cf9c0f27ab3be97818",
      "3710cc83e9c44bfca50304d8a3aa1370",
      "8126439b189d42fc89e2f4ed1a5cca11",
      "1f446d2573244b6ab0499d09df732ef5",
      "a7c3a1bf72924c3288b13f90f410b1c9",
      "80f98b07504942b094c84e2091c97bcf",
      "c80c47d5541943209b75a1e8271274bc",
      "6b99517d1369460bb97d64ce391a74aa",
      "34a43878566b4b06a1d9c1f1df1245ef",
      "c062ec7a6c8f458aa0f13b8d8d520ada",
      "522f3ea6b021462fa029fc404cc5563f",
      "0d95821c2ebf411bba3b9f574951beba",
      "5229c0e5ba5449069ecf7584319c165a",
      "92b69de181c4457096105685c95f37a8",
      "30bf71bb968d4cada4acb79a7f99fcc0",
      "7da3f159363246e1bc104fede33d3106",
      "87f50477a4a045d08999cb89e3263f7d",
      "ba57beb6d744466e813e31973a8895b8",
      "0c4c50e6c9e649b5ba1d2d427b7dc2d7",
      "a690bfbb9ae9421096c4f4e01acb41a6",
      "a7685210646d4bf1a82f678d9f29cb67",
      "7d234b706c464c7a91bcf02377852505",
      "160f437035bd4439a35b2efae25a2026",
      "fc8ffd59cccc42cfb9c45ed73c5a61e2",
      "8560f08d81bb46af914ce94aab5968d9",
      "81c5447423e44cf6bffdbfa73955968f",
      "5c27ce1e885d4753a30b80265e36f8df",
      "eaa9ead700ea4f08907d730387c06637",
      "6984e5b1e0e14c3ca357917741b2acb4",
      "33adb26106104d77bf2f4ab458a7d276",
      "0881bcceeef74abb896d738ded6b2cf4",
      "07ed41f760624e43b05b9771e9ccf3d0",
      "8463df13f5364e58a0c1f57134a5258b",
      "a0f90f7bcd4948bd880d5c919f0dcbd9",
      "c9182c33b3c2419e98882f76901a257c",
      "04a6e1579bda45bcb3f5b25eaaedb75b",
      "47e28536cdf34d63a418756ca75cb8e8",
      "2ccaa00cfbcc4086b5146d7ea2112977"
     ]
    },
    "executionInfo": {
     "elapsed": 1436,
     "status": "ok",
     "timestamp": 1751483978003,
     "user": {
      "displayName": "Suvinava Basak",
      "userId": "08195407941131229046"
     },
     "user_tz": -120
    },
    "id": "e95hKGLuVuVZ",
    "outputId": "4915c18b-276b-4e63-f869-6667f2693d9d"
   },
   "outputs": [
    {
     "name": "stdout",
     "output_type": "stream",
     "text": [
      "Loading DNABERT tokenizer...\n"
     ]
    },
    {
     "data": {
      "application/vnd.jupyter.widget-view+json": {
       "model_id": "e5caaa7e528d40968459163442f364d6",
       "version_major": 2,
       "version_minor": 0
      },
      "text/plain": [
       "tokenizer_config.json:   0%|          | 0.00/40.0 [00:00<?, ?B/s]"
      ]
     },
     "metadata": {},
     "output_type": "display_data"
    },
    {
     "data": {
      "application/vnd.jupyter.widget-view+json": {
       "model_id": "80f98b07504942b094c84e2091c97bcf",
       "version_major": 2,
       "version_minor": 0
      },
      "text/plain": [
       "config.json: 0.00B [00:00, ?B/s]"
      ]
     },
     "metadata": {},
     "output_type": "display_data"
    },
    {
     "data": {
      "application/vnd.jupyter.widget-view+json": {
       "model_id": "87f50477a4a045d08999cb89e3263f7d",
       "version_major": 2,
       "version_minor": 0
      },
      "text/plain": [
       "vocab.txt: 0.00B [00:00, ?B/s]"
      ]
     },
     "metadata": {},
     "output_type": "display_data"
    },
    {
     "data": {
      "application/vnd.jupyter.widget-view+json": {
       "model_id": "eaa9ead700ea4f08907d730387c06637",
       "version_major": 2,
       "version_minor": 0
      },
      "text/plain": [
       "special_tokens_map.json:   0%|          | 0.00/112 [00:00<?, ?B/s]"
      ]
     },
     "metadata": {},
     "output_type": "display_data"
    },
    {
     "name": "stdout",
     "output_type": "stream",
     "text": [
      "DNABERT tokenizer loaded!\n",
      "Tokenizer vocab size: 4101\n",
      "Class distribution: {np.int64(0): np.int64(30), np.int64(1): np.int64(78)}\n",
      "Class weights: Non-Resistant=1.800, Resistant=0.692\n",
      "Positive weight for BCE loss: 0.385\n"
     ]
    }
   ],
   "source": [
    "# Initialize DNABERT tokenizer\n",
    "print(\"Loading DNABERT tokenizer...\")\n",
    "dnabert_tokenizer = AutoTokenizer.from_pretrained(\"zhihan1996/DNA_bert_6\")\n",
    "print(\"DNABERT tokenizer loaded!\")\n",
    "\n",
    "print(f\"Tokenizer vocab size: {len(dnabert_tokenizer)}\")\n",
    "\n",
    "batch_size = 4\n",
    "\n",
    "train_dataset = DNABERTDataset(seq_train, y_train, dnabert_tokenizer, k=6, max_len=512)\n",
    "val_dataset = DNABERTDataset(seq_val, y_val, dnabert_tokenizer, k=6, max_len=512)\n",
    "\n",
    "train_loader = DataLoader(train_dataset, batch_size=batch_size, shuffle=True)\n",
    "val_loader = DataLoader(val_dataset, batch_size=batch_size, shuffle=False)\n",
    "\n",
    "pos_weight = calculate_class_weights(y_train)"
   ]
  },
  {
   "cell_type": "markdown",
   "metadata": {
    "id": "h571FOFaXAFD"
   },
   "source": [
    "### **DNABERT (FINE-TUNED)**"
   ]
  },
  {
   "cell_type": "code",
   "execution_count": 17,
   "metadata": {
    "colab": {
     "base_uri": "https://localhost:8080/",
     "height": 1000,
     "referenced_widgets": [
      "86c79b08c47f4e2baca7c519afa9c58d",
      "57bad4bb63f8495d880252cec44172ae",
      "11498b55fd004f32952160054cd6f2b1",
      "53044f80a18d43de9b0a0915a103d015",
      "be29717c09e94d16a488f85877509e6e",
      "e445cc3656c84ad0979035b0526c5b38",
      "e8fc22e363574829bc5204e45dbc87a6",
      "8f9db6dcb9b7444891fb3febccbd0907",
      "d48cd85a25d74a849f3283332d23f79e",
      "6d8f89dd2ee746e3a12921f5c8a49afb",
      "adb2e210f1c045c19e6087b99b7e3ac3",
      "9004973c536e4521b96fbd5bcb6b290e",
      "4fded5d9b28e41a38ef60d6bf31f5126",
      "96295018e17d4c3485f08f2cf8d0c67c",
      "d89c5698357042d28708e39edba8bdd5",
      "a5ef614bf09b4129879245540c1bc432",
      "ec44fefab7194fd3949bffbab3785367",
      "80207aadd5b447bfb85398f923f32e3c",
      "c91288390aac4bdbb49c1224646b32b1",
      "8064cc8f14c142608a7b666c36196843",
      "89ff014109594b8797377d18f8b23061",
      "382fc78f4d0648cc9b593475f0191c59"
     ]
    },
    "executionInfo": {
     "elapsed": 513656,
     "status": "ok",
     "timestamp": 1751484503105,
     "user": {
      "displayName": "Suvinava Basak",
      "userId": "08195407941131229046"
     },
     "user_tz": -120
    },
    "id": "2vb0MJXrWQZZ",
    "outputId": "ddc1db8a-9800-4b5f-e02b-1668516ade2f"
   },
   "outputs": [
    {
     "name": "stdout",
     "output_type": "stream",
     "text": [
      "============================================================\n",
      "TRAINING DNABERT (FINE-TUNED, SINGLE SPLIT)\n",
      "============================================================\n",
      "Loading DNABERT model: zhihan1996/DNA_bert_6\n"
     ]
    },
    {
     "data": {
      "application/vnd.jupyter.widget-view+json": {
       "model_id": "86c79b08c47f4e2baca7c519afa9c58d",
       "version_major": 2,
       "version_minor": 0
      },
      "text/plain": [
       "pytorch_model.bin:   0%|          | 0.00/359M [00:00<?, ?B/s]"
      ]
     },
     "metadata": {},
     "output_type": "display_data"
    },
    {
     "name": "stdout",
     "output_type": "stream",
     "text": [
      "All DNABERT parameters will be fine-tuned (requires very low LR)!\n",
      "Using class weight: 0.3846\n",
      "DNABERT loaded with hidden size: 768\n",
      "Trainable parameters: 89,191,681 / 89,191,681\n",
      "Training DNABERT (Fine-tuned)...\n",
      "Using Focal BCE loss with pos_weight: 0.3846\n",
      "Model type: DNABERTClassifier\n",
      "Fine-tuning/LoRA mode: Base LR=5.00e-07, Classifier LR=5.00e-06\n"
     ]
    },
    {
     "name": "stderr",
     "output_type": "stream",
     "text": [
      "\r",
      "Training:   0%|          | 0/27 [00:00<?, ?it/s]"
     ]
    },
    {
     "data": {
      "application/vnd.jupyter.widget-view+json": {
       "model_id": "9004973c536e4521b96fbd5bcb6b290e",
       "version_major": 2,
       "version_minor": 0
      },
      "text/plain": [
       "model.safetensors:   0%|          | 0.00/359M [00:00<?, ?B/s]"
      ]
     },
     "metadata": {},
     "output_type": "display_data"
    },
    {
     "name": "stderr",
     "output_type": "stream",
     "text": []
    },
    {
     "name": "stdout",
     "output_type": "stream",
     "text": [
      "Train Loss -- Total: 103.2771, BCE: 0.2811, Margin: 102.9960\n",
      "Val Loss -- Total: 81.3382, BCE: 0.1580, Margin: 81.1802\n",
      "✅ New best validation F1: 0.8511\n",
      "Epoch  1/30: Val Accuracy: 0.7407, Val Precision: 0.7407, Val Recall: 1.0000, Val F1: 0.8511, Val ROC-AUC: 0.6929\n"
     ]
    },
    {
     "name": "stderr",
     "output_type": "stream",
     "text": []
    },
    {
     "name": "stdout",
     "output_type": "stream",
     "text": [
      "Train Loss -- Total: 130.0517, BCE: 0.2571, Margin: 129.7945\n",
      "Val Loss -- Total: 80.6236, BCE: 0.1604, Margin: 80.4633\n",
      "✅ New best validation F1: 0.9302\n",
      "Epoch  2/30: Val Accuracy: 0.8889, Val Precision: 0.8696, Val Recall: 1.0000, Val F1: 0.9302, Val ROC-AUC: 0.6929\n"
     ]
    },
    {
     "name": "stderr",
     "output_type": "stream",
     "text": []
    },
    {
     "name": "stdout",
     "output_type": "stream",
     "text": [
      "Train Loss -- Total: 123.3818, BCE: 0.3093, Margin: 123.0725\n",
      "Val Loss -- Total: 78.3237, BCE: 0.1625, Margin: 78.1611\n",
      "Epoch  3/30: Val Accuracy: 0.7407, Val Precision: 0.7407, Val Recall: 1.0000, Val F1: 0.8511, Val ROC-AUC: 0.6929\n"
     ]
    },
    {
     "name": "stderr",
     "output_type": "stream",
     "text": []
    },
    {
     "name": "stdout",
     "output_type": "stream",
     "text": [
      "Train Loss -- Total: 116.3333, BCE: 0.2431, Margin: 116.0903\n",
      "Val Loss -- Total: 76.9821, BCE: 0.1650, Margin: 76.8171\n",
      "Epoch  4/30: Val Accuracy: 0.7407, Val Precision: 0.7407, Val Recall: 1.0000, Val F1: 0.8511, Val ROC-AUC: 0.7143\n"
     ]
    },
    {
     "name": "stderr",
     "output_type": "stream",
     "text": []
    },
    {
     "name": "stdout",
     "output_type": "stream",
     "text": [
      "Train Loss -- Total: 111.6535, BCE: 0.3108, Margin: 111.3427\n",
      "Val Loss -- Total: 76.0493, BCE: 0.1675, Margin: 75.8818\n",
      "Epoch  5/30: Val Accuracy: 0.7407, Val Precision: 0.7407, Val Recall: 1.0000, Val F1: 0.8511, Val ROC-AUC: 0.7143\n"
     ]
    },
    {
     "name": "stderr",
     "output_type": "stream",
     "text": []
    },
    {
     "name": "stdout",
     "output_type": "stream",
     "text": [
      "Train Loss -- Total: 113.5526, BCE: 0.3291, Margin: 113.2235\n",
      "Val Loss -- Total: 75.9698, BCE: 0.1737, Margin: 75.7961\n",
      "Epoch  6/30: Val Accuracy: 0.8148, Val Precision: 0.8571, Val Recall: 0.9000, Val F1: 0.8780, Val ROC-AUC: 0.7429\n"
     ]
    },
    {
     "name": "stderr",
     "output_type": "stream",
     "text": []
    },
    {
     "name": "stdout",
     "output_type": "stream",
     "text": [
      "Train Loss -- Total: 112.0233, BCE: 0.3148, Margin: 111.7085\n",
      "Val Loss -- Total: 74.9711, BCE: 0.1829, Margin: 74.7882\n",
      "Epoch  7/30: Val Accuracy: 0.8889, Val Precision: 0.8696, Val Recall: 1.0000, Val F1: 0.9302, Val ROC-AUC: 0.7143\n"
     ]
    },
    {
     "name": "stderr",
     "output_type": "stream",
     "text": []
    },
    {
     "name": "stdout",
     "output_type": "stream",
     "text": [
      "Train Loss -- Total: 117.3319, BCE: 0.2758, Margin: 117.0561\n",
      "Val Loss -- Total: 73.8215, BCE: 0.1885, Margin: 73.6331\n",
      "Epoch  8/30: Val Accuracy: 0.7407, Val Precision: 0.7407, Val Recall: 1.0000, Val F1: 0.8511, Val ROC-AUC: 0.6357\n"
     ]
    },
    {
     "name": "stderr",
     "output_type": "stream",
     "text": []
    },
    {
     "name": "stdout",
     "output_type": "stream",
     "text": [
      "Train Loss -- Total: 92.4646, BCE: 0.3264, Margin: 92.1381\n",
      "Val Loss -- Total: 72.5398, BCE: 0.1966, Margin: 72.3432\n",
      "Epoch  9/30: Val Accuracy: 0.7407, Val Precision: 0.7407, Val Recall: 1.0000, Val F1: 0.8511, Val ROC-AUC: 0.5643\n"
     ]
    },
    {
     "name": "stderr",
     "output_type": "stream",
     "text": []
    },
    {
     "name": "stdout",
     "output_type": "stream",
     "text": [
      "Train Loss -- Total: 103.6410, BCE: 0.4549, Margin: 103.1861\n",
      "Val Loss -- Total: 71.1080, BCE: 0.2060, Margin: 70.9020\n",
      "Epoch 10/30: Val Accuracy: 0.7407, Val Precision: 0.7407, Val Recall: 1.0000, Val F1: 0.8511, Val ROC-AUC: 0.5286\n"
     ]
    },
    {
     "name": "stderr",
     "output_type": "stream",
     "text": []
    },
    {
     "name": "stdout",
     "output_type": "stream",
     "text": [
      "Train Loss -- Total: 103.0479, BCE: 0.4390, Margin: 102.6089\n",
      "Val Loss -- Total: 68.7657, BCE: 0.2175, Margin: 68.5482\n",
      "Epoch 11/30: Val Accuracy: 0.7407, Val Precision: 0.7407, Val Recall: 1.0000, Val F1: 0.8511, Val ROC-AUC: 0.6286\n"
     ]
    },
    {
     "name": "stderr",
     "output_type": "stream",
     "text": []
    },
    {
     "name": "stdout",
     "output_type": "stream",
     "text": [
      "Train Loss -- Total: 92.8847, BCE: 0.4332, Margin: 92.4514\n",
      "Val Loss -- Total: 66.4475, BCE: 0.2444, Margin: 66.2031\n",
      "Epoch 12/30: Val Accuracy: 0.7407, Val Precision: 0.7407, Val Recall: 1.0000, Val F1: 0.8511, Val ROC-AUC: 0.6357\n"
     ]
    },
    {
     "name": "stderr",
     "output_type": "stream",
     "text": []
    },
    {
     "name": "stdout",
     "output_type": "stream",
     "text": [
      "Train Loss -- Total: 88.4121, BCE: 0.4505, Margin: 87.9615\n",
      "Val Loss -- Total: 62.0614, BCE: 0.2666, Margin: 61.7947\n",
      "Epoch 13/30: Val Accuracy: 0.7407, Val Precision: 0.7407, Val Recall: 1.0000, Val F1: 0.8511, Val ROC-AUC: 0.6643\n"
     ]
    },
    {
     "name": "stderr",
     "output_type": "stream",
     "text": []
    },
    {
     "name": "stdout",
     "output_type": "stream",
     "text": [
      "Train Loss -- Total: 71.4784, BCE: 0.6991, Margin: 70.7793\n",
      "Val Loss -- Total: 55.9317, BCE: 0.3193, Margin: 55.6123\n",
      "Epoch 14/30: Val Accuracy: 0.7407, Val Precision: 0.7407, Val Recall: 1.0000, Val F1: 0.8511, Val ROC-AUC: 0.7000\n"
     ]
    },
    {
     "name": "stderr",
     "output_type": "stream",
     "text": []
    },
    {
     "name": "stdout",
     "output_type": "stream",
     "text": [
      "Train Loss -- Total: 99.5566, BCE: 0.4956, Margin: 99.0610\n",
      "Val Loss -- Total: 47.4249, BCE: 0.3776, Margin: 47.0473\n",
      "Epoch 15/30: Val Accuracy: 0.7407, Val Precision: 0.7407, Val Recall: 1.0000, Val F1: 0.8511, Val ROC-AUC: 0.6214\n"
     ]
    },
    {
     "name": "stderr",
     "output_type": "stream",
     "text": []
    },
    {
     "name": "stdout",
     "output_type": "stream",
     "text": [
      "Train Loss -- Total: 67.8098, BCE: 0.6236, Margin: 67.1862\n",
      "Val Loss -- Total: 40.8206, BCE: 0.4165, Margin: 40.4041\n",
      "Epoch 16/30: Val Accuracy: 0.7407, Val Precision: 0.7407, Val Recall: 1.0000, Val F1: 0.8511, Val ROC-AUC: 0.4857\n"
     ]
    },
    {
     "name": "stderr",
     "output_type": "stream",
     "text": []
    },
    {
     "name": "stdout",
     "output_type": "stream",
     "text": [
      "Train Loss -- Total: 68.2363, BCE: 0.6249, Margin: 67.6114\n",
      "Val Loss -- Total: 34.5506, BCE: 0.4623, Margin: 34.0883\n",
      "Epoch 17/30: Val Accuracy: 0.7407, Val Precision: 0.7407, Val Recall: 1.0000, Val F1: 0.8511, Val ROC-AUC: 0.3429\n"
     ]
    },
    {
     "name": "stderr",
     "output_type": "stream",
     "text": []
    },
    {
     "name": "stdout",
     "output_type": "stream",
     "text": [
      "Train Loss -- Total: 59.9143, BCE: 0.7382, Margin: 59.1761\n",
      "Val Loss -- Total: 29.0483, BCE: 0.4830, Margin: 28.5653\n",
      "Epoch 18/30: Val Accuracy: 0.7407, Val Precision: 0.7407, Val Recall: 1.0000, Val F1: 0.8511, Val ROC-AUC: 0.6500\n"
     ]
    },
    {
     "name": "stderr",
     "output_type": "stream",
     "text": []
    },
    {
     "name": "stdout",
     "output_type": "stream",
     "text": [
      "Train Loss -- Total: 70.1763, BCE: 0.5263, Margin: 69.6500\n",
      "Val Loss -- Total: 26.1109, BCE: 0.5145, Margin: 25.5964\n",
      "Epoch 19/30: Val Accuracy: 0.7407, Val Precision: 0.7407, Val Recall: 1.0000, Val F1: 0.8511, Val ROC-AUC: 0.7071\n"
     ]
    },
    {
     "name": "stderr",
     "output_type": "stream",
     "text": []
    },
    {
     "name": "stdout",
     "output_type": "stream",
     "text": [
      "Train Loss -- Total: 66.8414, BCE: 0.6537, Margin: 66.1877\n",
      "Val Loss -- Total: 23.7878, BCE: 0.5262, Margin: 23.2616\n",
      "Epoch 20/30: Val Accuracy: 0.7407, Val Precision: 0.7407, Val Recall: 1.0000, Val F1: 0.8511, Val ROC-AUC: 0.5714\n"
     ]
    },
    {
     "name": "stderr",
     "output_type": "stream",
     "text": []
    },
    {
     "name": "stdout",
     "output_type": "stream",
     "text": [
      "Train Loss -- Total: 46.8378, BCE: 0.6783, Margin: 46.1595\n",
      "Val Loss -- Total: 22.4519, BCE: 0.5517, Margin: 21.9002\n",
      "Epoch 21/30: Val Accuracy: 0.7407, Val Precision: 0.7407, Val Recall: 1.0000, Val F1: 0.8511, Val ROC-AUC: 0.6000\n"
     ]
    },
    {
     "name": "stderr",
     "output_type": "stream",
     "text": []
    },
    {
     "name": "stdout",
     "output_type": "stream",
     "text": [
      "Train Loss -- Total: 57.0292, BCE: 0.7977, Margin: 56.2316\n",
      "Val Loss -- Total: 20.9080, BCE: 0.5578, Margin: 20.3502\n",
      "Epoch 22/30: Val Accuracy: 0.7407, Val Precision: 0.7407, Val Recall: 1.0000, Val F1: 0.8511, Val ROC-AUC: 0.5714\n"
     ]
    },
    {
     "name": "stderr",
     "output_type": "stream",
     "text": []
    },
    {
     "name": "stdout",
     "output_type": "stream",
     "text": [
      "Train Loss -- Total: 55.0298, BCE: 0.8661, Margin: 54.1637\n",
      "Val Loss -- Total: 19.5437, BCE: 0.5642, Margin: 18.9795\n",
      "Epoch 23/30: Val Accuracy: 0.7407, Val Precision: 0.7407, Val Recall: 1.0000, Val F1: 0.8511, Val ROC-AUC: 0.5714\n"
     ]
    },
    {
     "name": "stderr",
     "output_type": "stream",
     "text": []
    },
    {
     "name": "stdout",
     "output_type": "stream",
     "text": [
      "Train Loss -- Total: 55.9913, BCE: 0.8384, Margin: 55.1529\n",
      "Val Loss -- Total: 18.4392, BCE: 0.5674, Margin: 17.8719\n",
      "Epoch 24/30: Val Accuracy: 0.7407, Val Precision: 0.7407, Val Recall: 1.0000, Val F1: 0.8511, Val ROC-AUC: 0.6286\n"
     ]
    },
    {
     "name": "stderr",
     "output_type": "stream",
     "text": []
    },
    {
     "name": "stdout",
     "output_type": "stream",
     "text": [
      "Train Loss -- Total: 48.2462, BCE: 0.6458, Margin: 47.6004\n",
      "Val Loss -- Total: 17.1307, BCE: 0.5643, Margin: 16.5665\n",
      "Epoch 25/30: Val Accuracy: 0.7407, Val Precision: 0.7407, Val Recall: 1.0000, Val F1: 0.8511, Val ROC-AUC: 0.6286\n"
     ]
    },
    {
     "name": "stderr",
     "output_type": "stream",
     "text": []
    },
    {
     "name": "stdout",
     "output_type": "stream",
     "text": [
      "Train Loss -- Total: 39.8889, BCE: 0.7477, Margin: 39.1412\n",
      "Val Loss -- Total: 16.2873, BCE: 0.5741, Margin: 15.7132\n",
      "Epoch 26/30: Val Accuracy: 0.7407, Val Precision: 0.7407, Val Recall: 1.0000, Val F1: 0.8511, Val ROC-AUC: 0.6214\n"
     ]
    },
    {
     "name": "stderr",
     "output_type": "stream",
     "text": []
    },
    {
     "name": "stdout",
     "output_type": "stream",
     "text": [
      "Train Loss -- Total: 40.0943, BCE: 0.7930, Margin: 39.3012\n",
      "Val Loss -- Total: 15.3296, BCE: 0.5777, Margin: 14.7519\n",
      "Epoch 27/30: Val Accuracy: 0.7407, Val Precision: 0.7407, Val Recall: 1.0000, Val F1: 0.8511, Val ROC-AUC: 0.5429\n"
     ]
    },
    {
     "name": "stderr",
     "output_type": "stream",
     "text": []
    },
    {
     "name": "stdout",
     "output_type": "stream",
     "text": [
      "Train Loss -- Total: 35.3141, BCE: 0.8128, Margin: 34.5013\n",
      "Val Loss -- Total: 14.2959, BCE: 0.5599, Margin: 13.7360\n",
      "Epoch 28/30: Val Accuracy: 0.7407, Val Precision: 0.7407, Val Recall: 1.0000, Val F1: 0.8511, Val ROC-AUC: 0.5714\n"
     ]
    },
    {
     "name": "stderr",
     "output_type": "stream",
     "text": []
    },
    {
     "name": "stdout",
     "output_type": "stream",
     "text": [
      "Train Loss -- Total: 38.1433, BCE: 0.8025, Margin: 37.3408\n",
      "Val Loss -- Total: 13.3992, BCE: 0.5408, Margin: 12.8583\n",
      "Epoch 29/30: Val Accuracy: 0.7407, Val Precision: 0.7407, Val Recall: 1.0000, Val F1: 0.8511, Val ROC-AUC: 0.5714\n"
     ]
    },
    {
     "name": "stderr",
     "output_type": "stream",
     "text": []
    },
    {
     "name": "stdout",
     "output_type": "stream",
     "text": [
      "Train Loss -- Total: 37.1513, BCE: 0.6886, Margin: 36.4627\n",
      "Val Loss -- Total: 12.7548, BCE: 0.5304, Margin: 12.2244\n",
      "Epoch 30/30: Val Accuracy: 0.7407, Val Precision: 0.7407, Val Recall: 1.0000, Val F1: 0.8511, Val ROC-AUC: 0.5714\n",
      "\n",
      "DNABERT (Fine-tuned) - SINGLE SPLIT RESULTS:\n",
      "  Accuracy: 0.8889\n",
      "  Precision: 0.8696\n",
      "  Recall: 1.0000\n",
      "  F1-Score: 0.9302\n",
      "  ROC-AUC: 0.6929\n",
      "  Trainable Parameters: 89,191,681\n",
      "DNABERT (Fine-tuned) training completed!\n"
     ]
    }
   ],
   "source": [
    "num_epochs = 30\n",
    "\n",
    "print(\"=\"*60)\n",
    "print(\"TRAINING DNABERT (FINE-TUNED, SINGLE SPLIT)\")\n",
    "print(\"=\"*60)\n",
    "\n",
    "model = DNABERTClassifier(\n",
    "    model_name=\"zhihan1996/DNA_bert_6\",\n",
    "    num_classes=1,\n",
    "    dropout=0.3,\n",
    "    freeze_pretrained=False,\n",
    "    pos_weight=pos_weight\n",
    ")\n",
    "\n",
    "# Train model\n",
    "print(\"Training DNABERT (Fine-tuned)...\")\n",
    "trained_model, history = train_dnabert_model(\n",
    "    model, train_loader, val_loader,\n",
    "    num_epochs=num_epochs, learning_rate=5e-6, device=device, pos_weight=pos_weight\n",
    ")\n",
    "\n",
    "# Evaluate on validation set\n",
    "val_acc, val_prec, val_rec, val_f1, val_roc_auc, val_preds, val_targets, val_probs = eval_model_dnabert(\n",
    "    trained_model, val_loader, device\n",
    ")\n",
    "\n",
    "trainable_params = sum(p.numel() for p in trained_model.parameters() if p.requires_grad)\n",
    "\n",
    "print(\"\\nDNABERT (Fine-tuned) - SINGLE SPLIT RESULTS:\")\n",
    "print(f\"  Accuracy: {val_acc:.4f}\")\n",
    "print(f\"  Precision: {val_prec:.4f}\")\n",
    "print(f\"  Recall: {val_rec:.4f}\")\n",
    "print(f\"  F1-Score: {val_f1:.4f}\")\n",
    "print(f\"  ROC-AUC: {val_roc_auc:.4f}\")\n",
    "print(f\"  Trainable Parameters: {trainable_params:,}\")\n",
    "\n",
    "# Optional: Save result dict\n",
    "dnabert_results = {\n",
    "    'val_accuracy': val_acc,\n",
    "    'val_precision': val_prec,\n",
    "    'val_recall': val_rec,\n",
    "    'val_f1': val_f1,\n",
    "    'val_roc_auc': val_roc_auc,\n",
    "    'val_preds': val_preds,\n",
    "    'val_targets': val_targets,\n",
    "    'val_probs': val_probs,\n",
    "    'model': trained_model,\n",
    "    'trainable_params': trainable_params\n",
    "}\n",
    "\n",
    "dnabert_history = history\n",
    "trained_dnabert_model = trained_model\n",
    "\n",
    "print(\"DNABERT (Fine-tuned) training completed!\")"
   ]
  },
  {
   "cell_type": "markdown",
   "metadata": {
    "id": "I9xZ_PzkYGoB"
   },
   "source": [
    "### **DNABERT (FROZEN)**"
   ]
  },
  {
   "cell_type": "code",
   "execution_count": 18,
   "metadata": {
    "colab": {
     "base_uri": "https://localhost:8080/"
    },
    "executionInfo": {
     "elapsed": 270340,
     "status": "ok",
     "timestamp": 1751484779800,
     "user": {
      "displayName": "Suvinava Basak",
      "userId": "08195407941131229046"
     },
     "user_tz": -120
    },
    "id": "0qQX5W7hXGa4",
    "outputId": "3378fc79-bde3-447f-ede1-fdb502a749eb"
   },
   "outputs": [
    {
     "name": "stdout",
     "output_type": "stream",
     "text": [
      "============================================================\n",
      "TRAINING DNABERT (FROZEN, SINGLE SPLIT)\n",
      "============================================================\n",
      "Loading DNABERT model: zhihan1996/DNA_bert_6\n",
      "Pretrained DNABERT parameters frozen!\n",
      "Using class weight: 0.3846\n",
      "DNABERT loaded with hidden size: 768\n",
      "Trainable parameters: 769 / 89,191,681\n",
      "Training DNABERT (Frozen)...\n",
      "Using Focal BCE loss with pos_weight: 0.3846\n",
      "Model type: DNABERTClassifier\n",
      "Frozen mode: Classifier LR=5.00e-04\n"
     ]
    },
    {
     "name": "stderr",
     "output_type": "stream",
     "text": []
    },
    {
     "name": "stdout",
     "output_type": "stream",
     "text": [
      "Train Loss -- Total: 119.1749, BCE: 0.3591, Margin: 118.8158\n",
      "Val Loss -- Total: 81.9077, BCE: 0.1786, Margin: 81.7291\n",
      "✅ New best validation F1: 0.8696\n",
      "Epoch  1/30: Val Accuracy: 0.7778, Val Precision: 0.7692, Val Recall: 1.0000, Val F1: 0.8696, Val ROC-AUC: 0.5214\n"
     ]
    },
    {
     "name": "stderr",
     "output_type": "stream",
     "text": []
    },
    {
     "name": "stdout",
     "output_type": "stream",
     "text": [
      "Train Loss -- Total: 127.3918, BCE: 0.2891, Margin: 127.1027\n",
      "Val Loss -- Total: 81.9023, BCE: 0.1732, Margin: 81.7291\n",
      "Epoch  2/30: Val Accuracy: 0.7778, Val Precision: 0.7692, Val Recall: 1.0000, Val F1: 0.8696, Val ROC-AUC: 0.5214\n"
     ]
    },
    {
     "name": "stderr",
     "output_type": "stream",
     "text": []
    },
    {
     "name": "stdout",
     "output_type": "stream",
     "text": [
      "Train Loss -- Total: 141.8867, BCE: 0.2503, Margin: 141.6364\n",
      "Val Loss -- Total: 81.9007, BCE: 0.1716, Margin: 81.7291\n",
      "Epoch  3/30: Val Accuracy: 0.7778, Val Precision: 0.7692, Val Recall: 1.0000, Val F1: 0.8696, Val ROC-AUC: 0.5143\n"
     ]
    },
    {
     "name": "stderr",
     "output_type": "stream",
     "text": []
    },
    {
     "name": "stdout",
     "output_type": "stream",
     "text": [
      "Train Loss -- Total: 126.1474, BCE: 0.2199, Margin: 125.9275\n",
      "Val Loss -- Total: 81.9000, BCE: 0.1709, Margin: 81.7291\n",
      "Epoch  4/30: Val Accuracy: 0.7407, Val Precision: 0.7407, Val Recall: 1.0000, Val F1: 0.8511, Val ROC-AUC: 0.4571\n"
     ]
    },
    {
     "name": "stderr",
     "output_type": "stream",
     "text": []
    },
    {
     "name": "stdout",
     "output_type": "stream",
     "text": [
      "Train Loss -- Total: 120.3203, BCE: 0.3268, Margin: 119.9934\n",
      "Val Loss -- Total: 81.8954, BCE: 0.1663, Margin: 81.7291\n",
      "Epoch  5/30: Val Accuracy: 0.7407, Val Precision: 0.7407, Val Recall: 1.0000, Val F1: 0.8511, Val ROC-AUC: 0.3786\n"
     ]
    },
    {
     "name": "stderr",
     "output_type": "stream",
     "text": []
    },
    {
     "name": "stdout",
     "output_type": "stream",
     "text": [
      "Train Loss -- Total: 88.6097, BCE: 0.2120, Margin: 88.3977\n",
      "Val Loss -- Total: 81.9873, BCE: 0.2582, Margin: 81.7291\n",
      "Epoch  6/30: Val Accuracy: 0.7778, Val Precision: 0.7692, Val Recall: 1.0000, Val F1: 0.8696, Val ROC-AUC: 0.4857\n"
     ]
    },
    {
     "name": "stderr",
     "output_type": "stream",
     "text": []
    },
    {
     "name": "stdout",
     "output_type": "stream",
     "text": [
      "Train Loss -- Total: 110.5465, BCE: 0.2433, Margin: 110.3032\n",
      "Val Loss -- Total: 81.9000, BCE: 0.1708, Margin: 81.7291\n",
      "Epoch  7/30: Val Accuracy: 0.7407, Val Precision: 0.7407, Val Recall: 1.0000, Val F1: 0.8511, Val ROC-AUC: 0.5214\n"
     ]
    },
    {
     "name": "stderr",
     "output_type": "stream",
     "text": []
    },
    {
     "name": "stdout",
     "output_type": "stream",
     "text": [
      "Train Loss -- Total: 112.5171, BCE: 0.2884, Margin: 112.2287\n",
      "Val Loss -- Total: 81.8940, BCE: 0.1649, Margin: 81.7291\n",
      "Epoch  8/30: Val Accuracy: 0.7407, Val Precision: 0.7407, Val Recall: 1.0000, Val F1: 0.8511, Val ROC-AUC: 0.4643\n"
     ]
    },
    {
     "name": "stderr",
     "output_type": "stream",
     "text": []
    },
    {
     "name": "stdout",
     "output_type": "stream",
     "text": [
      "Train Loss -- Total: 115.2392, BCE: 0.2658, Margin: 114.9734\n",
      "Val Loss -- Total: 81.9000, BCE: 0.1709, Margin: 81.7291\n",
      "Epoch  9/30: Val Accuracy: 0.7407, Val Precision: 0.7407, Val Recall: 1.0000, Val F1: 0.8511, Val ROC-AUC: 0.4929\n"
     ]
    },
    {
     "name": "stderr",
     "output_type": "stream",
     "text": []
    },
    {
     "name": "stdout",
     "output_type": "stream",
     "text": [
      "Train Loss -- Total: 129.7419, BCE: 0.2498, Margin: 129.4921\n",
      "Val Loss -- Total: 81.8931, BCE: 0.1640, Margin: 81.7291\n",
      "Epoch 10/30: Val Accuracy: 0.7407, Val Precision: 0.7407, Val Recall: 1.0000, Val F1: 0.8511, Val ROC-AUC: 0.5143\n"
     ]
    },
    {
     "name": "stderr",
     "output_type": "stream",
     "text": []
    },
    {
     "name": "stdout",
     "output_type": "stream",
     "text": [
      "Train Loss -- Total: 119.4212, BCE: 0.2857, Margin: 119.1355\n",
      "Val Loss -- Total: 81.8968, BCE: 0.1677, Margin: 81.7291\n",
      "Epoch 11/30: Val Accuracy: 0.7407, Val Precision: 0.7407, Val Recall: 1.0000, Val F1: 0.8511, Val ROC-AUC: 0.5000\n"
     ]
    },
    {
     "name": "stderr",
     "output_type": "stream",
     "text": []
    },
    {
     "name": "stdout",
     "output_type": "stream",
     "text": [
      "Train Loss -- Total: 130.2742, BCE: 0.2626, Margin: 130.0115\n",
      "Val Loss -- Total: 81.9016, BCE: 0.1725, Margin: 81.7291\n",
      "Epoch 12/30: Val Accuracy: 0.7407, Val Precision: 0.7407, Val Recall: 1.0000, Val F1: 0.8511, Val ROC-AUC: 0.5000\n"
     ]
    },
    {
     "name": "stderr",
     "output_type": "stream",
     "text": []
    },
    {
     "name": "stdout",
     "output_type": "stream",
     "text": [
      "Train Loss -- Total: 120.0099, BCE: 0.2413, Margin: 119.7686\n",
      "Val Loss -- Total: 81.8955, BCE: 0.1664, Margin: 81.7291\n",
      "Epoch 13/30: Val Accuracy: 0.7407, Val Precision: 0.7407, Val Recall: 1.0000, Val F1: 0.8511, Val ROC-AUC: 0.5000\n"
     ]
    },
    {
     "name": "stderr",
     "output_type": "stream",
     "text": []
    },
    {
     "name": "stdout",
     "output_type": "stream",
     "text": [
      "Train Loss -- Total: 134.1504, BCE: 0.2311, Margin: 133.9193\n",
      "Val Loss -- Total: 81.8941, BCE: 0.1650, Margin: 81.7291\n",
      "Epoch 14/30: Val Accuracy: 0.7407, Val Precision: 0.7407, Val Recall: 1.0000, Val F1: 0.8511, Val ROC-AUC: 0.5000\n"
     ]
    },
    {
     "name": "stderr",
     "output_type": "stream",
     "text": []
    },
    {
     "name": "stdout",
     "output_type": "stream",
     "text": [
      "Train Loss -- Total: 111.8443, BCE: 0.2263, Margin: 111.6179\n",
      "Val Loss -- Total: 81.8935, BCE: 0.1644, Margin: 81.7291\n",
      "Epoch 15/30: Val Accuracy: 0.7407, Val Precision: 0.7407, Val Recall: 1.0000, Val F1: 0.8511, Val ROC-AUC: 0.5000\n"
     ]
    },
    {
     "name": "stderr",
     "output_type": "stream",
     "text": []
    },
    {
     "name": "stdout",
     "output_type": "stream",
     "text": [
      "Train Loss -- Total: 111.8861, BCE: 0.2645, Margin: 111.6216\n",
      "Val Loss -- Total: 81.8942, BCE: 0.1651, Margin: 81.7291\n",
      "Epoch 16/30: Val Accuracy: 0.7407, Val Precision: 0.7407, Val Recall: 1.0000, Val F1: 0.8511, Val ROC-AUC: 0.5000\n"
     ]
    },
    {
     "name": "stderr",
     "output_type": "stream",
     "text": []
    },
    {
     "name": "stdout",
     "output_type": "stream",
     "text": [
      "Train Loss -- Total: 113.1950, BCE: 0.2664, Margin: 112.9286\n",
      "Val Loss -- Total: 81.8937, BCE: 0.1646, Margin: 81.7291\n",
      "Epoch 17/30: Val Accuracy: 0.7407, Val Precision: 0.7407, Val Recall: 1.0000, Val F1: 0.8511, Val ROC-AUC: 0.5000\n"
     ]
    },
    {
     "name": "stderr",
     "output_type": "stream",
     "text": []
    },
    {
     "name": "stdout",
     "output_type": "stream",
     "text": [
      "Train Loss -- Total: 133.4390, BCE: 0.2036, Margin: 133.2354\n",
      "Val Loss -- Total: 81.8942, BCE: 0.1651, Margin: 81.7291\n",
      "Epoch 18/30: Val Accuracy: 0.7407, Val Precision: 0.7407, Val Recall: 1.0000, Val F1: 0.8511, Val ROC-AUC: 0.5000\n"
     ]
    },
    {
     "name": "stderr",
     "output_type": "stream",
     "text": []
    },
    {
     "name": "stdout",
     "output_type": "stream",
     "text": [
      "Train Loss -- Total: 124.3221, BCE: 0.2545, Margin: 124.0675\n",
      "Val Loss -- Total: 81.8964, BCE: 0.1673, Margin: 81.7291\n",
      "Epoch 19/30: Val Accuracy: 0.7407, Val Precision: 0.7407, Val Recall: 1.0000, Val F1: 0.8511, Val ROC-AUC: 0.5000\n"
     ]
    },
    {
     "name": "stderr",
     "output_type": "stream",
     "text": []
    },
    {
     "name": "stdout",
     "output_type": "stream",
     "text": [
      "Train Loss -- Total: 99.2020, BCE: 0.2747, Margin: 98.9273\n",
      "Val Loss -- Total: 81.8984, BCE: 0.1693, Margin: 81.7291\n",
      "Epoch 20/30: Val Accuracy: 0.7407, Val Precision: 0.7407, Val Recall: 1.0000, Val F1: 0.8511, Val ROC-AUC: 0.5000\n"
     ]
    },
    {
     "name": "stderr",
     "output_type": "stream",
     "text": []
    },
    {
     "name": "stdout",
     "output_type": "stream",
     "text": [
      "Train Loss -- Total: 99.8679, BCE: 0.2162, Margin: 99.6517\n",
      "Val Loss -- Total: 81.8983, BCE: 0.1692, Margin: 81.7291\n",
      "Epoch 21/30: Val Accuracy: 0.7407, Val Precision: 0.7407, Val Recall: 1.0000, Val F1: 0.8511, Val ROC-AUC: 0.5000\n"
     ]
    },
    {
     "name": "stderr",
     "output_type": "stream",
     "text": []
    },
    {
     "name": "stdout",
     "output_type": "stream",
     "text": [
      "Train Loss -- Total: 123.1072, BCE: 0.2250, Margin: 122.8822\n",
      "Val Loss -- Total: 81.8978, BCE: 0.1687, Margin: 81.7291\n",
      "Epoch 22/30: Val Accuracy: 0.7407, Val Precision: 0.7407, Val Recall: 1.0000, Val F1: 0.8511, Val ROC-AUC: 0.5000\n"
     ]
    },
    {
     "name": "stderr",
     "output_type": "stream",
     "text": []
    },
    {
     "name": "stdout",
     "output_type": "stream",
     "text": [
      "Train Loss -- Total: 135.6008, BCE: 0.2066, Margin: 135.3942\n",
      "Val Loss -- Total: 81.8974, BCE: 0.1683, Margin: 81.7291\n",
      "Epoch 23/30: Val Accuracy: 0.7407, Val Precision: 0.7407, Val Recall: 1.0000, Val F1: 0.8511, Val ROC-AUC: 0.5000\n"
     ]
    },
    {
     "name": "stderr",
     "output_type": "stream",
     "text": []
    },
    {
     "name": "stdout",
     "output_type": "stream",
     "text": [
      "Train Loss -- Total: 122.2393, BCE: 0.2496, Margin: 121.9897\n",
      "Val Loss -- Total: 81.8968, BCE: 0.1677, Margin: 81.7291\n",
      "Epoch 24/30: Val Accuracy: 0.7407, Val Precision: 0.7407, Val Recall: 1.0000, Val F1: 0.8511, Val ROC-AUC: 0.5000\n"
     ]
    },
    {
     "name": "stderr",
     "output_type": "stream",
     "text": []
    },
    {
     "name": "stdout",
     "output_type": "stream",
     "text": [
      "Train Loss -- Total: 115.2918, BCE: 0.2336, Margin: 115.0581\n",
      "Val Loss -- Total: 81.8967, BCE: 0.1676, Margin: 81.7291\n",
      "Epoch 25/30: Val Accuracy: 0.7407, Val Precision: 0.7407, Val Recall: 1.0000, Val F1: 0.8511, Val ROC-AUC: 0.5000\n"
     ]
    },
    {
     "name": "stderr",
     "output_type": "stream",
     "text": []
    },
    {
     "name": "stdout",
     "output_type": "stream",
     "text": [
      "Train Loss -- Total: 115.1493, BCE: 0.2228, Margin: 114.9265\n",
      "Val Loss -- Total: 81.8967, BCE: 0.1676, Margin: 81.7291\n",
      "Epoch 26/30: Val Accuracy: 0.7407, Val Precision: 0.7407, Val Recall: 1.0000, Val F1: 0.8511, Val ROC-AUC: 0.5000\n"
     ]
    },
    {
     "name": "stderr",
     "output_type": "stream",
     "text": []
    },
    {
     "name": "stdout",
     "output_type": "stream",
     "text": [
      "Train Loss -- Total: 132.8144, BCE: 0.2655, Margin: 132.5489\n",
      "Val Loss -- Total: 81.8963, BCE: 0.1672, Margin: 81.7291\n",
      "Epoch 27/30: Val Accuracy: 0.7407, Val Precision: 0.7407, Val Recall: 1.0000, Val F1: 0.8511, Val ROC-AUC: 0.5000\n"
     ]
    },
    {
     "name": "stderr",
     "output_type": "stream",
     "text": []
    },
    {
     "name": "stdout",
     "output_type": "stream",
     "text": [
      "Train Loss -- Total: 121.1408, BCE: 0.2348, Margin: 120.9060\n",
      "Val Loss -- Total: 81.8963, BCE: 0.1672, Margin: 81.7291\n",
      "Epoch 28/30: Val Accuracy: 0.7407, Val Precision: 0.7407, Val Recall: 1.0000, Val F1: 0.8511, Val ROC-AUC: 0.5000\n"
     ]
    },
    {
     "name": "stderr",
     "output_type": "stream",
     "text": []
    },
    {
     "name": "stdout",
     "output_type": "stream",
     "text": [
      "Train Loss -- Total: 139.7838, BCE: 0.2584, Margin: 139.5254\n",
      "Val Loss -- Total: 81.8962, BCE: 0.1670, Margin: 81.7291\n",
      "Epoch 29/30: Val Accuracy: 0.7407, Val Precision: 0.7407, Val Recall: 1.0000, Val F1: 0.8511, Val ROC-AUC: 0.5000\n"
     ]
    },
    {
     "name": "stderr",
     "output_type": "stream",
     "text": []
    },
    {
     "name": "stdout",
     "output_type": "stream",
     "text": [
      "Train Loss -- Total: 124.7849, BCE: 0.2315, Margin: 124.5534\n",
      "Val Loss -- Total: 81.8960, BCE: 0.1668, Margin: 81.7291\n",
      "Epoch 30/30: Val Accuracy: 0.7407, Val Precision: 0.7407, Val Recall: 1.0000, Val F1: 0.8511, Val ROC-AUC: 0.5000\n",
      "\n",
      "DNABERT (Frozen) - SINGLE SPLIT RESULTS:\n",
      "  Accuracy: 0.7778\n",
      "  Precision: 0.7692\n",
      "  Recall: 1.0000\n",
      "  F1-Score: 0.8696\n",
      "  ROC-AUC: 0.5214\n",
      "  Trainable Parameters: 769\n",
      "DNABERT (Frozen) training completed!\n"
     ]
    }
   ],
   "source": [
    "num_epochs = 30\n",
    "\n",
    "print(\"=\"*60)\n",
    "print(\"TRAINING DNABERT (FROZEN, SINGLE SPLIT)\")\n",
    "print(\"=\"*60)\n",
    "\n",
    "model = DNABERTClassifier(\n",
    "    model_name=\"zhihan1996/DNA_bert_6\",\n",
    "    num_classes=1,\n",
    "    dropout=0.3,\n",
    "    freeze_pretrained=True,                      # Freeze pretrained parameters\n",
    "    pos_weight=pos_weight\n",
    ")\n",
    "\n",
    "# Train model\n",
    "print(\"Training DNABERT (Frozen)...\")\n",
    "trained_model, history = train_dnabert_model(\n",
    "    model, train_loader, val_loader,\n",
    "    num_epochs=num_epochs, learning_rate=5e-4, device=device, pos_weight=pos_weight\n",
    ")\n",
    "\n",
    "# Evaluate on validation set\n",
    "val_acc, val_prec, val_rec, val_f1, val_roc_auc, val_preds, val_targets, val_probs = eval_model_dnabert(\n",
    "    trained_model, val_loader, device\n",
    ")\n",
    "\n",
    "trainable_params = sum(p.numel() for p in trained_model.parameters() if p.requires_grad)\n",
    "\n",
    "# Save results\n",
    "dnabert_frozen_result = {\n",
    "    'val_accuracy': val_acc,\n",
    "    'val_precision': val_prec,\n",
    "    'val_recall': val_rec,\n",
    "    'val_f1': val_f1,\n",
    "    'val_roc_auc': val_roc_auc,\n",
    "    'val_preds': val_preds,\n",
    "    'val_targets': val_targets,\n",
    "    'val_probs': val_probs,\n",
    "    'model': trained_model,\n",
    "    'trainable_params': trainable_params\n",
    "}\n",
    "\n",
    "dnabert_frozen_history = history\n",
    "trained_dnabert_frozen_model = trained_model\n",
    "\n",
    "# Print results\n",
    "print(\"\\nDNABERT (Frozen) - SINGLE SPLIT RESULTS:\")\n",
    "print(f\"  Accuracy: {val_acc:.4f}\")\n",
    "print(f\"  Precision: {val_prec:.4f}\")\n",
    "print(f\"  Recall: {val_rec:.4f}\")\n",
    "print(f\"  F1-Score: {val_f1:.4f}\")\n",
    "print(f\"  ROC-AUC: {val_roc_auc:.4f}\")\n",
    "print(f\"  Trainable Parameters: {trainable_params:,}\")\n",
    "\n",
    "print(\"DNABERT (Frozen) training completed!\")"
   ]
  },
  {
   "cell_type": "markdown",
   "metadata": {
    "id": "PX6yygrVNWMo"
   },
   "source": [
    "### **DNABERT (LoRA)**"
   ]
  },
  {
   "cell_type": "code",
   "execution_count": 19,
   "metadata": {
    "colab": {
     "base_uri": "https://localhost:8080/",
     "height": 1000,
     "referenced_widgets": [
      "d2c68ec58b6d47e5b8fa9f7f44fbf4d7",
      "3992d727c289479a94b1dd439afd0176",
      "5b4bf98b8f054f20a8f34e8e6da86e26",
      "30ca152430874dceb986f7e49efa17c8",
      "693378cd039d423e8a9d3ec298b5d596",
      "e6cddbcf7b97421ba6bb0cf47a3efd9f",
      "58de8f8727a340ed892addd624d6c13a",
      "1a508dd0f0704c3f9f17fe2ec7fb2718",
      "fb841c0acbd444608a0a1fd95168e42d",
      "3c7b22d18e7e48b5829aeea8a430e0ef",
      "6d8593e086604557b66c4de20a8f5b04",
      "0375ae8d05e14da0b7c52b747895cfd4",
      "d702f6fd54244b118463bcb77cf19f38",
      "51add420b8194e0997b6a98eda6b89ab",
      "92db3105667d4727a899e741a6455e78",
      "710c469a9b2d4305a9dd643e55825e89",
      "23a68dc529104025bf8d042678bf2854",
      "4b0c0794b1684ba1a600c2af3626b457",
      "0950bb3bf9ea4cf7ad04739dcaf218dd",
      "fe23f45234564d23ba345b1f603dcf15",
      "d59efc3f63754cc29250afdf91644a0c",
      "8ada41c0054f438fa8a20a23e706ec83"
     ]
    },
    "executionInfo": {
     "elapsed": 422951,
     "status": "ok",
     "timestamp": 1751485210609,
     "user": {
      "displayName": "Suvinava Basak",
      "userId": "08195407941131229046"
     },
     "user_tz": -120
    },
    "id": "D6o6p4sbNaww",
    "outputId": "6a5f4292-3344-4087-f9e9-d2ecd9bcf05e"
   },
   "outputs": [
    {
     "name": "stdout",
     "output_type": "stream",
     "text": [
      "============================================================\n",
      "TRAINING DNABERT (FROZEN + LoRA, SINGLE SPLIT)\n",
      "============================================================\n",
      "Loading DNABERT model with LoRA: zhihan1996/DNA_bert_6\n"
     ]
    },
    {
     "data": {
      "application/vnd.jupyter.widget-view+json": {
       "model_id": "d2c68ec58b6d47e5b8fa9f7f44fbf4d7",
       "version_major": 2,
       "version_minor": 0
      },
      "text/plain": [
       "configuration_bert.py:   0%|          | 0.00/807 [00:00<?, ?B/s]"
      ]
     },
     "metadata": {},
     "output_type": "display_data"
    },
    {
     "name": "stderr",
     "output_type": "stream",
     "text": [
      "A new version of the following files was downloaded from https://huggingface.co/zhihan1996/DNA_bert_6:\n",
      "- configuration_bert.py\n",
      ". Make sure to double-check they do not contain any added malicious code. To avoid downloading new versions of the code file, you can pin a revision.\n"
     ]
    },
    {
     "data": {
      "application/vnd.jupyter.widget-view+json": {
       "model_id": "0375ae8d05e14da0b7c52b747895cfd4",
       "version_major": 2,
       "version_minor": 0
      },
      "text/plain": [
       "dnabert_layer.py: 0.00B [00:00, ?B/s]"
      ]
     },
     "metadata": {},
     "output_type": "display_data"
    },
    {
     "name": "stderr",
     "output_type": "stream",
     "text": [
      "A new version of the following files was downloaded from https://huggingface.co/zhihan1996/DNA_bert_6:\n",
      "- dnabert_layer.py\n",
      ". Make sure to double-check they do not contain any added malicious code. To avoid downloading new versions of the code file, you can pin a revision.\n"
     ]
    },
    {
     "name": "stdout",
     "output_type": "stream",
     "text": [
      "LoRA adapters added to DNABERT!\n",
      "Using class weight: 0.3846\n",
      "DNABERT + LoRA loaded with hidden size: 768\n",
      "Trainable parameters: 590,593 / 89,781,505\n",
      "LoRA trainable parameters: (589824, 89780736)\n",
      "Training DNABERT (Frozen + LoRA)...\n",
      "Using Focal BCE loss with pos_weight: 0.3846\n",
      "Model type: DNABERTLoRAClassifier\n",
      "Fine-tuning/LoRA mode: Base LR=1.00e-05, Classifier LR=1.00e-04\n"
     ]
    },
    {
     "name": "stderr",
     "output_type": "stream",
     "text": []
    },
    {
     "name": "stdout",
     "output_type": "stream",
     "text": [
      "Train Loss -- Total: 133.0215, BCE: 0.3797, Margin: 132.6417\n",
      "Val Loss -- Total: 81.9264, BCE: 0.1646, Margin: 81.7618\n",
      "✅ New best validation F1: 0.9302\n",
      "Epoch  1/30: Val Accuracy: 0.8889, Val Precision: 0.8696, Val Recall: 1.0000, Val F1: 0.9302, Val ROC-AUC: 0.7143\n"
     ]
    },
    {
     "name": "stderr",
     "output_type": "stream",
     "text": []
    },
    {
     "name": "stdout",
     "output_type": "stream",
     "text": [
      "Train Loss -- Total: 111.0513, BCE: 0.4319, Margin: 110.6194\n",
      "Val Loss -- Total: 81.7785, BCE: 0.2330, Margin: 81.5456\n",
      "Epoch  2/30: Val Accuracy: 0.8889, Val Precision: 0.8696, Val Recall: 1.0000, Val F1: 0.9302, Val ROC-AUC: 0.7214\n"
     ]
    },
    {
     "name": "stderr",
     "output_type": "stream",
     "text": []
    },
    {
     "name": "stdout",
     "output_type": "stream",
     "text": [
      "Train Loss -- Total: 116.2622, BCE: 0.4857, Margin: 115.7766\n",
      "Val Loss -- Total: 81.5218, BCE: 0.2581, Margin: 81.2637\n",
      "Epoch  3/30: Val Accuracy: 0.7407, Val Precision: 0.7407, Val Recall: 1.0000, Val F1: 0.8511, Val ROC-AUC: 0.7214\n"
     ]
    },
    {
     "name": "stderr",
     "output_type": "stream",
     "text": []
    },
    {
     "name": "stdout",
     "output_type": "stream",
     "text": [
      "Train Loss -- Total: 125.5704, BCE: 0.5225, Margin: 125.0479\n",
      "Val Loss -- Total: 81.2394, BCE: 0.2958, Margin: 80.9436\n",
      "Epoch  4/30: Val Accuracy: 0.8889, Val Precision: 0.8696, Val Recall: 1.0000, Val F1: 0.9302, Val ROC-AUC: 0.7214\n"
     ]
    },
    {
     "name": "stderr",
     "output_type": "stream",
     "text": []
    },
    {
     "name": "stdout",
     "output_type": "stream",
     "text": [
      "Train Loss -- Total: 118.6197, BCE: 0.4386, Margin: 118.1812\n",
      "Val Loss -- Total: 80.7182, BCE: 0.3432, Margin: 80.3751\n",
      "Epoch  5/30: Val Accuracy: 0.7407, Val Precision: 0.7407, Val Recall: 1.0000, Val F1: 0.8511, Val ROC-AUC: 0.7214\n"
     ]
    },
    {
     "name": "stderr",
     "output_type": "stream",
     "text": []
    },
    {
     "name": "stdout",
     "output_type": "stream",
     "text": [
      "Train Loss -- Total: 127.4546, BCE: 0.7366, Margin: 126.7180\n",
      "Val Loss -- Total: 80.2936, BCE: 0.4168, Margin: 79.8768\n",
      "Epoch  6/30: Val Accuracy: 0.7407, Val Precision: 0.7407, Val Recall: 1.0000, Val F1: 0.8511, Val ROC-AUC: 0.7214\n"
     ]
    },
    {
     "name": "stderr",
     "output_type": "stream",
     "text": []
    },
    {
     "name": "stdout",
     "output_type": "stream",
     "text": [
      "Train Loss -- Total: 109.6540, BCE: 0.6300, Margin: 109.0241\n",
      "Val Loss -- Total: 79.5925, BCE: 0.3725, Margin: 79.2200\n",
      "Epoch  7/30: Val Accuracy: 0.7407, Val Precision: 0.7407, Val Recall: 1.0000, Val F1: 0.8511, Val ROC-AUC: 0.7357\n"
     ]
    },
    {
     "name": "stderr",
     "output_type": "stream",
     "text": []
    },
    {
     "name": "stdout",
     "output_type": "stream",
     "text": [
      "Train Loss -- Total: 123.4891, BCE: 0.5971, Margin: 122.8921\n",
      "Val Loss -- Total: 78.1290, BCE: 0.4121, Margin: 77.7169\n",
      "Epoch  8/30: Val Accuracy: 0.7407, Val Precision: 0.7407, Val Recall: 1.0000, Val F1: 0.8511, Val ROC-AUC: 0.7500\n"
     ]
    },
    {
     "name": "stderr",
     "output_type": "stream",
     "text": []
    },
    {
     "name": "stdout",
     "output_type": "stream",
     "text": [
      "Train Loss -- Total: 117.3306, BCE: 0.5924, Margin: 116.7382\n",
      "Val Loss -- Total: 76.1283, BCE: 0.3663, Margin: 75.7620\n",
      "Epoch  9/30: Val Accuracy: 0.8889, Val Precision: 0.8696, Val Recall: 1.0000, Val F1: 0.9302, Val ROC-AUC: 0.8286\n"
     ]
    },
    {
     "name": "stderr",
     "output_type": "stream",
     "text": []
    },
    {
     "name": "stdout",
     "output_type": "stream",
     "text": [
      "Train Loss -- Total: 102.3494, BCE: 0.6260, Margin: 101.7234\n",
      "Val Loss -- Total: 74.8462, BCE: 0.3779, Margin: 74.4683\n",
      "Epoch 10/30: Val Accuracy: 0.8889, Val Precision: 0.8696, Val Recall: 1.0000, Val F1: 0.9302, Val ROC-AUC: 0.8571\n"
     ]
    },
    {
     "name": "stderr",
     "output_type": "stream",
     "text": []
    },
    {
     "name": "stdout",
     "output_type": "stream",
     "text": [
      "Train Loss -- Total: 113.6886, BCE: 0.6020, Margin: 113.0867\n",
      "Val Loss -- Total: 73.4689, BCE: 0.3391, Margin: 73.1298\n",
      "Epoch 11/30: Val Accuracy: 0.7407, Val Precision: 0.7407, Val Recall: 1.0000, Val F1: 0.8511, Val ROC-AUC: 0.8929\n"
     ]
    },
    {
     "name": "stderr",
     "output_type": "stream",
     "text": []
    },
    {
     "name": "stdout",
     "output_type": "stream",
     "text": [
      "Train Loss -- Total: 118.4828, BCE: 0.6171, Margin: 117.8657\n",
      "Val Loss -- Total: 71.8364, BCE: 0.3649, Margin: 71.4716\n",
      "✅ New best validation F1: 0.9756\n",
      "Epoch 12/30: Val Accuracy: 0.9630, Val Precision: 0.9524, Val Recall: 1.0000, Val F1: 0.9756, Val ROC-AUC: 0.8929\n"
     ]
    },
    {
     "name": "stderr",
     "output_type": "stream",
     "text": []
    },
    {
     "name": "stdout",
     "output_type": "stream",
     "text": [
      "Train Loss -- Total: 96.9711, BCE: 0.6054, Margin: 96.3657\n",
      "Val Loss -- Total: 69.5368, BCE: 0.4792, Margin: 69.0576\n",
      "Epoch 13/30: Val Accuracy: 0.7407, Val Precision: 0.7407, Val Recall: 1.0000, Val F1: 0.8511, Val ROC-AUC: 0.9143\n"
     ]
    },
    {
     "name": "stderr",
     "output_type": "stream",
     "text": []
    },
    {
     "name": "stdout",
     "output_type": "stream",
     "text": [
      "Train Loss -- Total: 94.7381, BCE: 0.7366, Margin: 94.0015\n",
      "Val Loss -- Total: 65.3814, BCE: 0.4817, Margin: 64.8997\n",
      "Epoch 14/30: Val Accuracy: 0.7407, Val Precision: 0.7407, Val Recall: 1.0000, Val F1: 0.8511, Val ROC-AUC: 0.6857\n"
     ]
    },
    {
     "name": "stderr",
     "output_type": "stream",
     "text": []
    },
    {
     "name": "stdout",
     "output_type": "stream",
     "text": [
      "Train Loss -- Total: 89.8150, BCE: 0.6743, Margin: 89.1408\n",
      "Val Loss -- Total: 59.8417, BCE: 0.5989, Margin: 59.2428\n",
      "Epoch 15/30: Val Accuracy: 0.7778, Val Precision: 0.7692, Val Recall: 1.0000, Val F1: 0.8696, Val ROC-AUC: 0.6857\n"
     ]
    },
    {
     "name": "stderr",
     "output_type": "stream",
     "text": []
    },
    {
     "name": "stdout",
     "output_type": "stream",
     "text": [
      "Train Loss -- Total: 71.1756, BCE: 0.8993, Margin: 70.2763\n",
      "Val Loss -- Total: 53.4268, BCE: 0.5226, Margin: 52.9042\n",
      "Epoch 16/30: Val Accuracy: 0.8148, Val Precision: 0.8000, Val Recall: 1.0000, Val F1: 0.8889, Val ROC-AUC: 0.6857\n"
     ]
    },
    {
     "name": "stderr",
     "output_type": "stream",
     "text": []
    },
    {
     "name": "stdout",
     "output_type": "stream",
     "text": [
      "Train Loss -- Total: 74.3397, BCE: 0.6483, Margin: 73.6913\n",
      "Val Loss -- Total: 47.1883, BCE: 0.5652, Margin: 46.6231\n",
      "Epoch 17/30: Val Accuracy: 0.7407, Val Precision: 0.7407, Val Recall: 1.0000, Val F1: 0.8511, Val ROC-AUC: 0.8000\n"
     ]
    },
    {
     "name": "stderr",
     "output_type": "stream",
     "text": []
    },
    {
     "name": "stdout",
     "output_type": "stream",
     "text": [
      "Train Loss -- Total: 66.8516, BCE: 0.6744, Margin: 66.1772\n",
      "Val Loss -- Total: 40.6702, BCE: 0.5598, Margin: 40.1105\n",
      "Epoch 18/30: Val Accuracy: 0.7407, Val Precision: 0.7407, Val Recall: 1.0000, Val F1: 0.8511, Val ROC-AUC: 0.6143\n"
     ]
    },
    {
     "name": "stderr",
     "output_type": "stream",
     "text": []
    },
    {
     "name": "stdout",
     "output_type": "stream",
     "text": [
      "Train Loss -- Total: 61.0354, BCE: 0.7700, Margin: 60.2654\n",
      "Val Loss -- Total: 34.9022, BCE: 0.6339, Margin: 34.2683\n",
      "Epoch 19/30: Val Accuracy: 0.7407, Val Precision: 0.7407, Val Recall: 1.0000, Val F1: 0.8511, Val ROC-AUC: 0.4786\n"
     ]
    },
    {
     "name": "stderr",
     "output_type": "stream",
     "text": []
    },
    {
     "name": "stdout",
     "output_type": "stream",
     "text": [
      "Train Loss -- Total: 53.1139, BCE: 0.8899, Margin: 52.2240\n",
      "Val Loss -- Total: 29.0928, BCE: 0.5427, Margin: 28.5501\n",
      "Epoch 20/30: Val Accuracy: 0.7407, Val Precision: 0.7407, Val Recall: 1.0000, Val F1: 0.8511, Val ROC-AUC: 0.3929\n"
     ]
    },
    {
     "name": "stderr",
     "output_type": "stream",
     "text": []
    },
    {
     "name": "stdout",
     "output_type": "stream",
     "text": [
      "Train Loss -- Total: 47.5072, BCE: 0.4226, Margin: 47.0846\n",
      "Val Loss -- Total: 22.4875, BCE: 0.2608, Margin: 22.2268\n",
      "Epoch 21/30: Val Accuracy: 0.7407, Val Precision: 0.7407, Val Recall: 1.0000, Val F1: 0.8511, Val ROC-AUC: 0.3714\n"
     ]
    },
    {
     "name": "stderr",
     "output_type": "stream",
     "text": []
    },
    {
     "name": "stdout",
     "output_type": "stream",
     "text": [
      "Train Loss -- Total: 38.2085, BCE: 0.5352, Margin: 37.6733\n",
      "Val Loss -- Total: 18.6891, BCE: 0.3679, Margin: 18.3211\n",
      "Epoch 22/30: Val Accuracy: 0.7407, Val Precision: 0.7407, Val Recall: 1.0000, Val F1: 0.8511, Val ROC-AUC: 0.3714\n"
     ]
    },
    {
     "name": "stderr",
     "output_type": "stream",
     "text": []
    },
    {
     "name": "stdout",
     "output_type": "stream",
     "text": [
      "Train Loss -- Total: 45.5512, BCE: 0.3622, Margin: 45.1890\n",
      "Val Loss -- Total: 16.2834, BCE: 0.2729, Margin: 16.0105\n",
      "Epoch 23/30: Val Accuracy: 0.7407, Val Precision: 0.7407, Val Recall: 1.0000, Val F1: 0.8511, Val ROC-AUC: 0.3429\n"
     ]
    },
    {
     "name": "stderr",
     "output_type": "stream",
     "text": []
    },
    {
     "name": "stdout",
     "output_type": "stream",
     "text": [
      "Train Loss -- Total: 43.1207, BCE: 0.3572, Margin: 42.7635\n",
      "Val Loss -- Total: 14.4085, BCE: 0.2056, Margin: 14.2029\n",
      "Epoch 24/30: Val Accuracy: 0.7407, Val Precision: 0.7407, Val Recall: 1.0000, Val F1: 0.8511, Val ROC-AUC: 0.3714\n"
     ]
    },
    {
     "name": "stderr",
     "output_type": "stream",
     "text": []
    },
    {
     "name": "stdout",
     "output_type": "stream",
     "text": [
      "Train Loss -- Total: 43.9573, BCE: 0.3054, Margin: 43.6519\n",
      "Val Loss -- Total: 12.8939, BCE: 0.2248, Margin: 12.6690\n",
      "Epoch 25/30: Val Accuracy: 0.7407, Val Precision: 0.7407, Val Recall: 1.0000, Val F1: 0.8511, Val ROC-AUC: 0.5214\n"
     ]
    },
    {
     "name": "stderr",
     "output_type": "stream",
     "text": []
    },
    {
     "name": "stdout",
     "output_type": "stream",
     "text": [
      "Train Loss -- Total: 36.3126, BCE: 0.2765, Margin: 36.0360\n",
      "Val Loss -- Total: 11.7004, BCE: 0.2318, Margin: 11.4685\n",
      "Epoch 26/30: Val Accuracy: 0.7407, Val Precision: 0.7407, Val Recall: 1.0000, Val F1: 0.8511, Val ROC-AUC: 0.6214\n"
     ]
    },
    {
     "name": "stderr",
     "output_type": "stream",
     "text": []
    },
    {
     "name": "stdout",
     "output_type": "stream",
     "text": [
      "Train Loss -- Total: 37.5980, BCE: 0.2656, Margin: 37.3324\n",
      "Val Loss -- Total: 10.7271, BCE: 0.1953, Margin: 10.5319\n",
      "Epoch 27/30: Val Accuracy: 0.7407, Val Precision: 0.7407, Val Recall: 1.0000, Val F1: 0.8511, Val ROC-AUC: 0.6357\n"
     ]
    },
    {
     "name": "stderr",
     "output_type": "stream",
     "text": []
    },
    {
     "name": "stdout",
     "output_type": "stream",
     "text": [
      "Train Loss -- Total: 37.9784, BCE: 0.3130, Margin: 37.6653\n",
      "Val Loss -- Total: 10.0128, BCE: 0.1819, Margin: 9.8309\n",
      "Epoch 28/30: Val Accuracy: 0.8148, Val Precision: 0.8000, Val Recall: 1.0000, Val F1: 0.8889, Val ROC-AUC: 0.8071\n"
     ]
    },
    {
     "name": "stderr",
     "output_type": "stream",
     "text": []
    },
    {
     "name": "stdout",
     "output_type": "stream",
     "text": [
      "Train Loss -- Total: 32.5431, BCE: 0.2340, Margin: 32.3091\n",
      "Val Loss -- Total: 9.5450, BCE: 0.2216, Margin: 9.3235\n",
      "Epoch 29/30: Val Accuracy: 0.7407, Val Precision: 0.7407, Val Recall: 1.0000, Val F1: 0.8511, Val ROC-AUC: 0.8071\n"
     ]
    },
    {
     "name": "stderr",
     "output_type": "stream",
     "text": []
    },
    {
     "name": "stdout",
     "output_type": "stream",
     "text": [
      "Train Loss -- Total: 37.3356, BCE: 0.3094, Margin: 37.0262\n",
      "Val Loss -- Total: 9.0739, BCE: 0.2398, Margin: 8.8341\n",
      "Epoch 30/30: Val Accuracy: 0.7407, Val Precision: 0.7407, Val Recall: 1.0000, Val F1: 0.8511, Val ROC-AUC: 0.8286\n",
      "\n",
      "DNABERT (Frozen + LoRA) - SINGLE SPLIT RESULTS:\n",
      "  Accuracy: 0.9630\n",
      "  Precision: 0.9524\n",
      "  Recall: 1.0000\n",
      "  F1-Score: 0.9756\n",
      "  ROC-AUC: 0.8929\n",
      "  Trainable Parameters: 590,593\n",
      "DNABERT (Frozen + LoRA) training completed!\n"
     ]
    }
   ],
   "source": [
    "num_epochs = 30\n",
    "\n",
    "print(\"=\"*60)\n",
    "print(\"TRAINING DNABERT (FROZEN + LoRA, SINGLE SPLIT)\")\n",
    "print(\"=\"*60)\n",
    "\n",
    "model = DNABERTLoRAClassifier(\n",
    "    model_name=\"zhihan1996/DNA_bert_6\",\n",
    "    num_classes=1,\n",
    "    dropout=0.3,\n",
    "    lora_r=16,\n",
    "    lora_alpha=32,\n",
    "    lora_dropout=0.1,\n",
    "    pos_weight=pos_weight\n",
    ")\n",
    "\n",
    "# Train model\n",
    "print(\"Training DNABERT (Frozen + LoRA)...\")\n",
    "trained_model, history = train_dnabert_model(\n",
    "    model, train_loader, val_loader,\n",
    "    num_epochs=num_epochs, learning_rate=1e-4, device=device, pos_weight=pos_weight\n",
    ")\n",
    "\n",
    "# Evaluate on validation set\n",
    "val_acc, val_prec, val_rec, val_f1, val_roc_auc, val_preds, val_targets, val_probs = eval_model_dnabert(\n",
    "    trained_model, val_loader, device\n",
    ")\n",
    "\n",
    "trainable_params = sum(p.numel() for p in trained_model.parameters() if p.requires_grad)\n",
    "\n",
    "# Save results\n",
    "dnabert_lora_result = {\n",
    "    'val_accuracy': val_acc,\n",
    "    'val_precision': val_prec,\n",
    "    'val_recall': val_rec,\n",
    "    'val_f1': val_f1,\n",
    "    'val_roc_auc': val_roc_auc,\n",
    "    'val_preds': val_preds,\n",
    "    'val_targets': val_targets,\n",
    "    'val_probs': val_probs,\n",
    "    'model': trained_model,\n",
    "    'trainable_params': trainable_params\n",
    "}\n",
    "\n",
    "dnabert_lora_history = history\n",
    "trained_dnabert_lora_model = trained_model\n",
    "\n",
    "# Print results\n",
    "print(\"\\nDNABERT (Frozen + LoRA) - SINGLE SPLIT RESULTS:\")\n",
    "print(f\"  Accuracy: {val_acc:.4f}\")\n",
    "print(f\"  Precision: {val_prec:.4f}\")\n",
    "print(f\"  Recall: {val_rec:.4f}\")\n",
    "print(f\"  F1-Score: {val_f1:.4f}\")\n",
    "print(f\"  ROC-AUC: {val_roc_auc:.4f}\")\n",
    "print(f\"  Trainable Parameters: {trainable_params:,}\")\n",
    "\n",
    "print(\"DNABERT (Frozen + LoRA) training completed!\")"
   ]
  },
  {
   "cell_type": "markdown",
   "metadata": {
    "id": "MX2Wbol9ZvAD"
   },
   "source": [
    "### **EVALUATE DNABERT MODELS ON TEST SET**"
   ]
  },
  {
   "cell_type": "code",
   "execution_count": 20,
   "metadata": {
    "colab": {
     "base_uri": "https://localhost:8080/"
    },
    "executionInfo": {
     "elapsed": 1602,
     "status": "ok",
     "timestamp": 1751485219956,
     "user": {
      "displayName": "Suvinava Basak",
      "userId": "08195407941131229046"
     },
     "user_tz": -120
    },
    "id": "yLVLg3RjYPJK",
    "outputId": "e35d9f33-9953-4351-df27-2200523300a7"
   },
   "outputs": [
    {
     "name": "stdout",
     "output_type": "stream",
     "text": [
      "============================================================\n",
      "EVALUATING DNABERT MODELS ON TEST SET\n",
      "============================================================\n",
      "\n",
      "DNABERT (Fine-tuned) - Evaluating on Test Set...\n",
      "DNABERT (Fine-tuned) Test Results:\n",
      "  Accuracy: 1.0000\n",
      "  Precision: 1.0000\n",
      "  Recall: 1.0000\n",
      "  F1-Score: 1.0000\n",
      "  ROC-AUC: 1.0000\n",
      "\n",
      "DNABERT (Frozen) - Evaluating on Test Set...\n",
      "DNABERT (Frozen) Test Results:\n",
      "  Accuracy: 0.8000\n",
      "  Precision: 0.8000\n",
      "  Recall: 1.0000\n",
      "  F1-Score: 0.8889\n",
      "  ROC-AUC: 0.6667\n",
      "\n",
      "DNABERT (Frozen + LoRA) - Evaluating on Test Set...\n",
      "DNABERT (Frozen + LoRA) Test Results:\n",
      "  Accuracy: 0.9333\n",
      "  Precision: 1.0000\n",
      "  Recall: 0.9167\n",
      "  F1-Score: 0.9565\n",
      "  ROC-AUC: 1.0000\n",
      "Test set evaluation completed!\n"
     ]
    }
   ],
   "source": [
    "print(\"=\"*60)\n",
    "print(\"EVALUATING DNABERT MODELS ON TEST SET\")\n",
    "print(\"=\"*60)\n",
    "\n",
    "test_dataset_dnabert = DNABERTDataset(seq_test, y_test, dnabert_tokenizer, k=6, max_len=512)\n",
    "test_loader_dnabert = DataLoader(test_dataset_dnabert, batch_size=batch_size, shuffle=False)\n",
    "\n",
    "# Generic evaluation function for a single model\n",
    "def evaluate_model_on_test(model, test_loader, model_name):\n",
    "    print(f\"\\n{model_name} - Evaluating on Test Set...\")\n",
    "\n",
    "    test_acc, test_prec, test_rec, test_f1, test_roc_auc, test_preds, test_targets, test_probs = eval_model_dnabert(\n",
    "        model, test_loader, device\n",
    "    )\n",
    "\n",
    "    print(f\"{model_name} Test Results:\")\n",
    "    print(f\"  Accuracy: {test_acc:.4f}\")\n",
    "    print(f\"  Precision: {test_prec:.4f}\")\n",
    "    print(f\"  Recall: {test_rec:.4f}\")\n",
    "    print(f\"  F1-Score: {test_f1:.4f}\")\n",
    "    print(f\"  ROC-AUC: {test_roc_auc:.4f}\")\n",
    "\n",
    "    return {\n",
    "        'test_accuracy': test_acc,\n",
    "        'test_precision': test_prec,\n",
    "        'test_recall': test_rec,\n",
    "        'test_f1': test_f1,\n",
    "        'test_roc_auc': test_roc_auc,\n",
    "        'test_preds': test_preds,\n",
    "        'test_targets': test_targets,\n",
    "        'test_probs': test_probs,\n",
    "        'model': model\n",
    "    }\n",
    "\n",
    "dnabert_test_results = evaluate_model_on_test(trained_dnabert_model, test_loader_dnabert, \"DNABERT (Fine-tuned)\")\n",
    "dnabert_frozen_test_results = evaluate_model_on_test(trained_dnabert_frozen_model, test_loader_dnabert, \"DNABERT (Frozen)\")\n",
    "dnabert_lora_test_results = evaluate_model_on_test(trained_dnabert_lora_model, test_loader_dnabert, \"DNABERT (Frozen + LoRA)\")\n",
    "\n",
    "print(\"Test set evaluation completed!\")"
   ]
  },
  {
   "cell_type": "markdown",
   "metadata": {
    "id": "Sp1TDTKzTA8c"
   },
   "source": [
    "### **SAVE RESULTS**"
   ]
  },
  {
   "cell_type": "code",
   "execution_count": null,
   "metadata": {
    "colab": {
     "base_uri": "https://localhost:8080/",
     "height": 356
    },
    "executionInfo": {
     "elapsed": 325,
     "status": "error",
     "timestamp": 1750933750023,
     "user": {
      "displayName": "Suvinava Basak",
      "userId": "08195407941131229046"
     },
     "user_tz": -120
    },
    "id": "N3dGgQA5TD_A",
    "outputId": "16c395a0-fe5b-4de9-a3c2-0f1daad4f860"
   },
   "outputs": [
    {
     "ename": "TypeError",
     "evalue": "Object of type <class '__main__.DNABERTClassifier'> is not JSON serializable",
     "output_type": "error",
     "traceback": [
      "\u001b[0;31m---------------------------------------------------------------------------\u001b[0m",
      "\u001b[0;31mTypeError\u001b[0m                                 Traceback (most recent call last)",
      "\u001b[0;32m/tmp/ipython-input-27-2768868749.py\u001b[0m in \u001b[0;36m<cell line: 0>\u001b[0;34m()\u001b[0m\n\u001b[1;32m     11\u001b[0m \u001b[0mhistory_path\u001b[0m \u001b[0;34m=\u001b[0m \u001b[0mos\u001b[0m\u001b[0;34m.\u001b[0m\u001b[0mpath\u001b[0m\u001b[0;34m.\u001b[0m\u001b[0mjoin\u001b[0m\u001b[0;34m(\u001b[0m\u001b[0mRESULT_DIR\u001b[0m\u001b[0;34m,\u001b[0m \u001b[0;34m\"dnabert_cv_results.json\"\u001b[0m\u001b[0;34m)\u001b[0m\u001b[0;34m\u001b[0m\u001b[0;34m\u001b[0m\u001b[0m\n\u001b[1;32m     12\u001b[0m \u001b[0;32mwith\u001b[0m \u001b[0mopen\u001b[0m\u001b[0;34m(\u001b[0m\u001b[0mhistory_path\u001b[0m\u001b[0;34m,\u001b[0m \u001b[0;34m\"w\"\u001b[0m\u001b[0;34m)\u001b[0m \u001b[0;32mas\u001b[0m \u001b[0mf\u001b[0m\u001b[0;34m:\u001b[0m\u001b[0;34m\u001b[0m\u001b[0;34m\u001b[0m\u001b[0m\n\u001b[0;32m---> 13\u001b[0;31m     \u001b[0mjson\u001b[0m\u001b[0;34m.\u001b[0m\u001b[0mdump\u001b[0m\u001b[0;34m(\u001b[0m\u001b[0mdnabert_cv_results\u001b[0m\u001b[0;34m,\u001b[0m \u001b[0mf\u001b[0m\u001b[0;34m,\u001b[0m \u001b[0mdefault\u001b[0m\u001b[0;34m=\u001b[0m\u001b[0mconvert_ndarray\u001b[0m\u001b[0;34m)\u001b[0m\u001b[0;34m\u001b[0m\u001b[0;34m\u001b[0m\u001b[0m\n\u001b[0m\u001b[1;32m     14\u001b[0m \u001b[0;34m\u001b[0m\u001b[0m\n\u001b[1;32m     15\u001b[0m \u001b[0mhistory_path\u001b[0m \u001b[0;34m=\u001b[0m \u001b[0mos\u001b[0m\u001b[0;34m.\u001b[0m\u001b[0mpath\u001b[0m\u001b[0;34m.\u001b[0m\u001b[0mjoin\u001b[0m\u001b[0;34m(\u001b[0m\u001b[0mRESULT_DIR\u001b[0m\u001b[0;34m,\u001b[0m \u001b[0;34m\"dnabert_histories.json\"\u001b[0m\u001b[0;34m)\u001b[0m\u001b[0;34m\u001b[0m\u001b[0;34m\u001b[0m\u001b[0m\n",
      "\u001b[0;32m/usr/lib/python3.11/json/__init__.py\u001b[0m in \u001b[0;36mdump\u001b[0;34m(obj, fp, skipkeys, ensure_ascii, check_circular, allow_nan, cls, indent, separators, default, sort_keys, **kw)\u001b[0m\n\u001b[1;32m    177\u001b[0m     \u001b[0;31m# could accelerate with writelines in some versions of Python, at\u001b[0m\u001b[0;34m\u001b[0m\u001b[0;34m\u001b[0m\u001b[0m\n\u001b[1;32m    178\u001b[0m     \u001b[0;31m# a debuggability cost\u001b[0m\u001b[0;34m\u001b[0m\u001b[0;34m\u001b[0m\u001b[0m\n\u001b[0;32m--> 179\u001b[0;31m     \u001b[0;32mfor\u001b[0m \u001b[0mchunk\u001b[0m \u001b[0;32min\u001b[0m \u001b[0miterable\u001b[0m\u001b[0;34m:\u001b[0m\u001b[0;34m\u001b[0m\u001b[0;34m\u001b[0m\u001b[0m\n\u001b[0m\u001b[1;32m    180\u001b[0m         \u001b[0mfp\u001b[0m\u001b[0;34m.\u001b[0m\u001b[0mwrite\u001b[0m\u001b[0;34m(\u001b[0m\u001b[0mchunk\u001b[0m\u001b[0;34m)\u001b[0m\u001b[0;34m\u001b[0m\u001b[0;34m\u001b[0m\u001b[0m\n\u001b[1;32m    181\u001b[0m \u001b[0;34m\u001b[0m\u001b[0m\n",
      "\u001b[0;32m/usr/lib/python3.11/json/encoder.py\u001b[0m in \u001b[0;36m_iterencode\u001b[0;34m(o, _current_indent_level)\u001b[0m\n\u001b[1;32m    428\u001b[0m             \u001b[0;32myield\u001b[0m \u001b[0m_floatstr\u001b[0m\u001b[0;34m(\u001b[0m\u001b[0mo\u001b[0m\u001b[0;34m)\u001b[0m\u001b[0;34m\u001b[0m\u001b[0;34m\u001b[0m\u001b[0m\n\u001b[1;32m    429\u001b[0m         \u001b[0;32melif\u001b[0m \u001b[0misinstance\u001b[0m\u001b[0;34m(\u001b[0m\u001b[0mo\u001b[0m\u001b[0;34m,\u001b[0m \u001b[0;34m(\u001b[0m\u001b[0mlist\u001b[0m\u001b[0;34m,\u001b[0m \u001b[0mtuple\u001b[0m\u001b[0;34m)\u001b[0m\u001b[0;34m)\u001b[0m\u001b[0;34m:\u001b[0m\u001b[0;34m\u001b[0m\u001b[0;34m\u001b[0m\u001b[0m\n\u001b[0;32m--> 430\u001b[0;31m             \u001b[0;32myield\u001b[0m \u001b[0;32mfrom\u001b[0m \u001b[0m_iterencode_list\u001b[0m\u001b[0;34m(\u001b[0m\u001b[0mo\u001b[0m\u001b[0;34m,\u001b[0m \u001b[0m_current_indent_level\u001b[0m\u001b[0;34m)\u001b[0m\u001b[0;34m\u001b[0m\u001b[0;34m\u001b[0m\u001b[0m\n\u001b[0m\u001b[1;32m    431\u001b[0m         \u001b[0;32melif\u001b[0m \u001b[0misinstance\u001b[0m\u001b[0;34m(\u001b[0m\u001b[0mo\u001b[0m\u001b[0;34m,\u001b[0m \u001b[0mdict\u001b[0m\u001b[0;34m)\u001b[0m\u001b[0;34m:\u001b[0m\u001b[0;34m\u001b[0m\u001b[0;34m\u001b[0m\u001b[0m\n\u001b[1;32m    432\u001b[0m             \u001b[0;32myield\u001b[0m \u001b[0;32mfrom\u001b[0m \u001b[0m_iterencode_dict\u001b[0m\u001b[0;34m(\u001b[0m\u001b[0mo\u001b[0m\u001b[0;34m,\u001b[0m \u001b[0m_current_indent_level\u001b[0m\u001b[0;34m)\u001b[0m\u001b[0;34m\u001b[0m\u001b[0;34m\u001b[0m\u001b[0m\n",
      "\u001b[0;32m/usr/lib/python3.11/json/encoder.py\u001b[0m in \u001b[0;36m_iterencode_list\u001b[0;34m(lst, _current_indent_level)\u001b[0m\n\u001b[1;32m    324\u001b[0m                 \u001b[0;32melse\u001b[0m\u001b[0;34m:\u001b[0m\u001b[0;34m\u001b[0m\u001b[0;34m\u001b[0m\u001b[0m\n\u001b[1;32m    325\u001b[0m                     \u001b[0mchunks\u001b[0m \u001b[0;34m=\u001b[0m \u001b[0m_iterencode\u001b[0m\u001b[0;34m(\u001b[0m\u001b[0mvalue\u001b[0m\u001b[0;34m,\u001b[0m \u001b[0m_current_indent_level\u001b[0m\u001b[0;34m)\u001b[0m\u001b[0;34m\u001b[0m\u001b[0;34m\u001b[0m\u001b[0m\n\u001b[0;32m--> 326\u001b[0;31m                 \u001b[0;32myield\u001b[0m \u001b[0;32mfrom\u001b[0m \u001b[0mchunks\u001b[0m\u001b[0;34m\u001b[0m\u001b[0;34m\u001b[0m\u001b[0m\n\u001b[0m\u001b[1;32m    327\u001b[0m         \u001b[0;32mif\u001b[0m \u001b[0mnewline_indent\u001b[0m \u001b[0;32mis\u001b[0m \u001b[0;32mnot\u001b[0m \u001b[0;32mNone\u001b[0m\u001b[0;34m:\u001b[0m\u001b[0;34m\u001b[0m\u001b[0;34m\u001b[0m\u001b[0m\n\u001b[1;32m    328\u001b[0m             \u001b[0m_current_indent_level\u001b[0m \u001b[0;34m-=\u001b[0m \u001b[0;36m1\u001b[0m\u001b[0;34m\u001b[0m\u001b[0;34m\u001b[0m\u001b[0m\n",
      "\u001b[0;32m/usr/lib/python3.11/json/encoder.py\u001b[0m in \u001b[0;36m_iterencode_dict\u001b[0;34m(dct, _current_indent_level)\u001b[0m\n\u001b[1;32m    404\u001b[0m                 \u001b[0;32melse\u001b[0m\u001b[0;34m:\u001b[0m\u001b[0;34m\u001b[0m\u001b[0;34m\u001b[0m\u001b[0m\n\u001b[1;32m    405\u001b[0m                     \u001b[0mchunks\u001b[0m \u001b[0;34m=\u001b[0m \u001b[0m_iterencode\u001b[0m\u001b[0;34m(\u001b[0m\u001b[0mvalue\u001b[0m\u001b[0;34m,\u001b[0m \u001b[0m_current_indent_level\u001b[0m\u001b[0;34m)\u001b[0m\u001b[0;34m\u001b[0m\u001b[0;34m\u001b[0m\u001b[0m\n\u001b[0;32m--> 406\u001b[0;31m                 \u001b[0;32myield\u001b[0m \u001b[0;32mfrom\u001b[0m \u001b[0mchunks\u001b[0m\u001b[0;34m\u001b[0m\u001b[0;34m\u001b[0m\u001b[0m\n\u001b[0m\u001b[1;32m    407\u001b[0m         \u001b[0;32mif\u001b[0m \u001b[0mnewline_indent\u001b[0m \u001b[0;32mis\u001b[0m \u001b[0;32mnot\u001b[0m \u001b[0;32mNone\u001b[0m\u001b[0;34m:\u001b[0m\u001b[0;34m\u001b[0m\u001b[0;34m\u001b[0m\u001b[0m\n\u001b[1;32m    408\u001b[0m             \u001b[0m_current_indent_level\u001b[0m \u001b[0;34m-=\u001b[0m \u001b[0;36m1\u001b[0m\u001b[0;34m\u001b[0m\u001b[0;34m\u001b[0m\u001b[0m\n",
      "\u001b[0;32m/usr/lib/python3.11/json/encoder.py\u001b[0m in \u001b[0;36m_iterencode\u001b[0;34m(o, _current_indent_level)\u001b[0m\n\u001b[1;32m    437\u001b[0m                     \u001b[0;32mraise\u001b[0m \u001b[0mValueError\u001b[0m\u001b[0;34m(\u001b[0m\u001b[0;34m\"Circular reference detected\"\u001b[0m\u001b[0;34m)\u001b[0m\u001b[0;34m\u001b[0m\u001b[0;34m\u001b[0m\u001b[0m\n\u001b[1;32m    438\u001b[0m                 \u001b[0mmarkers\u001b[0m\u001b[0;34m[\u001b[0m\u001b[0mmarkerid\u001b[0m\u001b[0;34m]\u001b[0m \u001b[0;34m=\u001b[0m \u001b[0mo\u001b[0m\u001b[0;34m\u001b[0m\u001b[0;34m\u001b[0m\u001b[0m\n\u001b[0;32m--> 439\u001b[0;31m             \u001b[0mo\u001b[0m \u001b[0;34m=\u001b[0m \u001b[0m_default\u001b[0m\u001b[0;34m(\u001b[0m\u001b[0mo\u001b[0m\u001b[0;34m)\u001b[0m\u001b[0;34m\u001b[0m\u001b[0;34m\u001b[0m\u001b[0m\n\u001b[0m\u001b[1;32m    440\u001b[0m             \u001b[0;32myield\u001b[0m \u001b[0;32mfrom\u001b[0m \u001b[0m_iterencode\u001b[0m\u001b[0;34m(\u001b[0m\u001b[0mo\u001b[0m\u001b[0;34m,\u001b[0m \u001b[0m_current_indent_level\u001b[0m\u001b[0;34m)\u001b[0m\u001b[0;34m\u001b[0m\u001b[0;34m\u001b[0m\u001b[0m\n\u001b[1;32m    441\u001b[0m             \u001b[0;32mif\u001b[0m \u001b[0mmarkers\u001b[0m \u001b[0;32mis\u001b[0m \u001b[0;32mnot\u001b[0m \u001b[0;32mNone\u001b[0m\u001b[0;34m:\u001b[0m\u001b[0;34m\u001b[0m\u001b[0;34m\u001b[0m\u001b[0m\n",
      "\u001b[0;32m/tmp/ipython-input-27-2768868749.py\u001b[0m in \u001b[0;36mconvert_ndarray\u001b[0;34m(obj)\u001b[0m\n\u001b[1;32m      6\u001b[0m     \u001b[0;32melif\u001b[0m \u001b[0misinstance\u001b[0m\u001b[0;34m(\u001b[0m\u001b[0mobj\u001b[0m\u001b[0;34m,\u001b[0m \u001b[0;34m(\u001b[0m\u001b[0mnp\u001b[0m\u001b[0;34m.\u001b[0m\u001b[0mint32\u001b[0m\u001b[0;34m,\u001b[0m \u001b[0mnp\u001b[0m\u001b[0;34m.\u001b[0m\u001b[0mint64\u001b[0m\u001b[0;34m,\u001b[0m \u001b[0mnp\u001b[0m\u001b[0;34m.\u001b[0m\u001b[0mfloat32\u001b[0m\u001b[0;34m,\u001b[0m \u001b[0mnp\u001b[0m\u001b[0;34m.\u001b[0m\u001b[0mfloat64\u001b[0m\u001b[0;34m)\u001b[0m\u001b[0;34m)\u001b[0m\u001b[0;34m:\u001b[0m\u001b[0;34m\u001b[0m\u001b[0;34m\u001b[0m\u001b[0m\n\u001b[1;32m      7\u001b[0m         \u001b[0;32mreturn\u001b[0m \u001b[0mobj\u001b[0m\u001b[0;34m.\u001b[0m\u001b[0mitem\u001b[0m\u001b[0;34m(\u001b[0m\u001b[0;34m)\u001b[0m\u001b[0;34m\u001b[0m\u001b[0;34m\u001b[0m\u001b[0m\n\u001b[0;32m----> 8\u001b[0;31m     \u001b[0;32mraise\u001b[0m \u001b[0mTypeError\u001b[0m\u001b[0;34m(\u001b[0m\u001b[0;34mf\"Object of type {type(obj)} is not JSON serializable\"\u001b[0m\u001b[0;34m)\u001b[0m\u001b[0;34m\u001b[0m\u001b[0;34m\u001b[0m\u001b[0m\n\u001b[0m\u001b[1;32m      9\u001b[0m \u001b[0;34m\u001b[0m\u001b[0m\n\u001b[1;32m     10\u001b[0m \u001b[0;31m# Save files for DNABERT (Fine-tune) model\u001b[0m\u001b[0;34m\u001b[0m\u001b[0;34m\u001b[0m\u001b[0m\n",
      "\u001b[0;31mTypeError\u001b[0m: Object of type <class '__main__.DNABERTClassifier'> is not JSON serializable"
     ]
    }
   ],
   "source": [
    "import json\n",
    "\n",
    "def convert_ndarray(obj):\n",
    "    if isinstance(obj, np.ndarray):\n",
    "        return obj.tolist()\n",
    "    elif isinstance(obj, (np.int32, np.int64, np.float32, np.float64)):\n",
    "        return obj.item()\n",
    "    raise TypeError(f\"Object of type {type(obj)} is not JSON serializable\")\n",
    "\n",
    "# Save files for DNABERT (Fine-tune) model\n",
    "history_path = os.path.join(RESULT_DIR, \"dnabert_cv_results.json\")\n",
    "with open(history_path, \"w\") as f:\n",
    "    json.dump(dnabert_cv_results, f, default=convert_ndarray)\n",
    "\n",
    "history_path = os.path.join(RESULT_DIR, \"dnabert_histories.json\")\n",
    "with open(history_path, \"w\") as f:\n",
    "    json.dump(dnabert_histories, f, default=convert_ndarray)\n",
    "\n",
    "history_path = os.path.join(RESULT_DIR, \"dnabert_test_results.json\")\n",
    "with open(history_path, \"w\") as f:\n",
    "    json.dump(dnabert_test_results, f, default=convert_ndarray)\n",
    "\n",
    "print(f\"Training history for DNABERT (Fine-tune) model saved to {RESULT_DIR}\")\n",
    "\n",
    "# Save files for DNABERT (Frozen) model\n",
    "history_path = os.path.join(RESULT_DIR, \"dnabert_frozen_cv_results.json\")\n",
    "with open(history_path, \"w\") as f:\n",
    "    json.dump(dnabert_frozen_cv_results, f, default=convert_ndarray)\n",
    "\n",
    "history_path = os.path.join(RESULT_DIR, \"dnabert_frozen_histories.json\")\n",
    "with open(history_path, \"w\") as f:\n",
    "    json.dump(dnabert_frozen_histories, f, default=convert_ndarray)\n",
    "\n",
    "history_path = os.path.join(RESULT_DIR, \"dnabert_frozen_test_results.json\")\n",
    "with open(history_path, \"w\") as f:\n",
    "    json.dump(dnabert_frozen_test_results, f, default=convert_ndarray)\n",
    "\n",
    "print(f\"Training history for DNABERT (Frozen) model saved to {RESULT_DIR}\")\n",
    "\n",
    "# Save files for DNABERT (Frozen + LoRA) model\n",
    "history_path = os.path.join(RESULT_DIR, \"dnabert_lora_cv_results.json\")\n",
    "with open(history_path, \"w\") as f:\n",
    "    json.dump(dnabert_lora_cv_results, f, default=convert_ndarray)\n",
    "\n",
    "history_path = os.path.join(RESULT_DIR, \"dnabert_lora_histories.json\")\n",
    "with open(history_path, \"w\") as f:\n",
    "    json.dump(dnabert_lora_histories, f, default=convert_ndarray)\n",
    "\n",
    "history_path = os.path.join(RESULT_DIR, \"dnabert_lora_test_results.json\")\n",
    "with open(history_path, \"w\") as f:\n",
    "    json.dump(dnabert_lora_test_results, f, default=convert_ndarray)\n",
    "\n",
    "print(f\"Training history for DNABERT (Frozen + LoRA) model saved to {RESULT_DIR}\")"
   ]
  },
  {
   "cell_type": "markdown",
   "metadata": {
    "id": "f1LYsQYNU0R4"
   },
   "source": [
    "### **LOAD RESULTS**"
   ]
  },
  {
   "cell_type": "code",
   "execution_count": null,
   "metadata": {
    "id": "WmBqTHRXU25-"
   },
   "outputs": [],
   "source": [
    "# Load results for DNABERT (Fine-tune) model\n",
    "history_path = os.path.join(RESULT_DIR, \"dnabert_cv_results.json\")\n",
    "with open(history_path, \"r\") as f:\n",
    "    dnabert_cv_results = json.load(f)\n",
    "\n",
    "history_path = os.path.join(RESULT_DIR, \"dnabert_histories.json\")\n",
    "with open(history_path, \"r\") as f:\n",
    "    dnabert_histories = json.load(f)\n",
    "\n",
    "history_path = os.path.join(RESULT_DIR, \"dnabert_test_results.json\")\n",
    "with open(history_path, \"r\") as f:\n",
    "    dnabert_test_results = json.load(f)\n",
    "\n",
    "print(\"Training history for DNABERT (Fine-tune) model loaded!\")\n",
    "\n",
    "# Load results for DNABERT (Frozen) model\n",
    "history_path = os.path.join(RESULT_DIR, \"dnabert_frozen_cv_results.json\")\n",
    "with open(history_path, \"r\") as f:\n",
    "    dnabert_frozen_cv_results = json.load(f)\n",
    "\n",
    "history_path = os.path.join(RESULT_DIR, \"dnabert_frozen_histories.json\")\n",
    "with open(history_path, \"r\") as f:\n",
    "    dnabert_frozen_histories = json.load(f)\n",
    "\n",
    "history_path = os.path.join(RESULT_DIR, \"dnabert_frozen_test_results.json\")\n",
    "with open(history_path, \"r\") as f:\n",
    "    dnabert_frozen_test_results = json.load(f)\n",
    "\n",
    "print(\"Training history for DNABERT (Frozen) model loaded!\")\n",
    "\n",
    "# Load results for DNABERT (Frozen + LoRA) model\n",
    "history_path = os.path.join(RESULT_DIR, \"dnabert_lora_cv_results.json\")\n",
    "with open(history_path, \"r\") as f:\n",
    "    dnabert_lora_cv_results = json.load(f)\n",
    "\n",
    "history_path = os.path.join(RESULT_DIR, \"dnabert_lora_histories.json\")\n",
    "with open(history_path, \"r\") as f:\n",
    "    dnabert_lora_histories = json.load(f)\n",
    "\n",
    "history_path = os.path.join(RESULT_DIR, \"dnabert_lora_test_results.json\")\n",
    "with open(history_path, \"r\") as f:\n",
    "    dnabert_lora_test_results = json.load(f)\n",
    "\n",
    "print(\"Training history for DNABERT (Frozen + LoRA) model loaded!\")"
   ]
  },
  {
   "cell_type": "markdown",
   "metadata": {
    "id": "CfJmAnbIaB1s"
   },
   "source": [
    "### **VISUALIZATION FUNCTION FOR DNABERT MODELS**"
   ]
  },
  {
   "cell_type": "code",
   "execution_count": 21,
   "metadata": {
    "colab": {
     "base_uri": "https://localhost:8080/"
    },
    "executionInfo": {
     "elapsed": 27,
     "status": "ok",
     "timestamp": 1751485237357,
     "user": {
      "displayName": "Suvinava Basak",
      "userId": "08195407941131229046"
     },
     "user_tz": -120
    },
    "id": "V_4WbXtAZ0F9",
    "outputId": "252a121d-f239-4863-8c46-b8aa0f523bf3"
   },
   "outputs": [
    {
     "name": "stdout",
     "output_type": "stream",
     "text": [
      "Visualization function defined!\n"
     ]
    }
   ],
   "source": [
    "# Define a Smoothing Function\n",
    "def moving_average(values, window_size=3):\n",
    "    if len(values) < window_size:\n",
    "        return values\n",
    "    return [sum(values[i:i+window_size]) / window_size for i in range(len(values) - window_size + 1)]\n",
    "\n",
    "def plot_dnabert_results(model_results, training_history, test_results, model_name):\n",
    "    \"\"\"Plot comprehensive results for a DNABERT model\"\"\"\n",
    "\n",
    "    history = training_history\n",
    "    min_history_length = min(len(v) for v in history.values() if isinstance(v, list))\n",
    "    val_fold_results = model_results\n",
    "\n",
    "    val_targets = val_fold_results['val_targets']\n",
    "    val_probs = val_fold_results['val_probs']\n",
    "    val_preds = val_fold_results['val_preds']\n",
    "\n",
    "    test_targets = test_results['test_targets']\n",
    "    test_probs = test_results['test_probs']\n",
    "    test_preds = test_results['test_preds']\n",
    "\n",
    "\n",
    "    # Create comprehensive visualization\n",
    "    fig = plt.figure(figsize=(20, 12))\n",
    "    fig.suptitle(f'{model_name} - Comprehensive Results', fontsize=16, fontweight='bold')\n",
    "\n",
    "    window_size = 3\n",
    "    smoothed_train = moving_average(history[\"train_loss\"], window_size)\n",
    "    smoothed_val = moving_average(history[\"val_loss\"], window_size)\n",
    "    epochs = range(1, len(history[\"train_loss\"]) + 1)\n",
    "    epochs_smoothed = list(range(1, len(smoothed_train) + 1))\n",
    "\n",
    "    # 1. Loss curves (train vs validation)\n",
    "    plt.subplot(2, 3, 1)\n",
    "    # plt.plot(epochs, history[\"train_loss\"], label=\"Train Loss\", linewidth=2)\n",
    "    # plt.plot(epochs, history[\"val_loss\"], label=\"Validation Loss\", linewidth=2)\n",
    "    plt.plot(epochs_smoothed, smoothed_train, label=\"Smoothed Train Loss\", linewidth=2)\n",
    "    plt.plot(epochs_smoothed, smoothed_val, label=\"Smoothed Validation Loss\", linewidth=2)\n",
    "    plt.xlabel(\"Epoch\")\n",
    "    plt.ylabel(\"Loss\")\n",
    "    plt.title(\"Training vs Validation Loss\")\n",
    "    plt.legend()\n",
    "    plt.grid(True, alpha=0.3)\n",
    "\n",
    "    # 2. Performance metrics comparison (Train vs Validation)\n",
    "    plt.subplot(2, 3, 2)\n",
    "    # metrics = ['accuracy', 'precision', 'recall', 'f1']\n",
    "    # metric_names = ['Accuracy', 'Precision', 'Recall', 'F1-Score']\n",
    "    metrics = ['accuracy']\n",
    "    metric_names = ['Accuracy']\n",
    "\n",
    "    for i, metric in enumerate(metrics):\n",
    "        plt.plot(epochs, history[f\"train_{metric}\"], label=f\"Train {metric_names[i]}\", linestyle='--', alpha=0.7)\n",
    "        plt.plot(epochs, history[f\"val_{metric}\"], label=f\"Val {metric_names[i]}\", linewidth=2)\n",
    "\n",
    "    plt.xlabel(\"Epoch\")\n",
    "    plt.ylabel(\"Metric Value\")\n",
    "    plt.title(\"Train vs Validation Metrics\")\n",
    "    plt.legend(bbox_to_anchor=(1.05, 1), loc='upper left')\n",
    "    plt.grid(True, alpha=0.3)\n",
    "\n",
    "    # 3. ROC Curves\n",
    "    plt.subplot(2, 3, 3)\n",
    "    # Validation ROC\n",
    "    val_fpr, val_tpr, _ = roc_curve(val_targets, val_probs)\n",
    "    val_auc_score = auc(val_fpr, val_tpr)\n",
    "\n",
    "    # Test ROC\n",
    "    test_fpr, test_tpr, _ = roc_curve(test_targets, test_probs)\n",
    "    test_auc_score = auc(test_fpr, test_tpr)\n",
    "\n",
    "    plt.plot(val_fpr, val_tpr, label=f'Validation (AUC = {val_auc_score:.3f})', linewidth=2)\n",
    "    plt.plot(test_fpr, test_tpr, label=f'Test (AUC = {test_auc_score:.3f})', linewidth=2)\n",
    "    plt.plot([0, 1], [0, 1], 'k--', alpha=0.5, label='Random Classifier')\n",
    "    plt.xlabel('False Positive Rate')\n",
    "    plt.ylabel('True Positive Rate')\n",
    "    plt.title('ROC Curves')\n",
    "    plt.legend()\n",
    "    plt.grid(True, alpha=0.3)\n",
    "\n",
    "    # 4. Precision-Recall Curves\n",
    "    plt.subplot(2, 3, 4)\n",
    "    # Validation PR\n",
    "    val_precision_curve, val_recall_curve, _ = precision_recall_curve(val_targets, val_probs)\n",
    "    val_pr_auc = auc(val_recall_curve, val_precision_curve)\n",
    "\n",
    "    # Test PR\n",
    "    test_precision_curve, test_recall_curve, _ = precision_recall_curve(test_targets, test_probs)\n",
    "    test_pr_auc = auc(test_recall_curve, test_precision_curve)\n",
    "\n",
    "    plt.plot(val_recall_curve, val_precision_curve, label=f'Validation (AUC = {val_pr_auc:.3f})', linewidth=2)\n",
    "    plt.plot(test_recall_curve, test_precision_curve, label=f'Test (AUC = {test_pr_auc:.3f})', linewidth=2)\n",
    "    plt.xlabel('Recall')\n",
    "    plt.ylabel('Precision')\n",
    "    plt.title('Precision-Recall Curves')\n",
    "    plt.legend()\n",
    "    plt.grid(True, alpha=0.3)\n",
    "\n",
    "    # # 5. Learning Rate Schedule\n",
    "    # plt.subplot(2, 3, 5)\n",
    "    # plt.plot(epochs, history[\"learning_rate\"], marker='o', linewidth=2, markersize=4)\n",
    "    # plt.xlabel(\"Epoch\")\n",
    "    # plt.ylabel(\"Learning Rate\")\n",
    "    # plt.title(\"Learning Rate Schedule\")\n",
    "    # plt.yscale('log')\n",
    "    # plt.grid(True, alpha=0.3)\n",
    "\n",
    "    # Remove the 6th subplot for now\n",
    "    plt.delaxes(plt.subplot(2, 3, 6))\n",
    "\n",
    "    plt.tight_layout()\n",
    "    plt.show()\n",
    "\n",
    "    # Separate plot for Confusion Matrices\n",
    "    fig_cm, (ax1, ax2) = plt.subplots(1, 2, figsize=(12, 5))\n",
    "    fig_cm.suptitle(f'{model_name} - Confusion Matrices', fontsize=14, fontweight='bold')\n",
    "\n",
    "    # Validation confusion matrix\n",
    "    cm_val = confusion_matrix(val_targets, val_preds)\n",
    "    disp_val = ConfusionMatrixDisplay(confusion_matrix=cm_val, display_labels=[\"Non-Resistant\", \"Resistant\"])\n",
    "    disp_val.plot(ax=ax1, cmap=\"Blues\", colorbar=False)\n",
    "    ax1.set_title(\"Validation Set\")\n",
    "\n",
    "    # Test confusion matrix\n",
    "    cm_test = confusion_matrix(test_targets, test_preds)\n",
    "    disp_test = ConfusionMatrixDisplay(confusion_matrix=cm_test, display_labels=[\"Non-Resistant\", \"Resistant\"])\n",
    "    disp_test.plot(ax=ax2, cmap=\"Greens\", colorbar=False)\n",
    "    ax2.set_title(\"Test Set\")\n",
    "\n",
    "    plt.tight_layout()\n",
    "    plt.show()\n",
    "\n",
    "print(\"Visualization function defined!\")"
   ]
  },
  {
   "cell_type": "markdown",
   "metadata": {
    "id": "eanqaW7baKdT"
   },
   "source": [
    "### **PLOT DNABERT (FINE-TUNED) RESULTS**"
   ]
  },
  {
   "cell_type": "code",
   "execution_count": 22,
   "metadata": {
    "colab": {
     "base_uri": "https://localhost:8080/",
     "height": 1000
    },
    "executionInfo": {
     "elapsed": 1121,
     "status": "ok",
     "timestamp": 1751485241093,
     "user": {
      "displayName": "Suvinava Basak",
      "userId": "08195407941131229046"
     },
     "user_tz": -120
    },
    "id": "G32S3kbcaHVd",
    "outputId": "c6dc23a3-3327-4060-e00a-281258d08209"
   },
   "outputs": [
    {
     "name": "stdout",
     "output_type": "stream",
     "text": [
      "PLOTTING DNABERT (FINE-TUNED) RESULTS\n",
      "==================================================\n"
     ]
    },
    {
     "data": {
      "image/png": "[encoded data removed]",
      "text/plain": [
       "<Figure size 2000x1200 with 4 Axes>"
      ]
     },
     "metadata": {},
     "output_type": "display_data"
    },
    {
     "data": {
      "image/png": "[encoded data removed]",
      "text/plain": [
       "<Figure size 1200x500 with 2 Axes>"
      ]
     },
     "metadata": {},
     "output_type": "display_data"
    },
    {
     "name": "stdout",
     "output_type": "stream",
     "text": [
      "\n",
      "DNABERT (Fine-tuned) - Detailed Results Summary:\n",
      "Validation F1: 0.9302\n",
      "Test F1: 1.0000\n",
      "Trainable parameters: 89,191,681\n"
     ]
    }
   ],
   "source": [
    "print(\"PLOTTING DNABERT (FINE-TUNED) RESULTS\")\n",
    "print(\"=\"*50)\n",
    "\n",
    "# Call plotting function with single model setup\n",
    "plot_dnabert_results(\n",
    "    model_results=dnabert_results,                 # the dictionary with val metrics and model\n",
    "    training_history=dnabert_history,             # history returned from training\n",
    "    test_results=dnabert_test_results,            # results on test set\n",
    "    model_name=\"DNABERT (Fine-tuned)\"\n",
    ")\n",
    "\n",
    "# Print detailed summary\n",
    "print(f\"\\nDNABERT (Fine-tuned) - Detailed Results Summary:\")\n",
    "print(f\"Validation F1: {dnabert_results['val_f1']:.4f}\")\n",
    "print(f\"Test F1: {dnabert_test_results['test_f1']:.4f}\")\n",
    "print(f\"Trainable parameters: {dnabert_results['trainable_params']:,}\")"
   ]
  },
  {
   "cell_type": "markdown",
   "metadata": {
    "id": "J9cxLQ5hacTv"
   },
   "source": [
    "### **PLOT DNABERT (FROZEN) RESULTS**"
   ]
  },
  {
   "cell_type": "code",
   "execution_count": 23,
   "metadata": {
    "colab": {
     "base_uri": "https://localhost:8080/",
     "height": 1000
    },
    "executionInfo": {
     "elapsed": 815,
     "status": "ok",
     "timestamp": 1751485279758,
     "user": {
      "displayName": "Suvinava Basak",
      "userId": "08195407941131229046"
     },
     "user_tz": -120
    },
    "id": "zVM9LRmyaPff",
    "outputId": "4c49c660-95b4-458b-cfcd-94d0fa73e420"
   },
   "outputs": [
    {
     "name": "stdout",
     "output_type": "stream",
     "text": [
      "PLOTTING DNABERT (FROZEN) RESULTS\n",
      "==================================================\n"
     ]
    },
    {
     "data": {
      "image/png": "[encoded data removed]",
      "text/plain": [
       "<Figure size 2000x1200 with 4 Axes>"
      ]
     },
     "metadata": {},
     "output_type": "display_data"
    },
    {
     "data": {
      "image/png": "[encoded data removed]",
      "text/plain": [
       "<Figure size 1200x500 with 2 Axes>"
      ]
     },
     "metadata": {},
     "output_type": "display_data"
    },
    {
     "name": "stdout",
     "output_type": "stream",
     "text": [
      "\n",
      "DNABERT (Frozen) - Detailed Results Summary:\n",
      "Validation F1: 0.8696\n",
      "Test F1: 0.8889\n",
      "Trainable parameters: 769\n"
     ]
    }
   ],
   "source": [
    "print(\"PLOTTING DNABERT (FROZEN) RESULTS\")\n",
    "print(\"=\"*50)\n",
    "\n",
    "plot_dnabert_results(\n",
    "    model_results=dnabert_frozen_result,                 # the dictionary with val metrics and model\n",
    "    training_history=dnabert_frozen_history,             # history returned from training\n",
    "    test_results=dnabert_frozen_test_results,            # results on test set\n",
    "    model_name=\"DNABERT (Fine-tuned)\"\n",
    ")\n",
    "\n",
    "# Print detailed summary\n",
    "print(f\"\\nDNABERT (Frozen) - Detailed Results Summary:\")\n",
    "print(f\"Validation F1: {dnabert_frozen_result['val_f1']:.4f}\")\n",
    "print(f\"Test F1: {dnabert_frozen_test_results['test_f1']:.4f}\")\n",
    "print(f\"Trainable parameters: {dnabert_frozen_result['trainable_params']:,}\")"
   ]
  },
  {
   "cell_type": "markdown",
   "metadata": {
    "id": "ywaJJjL0VzC3"
   },
   "source": [
    "### **PLOT DNABERT (FROZEN + LoRA) RESULTS**"
   ]
  },
  {
   "cell_type": "code",
   "execution_count": 24,
   "metadata": {
    "colab": {
     "base_uri": "https://localhost:8080/",
     "height": 1000
    },
    "executionInfo": {
     "elapsed": 1179,
     "status": "ok",
     "timestamp": 1751485291961,
     "user": {
      "displayName": "Suvinava Basak",
      "userId": "08195407941131229046"
     },
     "user_tz": -120
    },
    "id": "zwsy4OtkahDI",
    "outputId": "59dea3cc-251d-4c83-88cd-62edf797cdea"
   },
   "outputs": [
    {
     "name": "stdout",
     "output_type": "stream",
     "text": [
      "PLOTTING DNABERT (FROZEN + LoRA) RESULTS\n",
      "==================================================\n"
     ]
    },
    {
     "data": {
      "image/png": "[encoded data removed]",
      "text/plain": [
       "<Figure size 2000x1200 with 4 Axes>"
      ]
     },
     "metadata": {},
     "output_type": "display_data"
    },
    {
     "data": {
      "image/png": "[encoded data removed]",
      "text/plain": [
       "<Figure size 1200x500 with 2 Axes>"
      ]
     },
     "metadata": {},
     "output_type": "display_data"
    },
    {
     "name": "stdout",
     "output_type": "stream",
     "text": [
      "\n",
      "DNABERT (Frozen) - Detailed Results Summary:\n",
      "Validation F1: 0.9756\n",
      "Test F1: 0.9565\n",
      "Trainable parameters: 590,593\n"
     ]
    }
   ],
   "source": [
    "print(\"PLOTTING DNABERT (FROZEN + LoRA) RESULTS\")\n",
    "print(\"=\"*50)\n",
    "\n",
    "plot_dnabert_results(\n",
    "    model_results=dnabert_lora_result,                 # the dictionary with val metrics and model\n",
    "    training_history=dnabert_lora_history,             # history returned from training\n",
    "    test_results=dnabert_lora_test_results,            # results on test set\n",
    "    model_name=\"DNABERT (Fine-tuned)\"\n",
    ")\n",
    "\n",
    "# Print detailed summary\n",
    "print(f\"\\nDNABERT (Frozen) - Detailed Results Summary:\")\n",
    "print(f\"Validation F1: {dnabert_lora_result['val_f1']:.4f}\")\n",
    "print(f\"Test F1: {dnabert_lora_test_results['test_f1']:.4f}\")\n",
    "print(f\"Trainable parameters: {dnabert_lora_result['trainable_params']:,}\")"
   ]
  },
  {
   "cell_type": "code",
   "execution_count": null,
   "metadata": {
    "id": "lF9uxQpH0a0L"
   },
   "outputs": [],
   "source": []
  },
  {
   "cell_type": "code",
   "execution_count": null,
   "metadata": {
    "id": "XBoeeDKp02nb"
   },
   "outputs": [],
   "source": []
  }
 ],
 "metadata": {
  "accelerator": "GPU",
  "colab": {
   "collapsed_sections": [
    "Sp1TDTKzTA8c",
    "f1LYsQYNU0R4"
   ],
   "gpuType": "T4",
   "provenance": []
  },
  "kernelspec": {
   "display_name": "Python 3 (ipykernel)",
   "language": "python",
   "name": "python3"
  },
  "language_info": {
   "codemirror_mode": {
    "name": "ipython",
    "version": 3
   },
   "file_extension": ".py",
   "mimetype": "text/x-python",
   "name": "python",
   "nbconvert_exporter": "python",
   "pygments_lexer": "ipython3",
   "version": "3.12.5"
  },
  "widgets": {
   "application/vnd.jupyter.widget-state+json": {
    "0375ae8d05e14da0b7c52b747895cfd4": {
     "model_module": "@jupyter-widgets/controls",
     "model_module_version": "1.5.0",
     "model_name": "HBoxModel",
     "state": {
      "_dom_classes": [],
      "_model_module": "@jupyter-widgets/controls",
      "_model_module_version": "1.5.0",
      "_model_name": "HBoxModel",
      "_view_count": null,
      "_view_module": "@jupyter-widgets/controls",
      "_view_module_version": "1.5.0",
      "_view_name": "HBoxView",
      "box_style": "",
      "children": [
       "IPY_MODEL_d702f6fd54244b118463bcb77cf19f38",
       "IPY_MODEL_51add420b8194e0997b6a98eda6b89ab",
       "IPY_MODEL_92db3105667d4727a899e741a6455e78"
      ],
      "layout": "IPY_MODEL_710c469a9b2d4305a9dd643e55825e89"
     }
    },
    "04a6e1579bda45bcb3f5b25eaaedb75b": {
     "model_module": "@jupyter-widgets/controls",
     "model_module_version": "1.5.0",
     "model_name": "ProgressStyleModel",
     "state": {
      "_model_module": "@jupyter-widgets/controls",
      "_model_module_version": "1.5.0",
      "_model_name": "ProgressStyleModel",
      "_view_count": null,
      "_view_module": "@jupyter-widgets/base",
      "_view_module_version": "1.2.0",
      "_view_name": "StyleView",
      "bar_color": null,
      "description_width": ""
     }
    },
    "07ed41f760624e43b05b9771e9ccf3d0": {
     "model_module": "@jupyter-widgets/base",
     "model_module_version": "1.2.0",
     "model_name": "LayoutModel",
     "state": {
      "_model_module": "@jupyter-widgets/base",
      "_model_module_version": "1.2.0",
      "_model_name": "LayoutModel",
      "_view_count": null,
      "_view_module": "@jupyter-widgets/base",
      "_view_module_version": "1.2.0",
      "_view_name": "LayoutView",
      "align_content": null,
      "align_items": null,
      "align_self": null,
      "border": null,
      "bottom": null,
      "display": null,
      "flex": null,
      "flex_flow": null,
      "grid_area": null,
      "grid_auto_columns": null,
      "grid_auto_flow": null,
      "grid_auto_rows": null,
      "grid_column": null,
      "grid_gap": null,
      "grid_row": null,
      "grid_template_areas": null,
      "grid_template_columns": null,
      "grid_template_rows": null,
      "height": null,
      "justify_content": null,
      "justify_items": null,
      "left": null,
      "margin": null,
      "max_height": null,
      "max_width": null,
      "min_height": null,
      "min_width": null,
      "object_fit": null,
      "object_position": null,
      "order": null,
      "overflow": null,
      "overflow_x": null,
      "overflow_y": null,
      "padding": null,
      "right": null,
      "top": null,
      "visibility": null,
      "width": null
     }
    },
    "0881bcceeef74abb896d738ded6b2cf4": {
     "model_module": "@jupyter-widgets/controls",
     "model_module_version": "1.5.0",
     "model_name": "HTMLModel",
     "state": {
      "_dom_classes": [],
      "_model_module": "@jupyter-widgets/controls",
      "_model_module_version": "1.5.0",
      "_model_name": "HTMLModel",
      "_view_count": null,
      "_view_module": "@jupyter-widgets/controls",
      "_view_module_version": "1.5.0",
      "_view_name": "HTMLView",
      "description": "",
      "description_tooltip": null,
      "layout": "IPY_MODEL_47e28536cdf34d63a418756ca75cb8e8",
      "placeholder": "​",
      "style": "IPY_MODEL_2ccaa00cfbcc4086b5146d7ea2112977",
      "value": " 112/112 [00:00&lt;00:00, 12.9kB/s]"
     }
    },
    "0950bb3bf9ea4cf7ad04739dcaf218dd": {
     "model_module": "@jupyter-widgets/base",
     "model_module_version": "1.2.0",
     "model_name": "LayoutModel",
     "state": {
      "_model_module": "@jupyter-widgets/base",
      "_model_module_version": "1.2.0",
      "_model_name": "LayoutModel",
      "_view_count": null,
      "_view_module": "@jupyter-widgets/base",
      "_view_module_version": "1.2.0",
      "_view_name": "LayoutView",
      "align_content": null,
      "align_items": null,
      "align_self": null,
      "border": null,
      "bottom": null,
      "display": null,
      "flex": null,
      "flex_flow": null,
      "grid_area": null,
      "grid_auto_columns": null,
      "grid_auto_flow": null,
      "grid_auto_rows": null,
      "grid_column": null,
      "grid_gap": null,
      "grid_row": null,
      "grid_template_areas": null,
      "grid_template_columns": null,
      "grid_template_rows": null,
      "height": null,
      "justify_content": null,
      "justify_items": null,
      "left": null,
      "margin": null,
      "max_height": null,
      "max_width": null,
      "min_height": null,
      "min_width": null,
      "object_fit": null,
      "object_position": null,
      "order": null,
      "overflow": null,
      "overflow_x": null,
      "overflow_y": null,
      "padding": null,
      "right": null,
      "top": null,
      "visibility": null,
      "width": "20px"
     }
    },
    "0c4c50e6c9e649b5ba1d2d427b7dc2d7": {
     "model_module": "@jupyter-widgets/controls",
     "model_module_version": "1.5.0",
     "model_name": "FloatProgressModel",
     "state": {
      "_dom_classes": [],
      "_model_module": "@jupyter-widgets/controls",
      "_model_module_version": "1.5.0",
      "_model_name": "FloatProgressModel",
      "_view_count": null,
      "_view_module": "@jupyter-widgets/controls",
      "_view_module_version": "1.5.0",
      "_view_name": "ProgressView",
      "bar_style": "success",
      "description": "",
      "description_tooltip": null,
      "layout": "IPY_MODEL_fc8ffd59cccc42cfb9c45ed73c5a61e2",
      "max": 1,
      "min": 0,
      "orientation": "horizontal",
      "style": "IPY_MODEL_8560f08d81bb46af914ce94aab5968d9",
      "value": 1
     }
    },
    "0d95821c2ebf411bba3b9f574951beba": {
     "model_module": "@jupyter-widgets/controls",
     "model_module_version": "1.5.0",
     "model_name": "DescriptionStyleModel",
     "state": {
      "_model_module": "@jupyter-widgets/controls",
      "_model_module_version": "1.5.0",
      "_model_name": "DescriptionStyleModel",
      "_view_count": null,
      "_view_module": "@jupyter-widgets/base",
      "_view_module_version": "1.2.0",
      "_view_name": "StyleView",
      "description_width": ""
     }
    },
    "11498b55fd004f32952160054cd6f2b1": {
     "model_module": "@jupyter-widgets/controls",
     "model_module_version": "1.5.0",
     "model_name": "FloatProgressModel",
     "state": {
      "_dom_classes": [],
      "_model_module": "@jupyter-widgets/controls",
      "_model_module_version": "1.5.0",
      "_model_name": "FloatProgressModel",
      "_view_count": null,
      "_view_module": "@jupyter-widgets/controls",
      "_view_module_version": "1.5.0",
      "_view_name": "ProgressView",
      "bar_style": "success",
      "description": "",
      "description_tooltip": null,
      "layout": "IPY_MODEL_8f9db6dcb9b7444891fb3febccbd0907",
      "max": 359199902,
      "min": 0,
      "orientation": "horizontal",
      "style": "IPY_MODEL_d48cd85a25d74a849f3283332d23f79e",
      "value": 359199902
     }
    },
    "160f437035bd4439a35b2efae25a2026": {
     "model_module": "@jupyter-widgets/controls",
     "model_module_version": "1.5.0",
     "model_name": "DescriptionStyleModel",
     "state": {
      "_model_module": "@jupyter-widgets/controls",
      "_model_module_version": "1.5.0",
      "_model_name": "DescriptionStyleModel",
      "_view_count": null,
      "_view_module": "@jupyter-widgets/base",
      "_view_module_version": "1.2.0",
      "_view_name": "StyleView",
      "description_width": ""
     }
    },
    "1a508dd0f0704c3f9f17fe2ec7fb2718": {
     "model_module": "@jupyter-widgets/base",
     "model_module_version": "1.2.0",
     "model_name": "LayoutModel",
     "state": {
      "_model_module": "@jupyter-widgets/base",
      "_model_module_version": "1.2.0",
      "_model_name": "LayoutModel",
      "_view_count": null,
      "_view_module": "@jupyter-widgets/base",
      "_view_module_version": "1.2.0",
      "_view_name": "LayoutView",
      "align_content": null,
      "align_items": null,
      "align_self": null,
      "border": null,
      "bottom": null,
      "display": null,
      "flex": null,
      "flex_flow": null,
      "grid_area": null,
      "grid_auto_columns": null,
      "grid_auto_flow": null,
      "grid_auto_rows": null,
      "grid_column": null,
      "grid_gap": null,
      "grid_row": null,
      "grid_template_areas": null,
      "grid_template_columns": null,
      "grid_template_rows": null,
      "height": null,
      "justify_content": null,
      "justify_items": null,
      "left": null,
      "margin": null,
      "max_height": null,
      "max_width": null,
      "min_height": null,
      "min_width": null,
      "object_fit": null,
      "object_position": null,
      "order": null,
      "overflow": null,
      "overflow_x": null,
      "overflow_y": null,
      "padding": null,
      "right": null,
      "top": null,
      "visibility": null,
      "width": null
     }
    },
    "1f446d2573244b6ab0499d09df732ef5": {
     "model_module": "@jupyter-widgets/base",
     "model_module_version": "1.2.0",
     "model_name": "LayoutModel",
     "state": {
      "_model_module": "@jupyter-widgets/base",
      "_model_module_version": "1.2.0",
      "_model_name": "LayoutModel",
      "_view_count": null,
      "_view_module": "@jupyter-widgets/base",
      "_view_module_version": "1.2.0",
      "_view_name": "LayoutView",
      "align_content": null,
      "align_items": null,
      "align_self": null,
      "border": null,
      "bottom": null,
      "display": null,
      "flex": null,
      "flex_flow": null,
      "grid_area": null,
      "grid_auto_columns": null,
      "grid_auto_flow": null,
      "grid_auto_rows": null,
      "grid_column": null,
      "grid_gap": null,
      "grid_row": null,
      "grid_template_areas": null,
      "grid_template_columns": null,
      "grid_template_rows": null,
      "height": null,
      "justify_content": null,
      "justify_items": null,
      "left": null,
      "margin": null,
      "max_height": null,
      "max_width": null,
      "min_height": null,
      "min_width": null,
      "object_fit": null,
      "object_position": null,
      "order": null,
      "overflow": null,
      "overflow_x": null,
      "overflow_y": null,
      "padding": null,
      "right": null,
      "top": null,
      "visibility": null,
      "width": null
     }
    },
    "214d7354e5944931b8bb48e4663c9598": {
     "model_module": "@jupyter-widgets/base",
     "model_module_version": "1.2.0",
     "model_name": "LayoutModel",
     "state": {
      "_model_module": "@jupyter-widgets/base",
      "_model_module_version": "1.2.0",
      "_model_name": "LayoutModel",
      "_view_count": null,
      "_view_module": "@jupyter-widgets/base",
      "_view_module_version": "1.2.0",
      "_view_name": "LayoutView",
      "align_content": null,
      "align_items": null,
      "align_self": null,
      "border": null,
      "bottom": null,
      "display": null,
      "flex": null,
      "flex_flow": null,
      "grid_area": null,
      "grid_auto_columns": null,
      "grid_auto_flow": null,
      "grid_auto_rows": null,
      "grid_column": null,
      "grid_gap": null,
      "grid_row": null,
      "grid_template_areas": null,
      "grid_template_columns": null,
      "grid_template_rows": null,
      "height": null,
      "justify_content": null,
      "justify_items": null,
      "left": null,
      "margin": null,
      "max_height": null,
      "max_width": null,
      "min_height": null,
      "min_width": null,
      "object_fit": null,
      "object_position": null,
      "order": null,
      "overflow": null,
      "overflow_x": null,
      "overflow_y": null,
      "padding": null,
      "right": null,
      "top": null,
      "visibility": null,
      "width": null
     }
    },
    "23625fc363784ad9ace3eb0b2be00766": {
     "model_module": "@jupyter-widgets/controls",
     "model_module_version": "1.5.0",
     "model_name": "FloatProgressModel",
     "state": {
      "_dom_classes": [],
      "_model_module": "@jupyter-widgets/controls",
      "_model_module_version": "1.5.0",
      "_model_name": "FloatProgressModel",
      "_view_count": null,
      "_view_module": "@jupyter-widgets/controls",
      "_view_module_version": "1.5.0",
      "_view_name": "ProgressView",
      "bar_style": "success",
      "description": "",
      "description_tooltip": null,
      "layout": "IPY_MODEL_3710cc83e9c44bfca50304d8a3aa1370",
      "max": 40,
      "min": 0,
      "orientation": "horizontal",
      "style": "IPY_MODEL_8126439b189d42fc89e2f4ed1a5cca11",
      "value": 40
     }
    },
    "23a68dc529104025bf8d042678bf2854": {
     "model_module": "@jupyter-widgets/base",
     "model_module_version": "1.2.0",
     "model_name": "LayoutModel",
     "state": {
      "_model_module": "@jupyter-widgets/base",
      "_model_module_version": "1.2.0",
      "_model_name": "LayoutModel",
      "_view_count": null,
      "_view_module": "@jupyter-widgets/base",
      "_view_module_version": "1.2.0",
      "_view_name": "LayoutView",
      "align_content": null,
      "align_items": null,
      "align_self": null,
      "border": null,
      "bottom": null,
      "display": null,
      "flex": null,
      "flex_flow": null,
      "grid_area": null,
      "grid_auto_columns": null,
      "grid_auto_flow": null,
      "grid_auto_rows": null,
      "grid_column": null,
      "grid_gap": null,
      "grid_row": null,
      "grid_template_areas": null,
      "grid_template_columns": null,
      "grid_template_rows": null,
      "height": null,
      "justify_content": null,
      "justify_items": null,
      "left": null,
      "margin": null,
      "max_height": null,
      "max_width": null,
      "min_height": null,
      "min_width": null,
      "object_fit": null,
      "object_position": null,
      "order": null,
      "overflow": null,
      "overflow_x": null,
      "overflow_y": null,
      "padding": null,
      "right": null,
      "top": null,
      "visibility": null,
      "width": null
     }
    },
    "2ccaa00cfbcc4086b5146d7ea2112977": {
     "model_module": "@jupyter-widgets/controls",
     "model_module_version": "1.5.0",
     "model_name": "DescriptionStyleModel",
     "state": {
      "_model_module": "@jupyter-widgets/controls",
      "_model_module_version": "1.5.0",
      "_model_name": "DescriptionStyleModel",
      "_view_count": null,
      "_view_module": "@jupyter-widgets/base",
      "_view_module_version": "1.2.0",
      "_view_name": "StyleView",
      "description_width": ""
     }
    },
    "30bf71bb968d4cada4acb79a7f99fcc0": {
     "model_module": "@jupyter-widgets/base",
     "model_module_version": "1.2.0",
     "model_name": "LayoutModel",
     "state": {
      "_model_module": "@jupyter-widgets/base",
      "_model_module_version": "1.2.0",
      "_model_name": "LayoutModel",
      "_view_count": null,
      "_view_module": "@jupyter-widgets/base",
      "_view_module_version": "1.2.0",
      "_view_name": "LayoutView",
      "align_content": null,
      "align_items": null,
      "align_self": null,
      "border": null,
      "bottom": null,
      "display": null,
      "flex": null,
      "flex_flow": null,
      "grid_area": null,
      "grid_auto_columns": null,
      "grid_auto_flow": null,
      "grid_auto_rows": null,
      "grid_column": null,
      "grid_gap": null,
      "grid_row": null,
      "grid_template_areas": null,
      "grid_template_columns": null,
      "grid_template_rows": null,
      "height": null,
      "justify_content": null,
      "justify_items": null,
      "left": null,
      "margin": null,
      "max_height": null,
      "max_width": null,
      "min_height": null,
      "min_width": null,
      "object_fit": null,
      "object_position": null,
      "order": null,
      "overflow": null,
      "overflow_x": null,
      "overflow_y": null,
      "padding": null,
      "right": null,
      "top": null,
      "visibility": null,
      "width": null
     }
    },
    "30ca152430874dceb986f7e49efa17c8": {
     "model_module": "@jupyter-widgets/controls",
     "model_module_version": "1.5.0",
     "model_name": "HTMLModel",
     "state": {
      "_dom_classes": [],
      "_model_module": "@jupyter-widgets/controls",
      "_model_module_version": "1.5.0",
      "_model_name": "HTMLModel",
      "_view_count": null,
      "_view_module": "@jupyter-widgets/controls",
      "_view_module_version": "1.5.0",
      "_view_name": "HTMLView",
      "description": "",
      "description_tooltip": null,
      "layout": "IPY_MODEL_3c7b22d18e7e48b5829aeea8a430e0ef",
      "placeholder": "​",
      "style": "IPY_MODEL_6d8593e086604557b66c4de20a8f5b04",
      "value": " 807/807 [00:00&lt;00:00, 39.2kB/s]"
     }
    },
    "33adb26106104d77bf2f4ab458a7d276": {
     "model_module": "@jupyter-widgets/controls",
     "model_module_version": "1.5.0",
     "model_name": "FloatProgressModel",
     "state": {
      "_dom_classes": [],
      "_model_module": "@jupyter-widgets/controls",
      "_model_module_version": "1.5.0",
      "_model_name": "FloatProgressModel",
      "_view_count": null,
      "_view_module": "@jupyter-widgets/controls",
      "_view_module_version": "1.5.0",
      "_view_name": "ProgressView",
      "bar_style": "success",
      "description": "",
      "description_tooltip": null,
      "layout": "IPY_MODEL_c9182c33b3c2419e98882f76901a257c",
      "max": 112,
      "min": 0,
      "orientation": "horizontal",
      "style": "IPY_MODEL_04a6e1579bda45bcb3f5b25eaaedb75b",
      "value": 112
     }
    },
    "34a43878566b4b06a1d9c1f1df1245ef": {
     "model_module": "@jupyter-widgets/controls",
     "model_module_version": "1.5.0",
     "model_name": "HTMLModel",
     "state": {
      "_dom_classes": [],
      "_model_module": "@jupyter-widgets/controls",
      "_model_module_version": "1.5.0",
      "_model_name": "HTMLModel",
      "_view_count": null,
      "_view_module": "@jupyter-widgets/controls",
      "_view_module_version": "1.5.0",
      "_view_name": "HTMLView",
      "description": "",
      "description_tooltip": null,
      "layout": "IPY_MODEL_30bf71bb968d4cada4acb79a7f99fcc0",
      "placeholder": "​",
      "style": "IPY_MODEL_7da3f159363246e1bc104fede33d3106",
      "value": " 1.45k/? [00:00&lt;00:00, 143kB/s]"
     }
    },
    "35b2b15a0b86447cb57fee4242ea2271": {
     "model_module": "@jupyter-widgets/controls",
     "model_module_version": "1.5.0",
     "model_name": "HTMLModel",
     "state": {
      "_dom_classes": [],
      "_model_module": "@jupyter-widgets/controls",
      "_model_module_version": "1.5.0",
      "_model_name": "HTMLModel",
      "_view_count": null,
      "_view_module": "@jupyter-widgets/controls",
      "_view_module_version": "1.5.0",
      "_view_name": "HTMLView",
      "description": "",
      "description_tooltip": null,
      "layout": "IPY_MODEL_1f446d2573244b6ab0499d09df732ef5",
      "placeholder": "​",
      "style": "IPY_MODEL_a7c3a1bf72924c3288b13f90f410b1c9",
      "value": " 40.0/40.0 [00:00&lt;00:00, 3.78kB/s]"
     }
    },
    "3710cc83e9c44bfca50304d8a3aa1370": {
     "model_module": "@jupyter-widgets/base",
     "model_module_version": "1.2.0",
     "model_name": "LayoutModel",
     "state": {
      "_model_module": "@jupyter-widgets/base",
      "_model_module_version": "1.2.0",
      "_model_name": "LayoutModel",
      "_view_count": null,
      "_view_module": "@jupyter-widgets/base",
      "_view_module_version": "1.2.0",
      "_view_name": "LayoutView",
      "align_content": null,
      "align_items": null,
      "align_self": null,
      "border": null,
      "bottom": null,
      "display": null,
      "flex": null,
      "flex_flow": null,
      "grid_area": null,
      "grid_auto_columns": null,
      "grid_auto_flow": null,
      "grid_auto_rows": null,
      "grid_column": null,
      "grid_gap": null,
      "grid_row": null,
      "grid_template_areas": null,
      "grid_template_columns": null,
      "grid_template_rows": null,
      "height": null,
      "justify_content": null,
      "justify_items": null,
      "left": null,
      "margin": null,
      "max_height": null,
      "max_width": null,
      "min_height": null,
      "min_width": null,
      "object_fit": null,
      "object_position": null,
      "order": null,
      "overflow": null,
      "overflow_x": null,
      "overflow_y": null,
      "padding": null,
      "right": null,
      "top": null,
      "visibility": null,
      "width": null
     }
    },
    "382fc78f4d0648cc9b593475f0191c59": {
     "model_module": "@jupyter-widgets/controls",
     "model_module_version": "1.5.0",
     "model_name": "DescriptionStyleModel",
     "state": {
      "_model_module": "@jupyter-widgets/controls",
      "_model_module_version": "1.5.0",
      "_model_name": "DescriptionStyleModel",
      "_view_count": null,
      "_view_module": "@jupyter-widgets/base",
      "_view_module_version": "1.2.0",
      "_view_name": "StyleView",
      "description_width": ""
     }
    },
    "3992d727c289479a94b1dd439afd0176": {
     "model_module": "@jupyter-widgets/controls",
     "model_module_version": "1.5.0",
     "model_name": "HTMLModel",
     "state": {
      "_dom_classes": [],
      "_model_module": "@jupyter-widgets/controls",
      "_model_module_version": "1.5.0",
      "_model_name": "HTMLModel",
      "_view_count": null,
      "_view_module": "@jupyter-widgets/controls",
      "_view_module_version": "1.5.0",
      "_view_name": "HTMLView",
      "description": "",
      "description_tooltip": null,
      "layout": "IPY_MODEL_e6cddbcf7b97421ba6bb0cf47a3efd9f",
      "placeholder": "​",
      "style": "IPY_MODEL_58de8f8727a340ed892addd624d6c13a",
      "value": "configuration_bert.py: 100%"
     }
    },
    "3c7b22d18e7e48b5829aeea8a430e0ef": {
     "model_module": "@jupyter-widgets/base",
     "model_module_version": "1.2.0",
     "model_name": "LayoutModel",
     "state": {
      "_model_module": "@jupyter-widgets/base",
      "_model_module_version": "1.2.0",
      "_model_name": "LayoutModel",
      "_view_count": null,
      "_view_module": "@jupyter-widgets/base",
      "_view_module_version": "1.2.0",
      "_view_name": "LayoutView",
      "align_content": null,
      "align_items": null,
      "align_self": null,
      "border": null,
      "bottom": null,
      "display": null,
      "flex": null,
      "flex_flow": null,
      "grid_area": null,
      "grid_auto_columns": null,
      "grid_auto_flow": null,
      "grid_auto_rows": null,
      "grid_column": null,
      "grid_gap": null,
      "grid_row": null,
      "grid_template_areas": null,
      "grid_template_columns": null,
      "grid_template_rows": null,
      "height": null,
      "justify_content": null,
      "justify_items": null,
      "left": null,
      "margin": null,
      "max_height": null,
      "max_width": null,
      "min_height": null,
      "min_width": null,
      "object_fit": null,
      "object_position": null,
      "order": null,
      "overflow": null,
      "overflow_x": null,
      "overflow_y": null,
      "padding": null,
      "right": null,
      "top": null,
      "visibility": null,
      "width": null
     }
    },
    "47e28536cdf34d63a418756ca75cb8e8": {
     "model_module": "@jupyter-widgets/base",
     "model_module_version": "1.2.0",
     "model_name": "LayoutModel",
     "state": {
      "_model_module": "@jupyter-widgets/base",
      "_model_module_version": "1.2.0",
      "_model_name": "LayoutModel",
      "_view_count": null,
      "_view_module": "@jupyter-widgets/base",
      "_view_module_version": "1.2.0",
      "_view_name": "LayoutView",
      "align_content": null,
      "align_items": null,
      "align_self": null,
      "border": null,
      "bottom": null,
      "display": null,
      "flex": null,
      "flex_flow": null,
      "grid_area": null,
      "grid_auto_columns": null,
      "grid_auto_flow": null,
      "grid_auto_rows": null,
      "grid_column": null,
      "grid_gap": null,
      "grid_row": null,
      "grid_template_areas": null,
      "grid_template_columns": null,
      "grid_template_rows": null,
      "height": null,
      "justify_content": null,
      "justify_items": null,
      "left": null,
      "margin": null,
      "max_height": null,
      "max_width": null,
      "min_height": null,
      "min_width": null,
      "object_fit": null,
      "object_position": null,
      "order": null,
      "overflow": null,
      "overflow_x": null,
      "overflow_y": null,
      "padding": null,
      "right": null,
      "top": null,
      "visibility": null,
      "width": null
     }
    },
    "4b0c0794b1684ba1a600c2af3626b457": {
     "model_module": "@jupyter-widgets/controls",
     "model_module_version": "1.5.0",
     "model_name": "DescriptionStyleModel",
     "state": {
      "_model_module": "@jupyter-widgets/controls",
      "_model_module_version": "1.5.0",
      "_model_name": "DescriptionStyleModel",
      "_view_count": null,
      "_view_module": "@jupyter-widgets/base",
      "_view_module_version": "1.2.0",
      "_view_name": "StyleView",
      "description_width": ""
     }
    },
    "4fded5d9b28e41a38ef60d6bf31f5126": {
     "model_module": "@jupyter-widgets/controls",
     "model_module_version": "1.5.0",
     "model_name": "HTMLModel",
     "state": {
      "_dom_classes": [],
      "_model_module": "@jupyter-widgets/controls",
      "_model_module_version": "1.5.0",
      "_model_name": "HTMLModel",
      "_view_count": null,
      "_view_module": "@jupyter-widgets/controls",
      "_view_module_version": "1.5.0",
      "_view_name": "HTMLView",
      "description": "",
      "description_tooltip": null,
      "layout": "IPY_MODEL_ec44fefab7194fd3949bffbab3785367",
      "placeholder": "​",
      "style": "IPY_MODEL_80207aadd5b447bfb85398f923f32e3c",
      "value": "model.safetensors: 100%"
     }
    },
    "51add420b8194e0997b6a98eda6b89ab": {
     "model_module": "@jupyter-widgets/controls",
     "model_module_version": "1.5.0",
     "model_name": "FloatProgressModel",
     "state": {
      "_dom_classes": [],
      "_model_module": "@jupyter-widgets/controls",
      "_model_module_version": "1.5.0",
      "_model_name": "FloatProgressModel",
      "_view_count": null,
      "_view_module": "@jupyter-widgets/controls",
      "_view_module_version": "1.5.0",
      "_view_name": "ProgressView",
      "bar_style": "success",
      "description": "",
      "description_tooltip": null,
      "layout": "IPY_MODEL_0950bb3bf9ea4cf7ad04739dcaf218dd",
      "max": 1,
      "min": 0,
      "orientation": "horizontal",
      "style": "IPY_MODEL_fe23f45234564d23ba345b1f603dcf15",
      "value": 1
     }
    },
    "5229c0e5ba5449069ecf7584319c165a": {
     "model_module": "@jupyter-widgets/base",
     "model_module_version": "1.2.0",
     "model_name": "LayoutModel",
     "state": {
      "_model_module": "@jupyter-widgets/base",
      "_model_module_version": "1.2.0",
      "_model_name": "LayoutModel",
      "_view_count": null,
      "_view_module": "@jupyter-widgets/base",
      "_view_module_version": "1.2.0",
      "_view_name": "LayoutView",
      "align_content": null,
      "align_items": null,
      "align_self": null,
      "border": null,
      "bottom": null,
      "display": null,
      "flex": null,
      "flex_flow": null,
      "grid_area": null,
      "grid_auto_columns": null,
      "grid_auto_flow": null,
      "grid_auto_rows": null,
      "grid_column": null,
      "grid_gap": null,
      "grid_row": null,
      "grid_template_areas": null,
      "grid_template_columns": null,
      "grid_template_rows": null,
      "height": null,
      "justify_content": null,
      "justify_items": null,
      "left": null,
      "margin": null,
      "max_height": null,
      "max_width": null,
      "min_height": null,
      "min_width": null,
      "object_fit": null,
      "object_position": null,
      "order": null,
      "overflow": null,
      "overflow_x": null,
      "overflow_y": null,
      "padding": null,
      "right": null,
      "top": null,
      "visibility": null,
      "width": "20px"
     }
    },
    "522f3ea6b021462fa029fc404cc5563f": {
     "model_module": "@jupyter-widgets/base",
     "model_module_version": "1.2.0",
     "model_name": "LayoutModel",
     "state": {
      "_model_module": "@jupyter-widgets/base",
      "_model_module_version": "1.2.0",
      "_model_name": "LayoutModel",
      "_view_count": null,
      "_view_module": "@jupyter-widgets/base",
      "_view_module_version": "1.2.0",
      "_view_name": "LayoutView",
      "align_content": null,
      "align_items": null,
      "align_self": null,
      "border": null,
      "bottom": null,
      "display": null,
      "flex": null,
      "flex_flow": null,
      "grid_area": null,
      "grid_auto_columns": null,
      "grid_auto_flow": null,
      "grid_auto_rows": null,
      "grid_column": null,
      "grid_gap": null,
      "grid_row": null,
      "grid_template_areas": null,
      "grid_template_columns": null,
      "grid_template_rows": null,
      "height": null,
      "justify_content": null,
      "justify_items": null,
      "left": null,
      "margin": null,
      "max_height": null,
      "max_width": null,
      "min_height": null,
      "min_width": null,
      "object_fit": null,
      "object_position": null,
      "order": null,
      "overflow": null,
      "overflow_x": null,
      "overflow_y": null,
      "padding": null,
      "right": null,
      "top": null,
      "visibility": null,
      "width": null
     }
    },
    "53044f80a18d43de9b0a0915a103d015": {
     "model_module": "@jupyter-widgets/controls",
     "model_module_version": "1.5.0",
     "model_name": "HTMLModel",
     "state": {
      "_dom_classes": [],
      "_model_module": "@jupyter-widgets/controls",
      "_model_module_version": "1.5.0",
      "_model_name": "HTMLModel",
      "_view_count": null,
      "_view_module": "@jupyter-widgets/controls",
      "_view_module_version": "1.5.0",
      "_view_name": "HTMLView",
      "description": "",
      "description_tooltip": null,
      "layout": "IPY_MODEL_6d8f89dd2ee746e3a12921f5c8a49afb",
      "placeholder": "​",
      "style": "IPY_MODEL_adb2e210f1c045c19e6087b99b7e3ac3",
      "value": " 359M/359M [00:01&lt;00:00, 228MB/s]"
     }
    },
    "57bad4bb63f8495d880252cec44172ae": {
     "model_module": "@jupyter-widgets/controls",
     "model_module_version": "1.5.0",
     "model_name": "HTMLModel",
     "state": {
      "_dom_classes": [],
      "_model_module": "@jupyter-widgets/controls",
      "_model_module_version": "1.5.0",
      "_model_name": "HTMLModel",
      "_view_count": null,
      "_view_module": "@jupyter-widgets/controls",
      "_view_module_version": "1.5.0",
      "_view_name": "HTMLView",
      "description": "",
      "description_tooltip": null,
      "layout": "IPY_MODEL_e445cc3656c84ad0979035b0526c5b38",
      "placeholder": "​",
      "style": "IPY_MODEL_e8fc22e363574829bc5204e45dbc87a6",
      "value": "pytorch_model.bin: 100%"
     }
    },
    "58de8f8727a340ed892addd624d6c13a": {
     "model_module": "@jupyter-widgets/controls",
     "model_module_version": "1.5.0",
     "model_name": "DescriptionStyleModel",
     "state": {
      "_model_module": "@jupyter-widgets/controls",
      "_model_module_version": "1.5.0",
      "_model_name": "DescriptionStyleModel",
      "_view_count": null,
      "_view_module": "@jupyter-widgets/base",
      "_view_module_version": "1.2.0",
      "_view_name": "StyleView",
      "description_width": ""
     }
    },
    "5b4bf98b8f054f20a8f34e8e6da86e26": {
     "model_module": "@jupyter-widgets/controls",
     "model_module_version": "1.5.0",
     "model_name": "FloatProgressModel",
     "state": {
      "_dom_classes": [],
      "_model_module": "@jupyter-widgets/controls",
      "_model_module_version": "1.5.0",
      "_model_name": "FloatProgressModel",
      "_view_count": null,
      "_view_module": "@jupyter-widgets/controls",
      "_view_module_version": "1.5.0",
      "_view_name": "ProgressView",
      "bar_style": "success",
      "description": "",
      "description_tooltip": null,
      "layout": "IPY_MODEL_1a508dd0f0704c3f9f17fe2ec7fb2718",
      "max": 807,
      "min": 0,
      "orientation": "horizontal",
      "style": "IPY_MODEL_fb841c0acbd444608a0a1fd95168e42d",
      "value": 807
     }
    },
    "5c27ce1e885d4753a30b80265e36f8df": {
     "model_module": "@jupyter-widgets/controls",
     "model_module_version": "1.5.0",
     "model_name": "DescriptionStyleModel",
     "state": {
      "_model_module": "@jupyter-widgets/controls",
      "_model_module_version": "1.5.0",
      "_model_name": "DescriptionStyleModel",
      "_view_count": null,
      "_view_module": "@jupyter-widgets/base",
      "_view_module_version": "1.2.0",
      "_view_name": "StyleView",
      "description_width": ""
     }
    },
    "693378cd039d423e8a9d3ec298b5d596": {
     "model_module": "@jupyter-widgets/base",
     "model_module_version": "1.2.0",
     "model_name": "LayoutModel",
     "state": {
      "_model_module": "@jupyter-widgets/base",
      "_model_module_version": "1.2.0",
      "_model_name": "LayoutModel",
      "_view_count": null,
      "_view_module": "@jupyter-widgets/base",
      "_view_module_version": "1.2.0",
      "_view_name": "LayoutView",
      "align_content": null,
      "align_items": null,
      "align_self": null,
      "border": null,
      "bottom": null,
      "display": null,
      "flex": null,
      "flex_flow": null,
      "grid_area": null,
      "grid_auto_columns": null,
      "grid_auto_flow": null,
      "grid_auto_rows": null,
      "grid_column": null,
      "grid_gap": null,
      "grid_row": null,
      "grid_template_areas": null,
      "grid_template_columns": null,
      "grid_template_rows": null,
      "height": null,
      "justify_content": null,
      "justify_items": null,
      "left": null,
      "margin": null,
      "max_height": null,
      "max_width": null,
      "min_height": null,
      "min_width": null,
      "object_fit": null,
      "object_position": null,
      "order": null,
      "overflow": null,
      "overflow_x": null,
      "overflow_y": null,
      "padding": null,
      "right": null,
      "top": null,
      "visibility": null,
      "width": null
     }
    },
    "6984e5b1e0e14c3ca357917741b2acb4": {
     "model_module": "@jupyter-widgets/controls",
     "model_module_version": "1.5.0",
     "model_name": "HTMLModel",
     "state": {
      "_dom_classes": [],
      "_model_module": "@jupyter-widgets/controls",
      "_model_module_version": "1.5.0",
      "_model_name": "HTMLModel",
      "_view_count": null,
      "_view_module": "@jupyter-widgets/controls",
      "_view_module_version": "1.5.0",
      "_view_name": "HTMLView",
      "description": "",
      "description_tooltip": null,
      "layout": "IPY_MODEL_8463df13f5364e58a0c1f57134a5258b",
      "placeholder": "​",
      "style": "IPY_MODEL_a0f90f7bcd4948bd880d5c919f0dcbd9",
      "value": "special_tokens_map.json: 100%"
     }
    },
    "6b99517d1369460bb97d64ce391a74aa": {
     "model_module": "@jupyter-widgets/controls",
     "model_module_version": "1.5.0",
     "model_name": "FloatProgressModel",
     "state": {
      "_dom_classes": [],
      "_model_module": "@jupyter-widgets/controls",
      "_model_module_version": "1.5.0",
      "_model_name": "FloatProgressModel",
      "_view_count": null,
      "_view_module": "@jupyter-widgets/controls",
      "_view_module_version": "1.5.0",
      "_view_name": "ProgressView",
      "bar_style": "success",
      "description": "",
      "description_tooltip": null,
      "layout": "IPY_MODEL_5229c0e5ba5449069ecf7584319c165a",
      "max": 1,
      "min": 0,
      "orientation": "horizontal",
      "style": "IPY_MODEL_92b69de181c4457096105685c95f37a8",
      "value": 1
     }
    },
    "6d8593e086604557b66c4de20a8f5b04": {
     "model_module": "@jupyter-widgets/controls",
     "model_module_version": "1.5.0",
     "model_name": "DescriptionStyleModel",
     "state": {
      "_model_module": "@jupyter-widgets/controls",
      "_model_module_version": "1.5.0",
      "_model_name": "DescriptionStyleModel",
      "_view_count": null,
      "_view_module": "@jupyter-widgets/base",
      "_view_module_version": "1.2.0",
      "_view_name": "StyleView",
      "description_width": ""
     }
    },
    "6d8f89dd2ee746e3a12921f5c8a49afb": {
     "model_module": "@jupyter-widgets/base",
     "model_module_version": "1.2.0",
     "model_name": "LayoutModel",
     "state": {
      "_model_module": "@jupyter-widgets/base",
      "_model_module_version": "1.2.0",
      "_model_name": "LayoutModel",
      "_view_count": null,
      "_view_module": "@jupyter-widgets/base",
      "_view_module_version": "1.2.0",
      "_view_name": "LayoutView",
      "align_content": null,
      "align_items": null,
      "align_self": null,
      "border": null,
      "bottom": null,
      "display": null,
      "flex": null,
      "flex_flow": null,
      "grid_area": null,
      "grid_auto_columns": null,
      "grid_auto_flow": null,
      "grid_auto_rows": null,
      "grid_column": null,
      "grid_gap": null,
      "grid_row": null,
      "grid_template_areas": null,
      "grid_template_columns": null,
      "grid_template_rows": null,
      "height": null,
      "justify_content": null,
      "justify_items": null,
      "left": null,
      "margin": null,
      "max_height": null,
      "max_width": null,
      "min_height": null,
      "min_width": null,
      "object_fit": null,
      "object_position": null,
      "order": null,
      "overflow": null,
      "overflow_x": null,
      "overflow_y": null,
      "padding": null,
      "right": null,
      "top": null,
      "visibility": null,
      "width": null
     }
    },
    "710c469a9b2d4305a9dd643e55825e89": {
     "model_module": "@jupyter-widgets/base",
     "model_module_version": "1.2.0",
     "model_name": "LayoutModel",
     "state": {
      "_model_module": "@jupyter-widgets/base",
      "_model_module_version": "1.2.0",
      "_model_name": "LayoutModel",
      "_view_count": null,
      "_view_module": "@jupyter-widgets/base",
      "_view_module_version": "1.2.0",
      "_view_name": "LayoutView",
      "align_content": null,
      "align_items": null,
      "align_self": null,
      "border": null,
      "bottom": null,
      "display": null,
      "flex": null,
      "flex_flow": null,
      "grid_area": null,
      "grid_auto_columns": null,
      "grid_auto_flow": null,
      "grid_auto_rows": null,
      "grid_column": null,
      "grid_gap": null,
      "grid_row": null,
      "grid_template_areas": null,
      "grid_template_columns": null,
      "grid_template_rows": null,
      "height": null,
      "justify_content": null,
      "justify_items": null,
      "left": null,
      "margin": null,
      "max_height": null,
      "max_width": null,
      "min_height": null,
      "min_width": null,
      "object_fit": null,
      "object_position": null,
      "order": null,
      "overflow": null,
      "overflow_x": null,
      "overflow_y": null,
      "padding": null,
      "right": null,
      "top": null,
      "visibility": null,
      "width": null
     }
    },
    "7d234b706c464c7a91bcf02377852505": {
     "model_module": "@jupyter-widgets/base",
     "model_module_version": "1.2.0",
     "model_name": "LayoutModel",
     "state": {
      "_model_module": "@jupyter-widgets/base",
      "_model_module_version": "1.2.0",
      "_model_name": "LayoutModel",
      "_view_count": null,
      "_view_module": "@jupyter-widgets/base",
      "_view_module_version": "1.2.0",
      "_view_name": "LayoutView",
      "align_content": null,
      "align_items": null,
      "align_self": null,
      "border": null,
      "bottom": null,
      "display": null,
      "flex": null,
      "flex_flow": null,
      "grid_area": null,
      "grid_auto_columns": null,
      "grid_auto_flow": null,
      "grid_auto_rows": null,
      "grid_column": null,
      "grid_gap": null,
      "grid_row": null,
      "grid_template_areas": null,
      "grid_template_columns": null,
      "grid_template_rows": null,
      "height": null,
      "justify_content": null,
      "justify_items": null,
      "left": null,
      "margin": null,
      "max_height": null,
      "max_width": null,
      "min_height": null,
      "min_width": null,
      "object_fit": null,
      "object_position": null,
      "order": null,
      "overflow": null,
      "overflow_x": null,
      "overflow_y": null,
      "padding": null,
      "right": null,
      "top": null,
      "visibility": null,
      "width": null
     }
    },
    "7da3f159363246e1bc104fede33d3106": {
     "model_module": "@jupyter-widgets/controls",
     "model_module_version": "1.5.0",
     "model_name": "DescriptionStyleModel",
     "state": {
      "_model_module": "@jupyter-widgets/controls",
      "_model_module_version": "1.5.0",
      "_model_name": "DescriptionStyleModel",
      "_view_count": null,
      "_view_module": "@jupyter-widgets/base",
      "_view_module_version": "1.2.0",
      "_view_name": "StyleView",
      "description_width": ""
     }
    },
    "80207aadd5b447bfb85398f923f32e3c": {
     "model_module": "@jupyter-widgets/controls",
     "model_module_version": "1.5.0",
     "model_name": "DescriptionStyleModel",
     "state": {
      "_model_module": "@jupyter-widgets/controls",
      "_model_module_version": "1.5.0",
      "_model_name": "DescriptionStyleModel",
      "_view_count": null,
      "_view_module": "@jupyter-widgets/base",
      "_view_module_version": "1.2.0",
      "_view_name": "StyleView",
      "description_width": ""
     }
    },
    "8064cc8f14c142608a7b666c36196843": {
     "model_module": "@jupyter-widgets/controls",
     "model_module_version": "1.5.0",
     "model_name": "ProgressStyleModel",
     "state": {
      "_model_module": "@jupyter-widgets/controls",
      "_model_module_version": "1.5.0",
      "_model_name": "ProgressStyleModel",
      "_view_count": null,
      "_view_module": "@jupyter-widgets/base",
      "_view_module_version": "1.2.0",
      "_view_name": "StyleView",
      "bar_color": null,
      "description_width": ""
     }
    },
    "80f98b07504942b094c84e2091c97bcf": {
     "model_module": "@jupyter-widgets/controls",
     "model_module_version": "1.5.0",
     "model_name": "HBoxModel",
     "state": {
      "_dom_classes": [],
      "_model_module": "@jupyter-widgets/controls",
      "_model_module_version": "1.5.0",
      "_model_name": "HBoxModel",
      "_view_count": null,
      "_view_module": "@jupyter-widgets/controls",
      "_view_module_version": "1.5.0",
      "_view_name": "HBoxView",
      "box_style": "",
      "children": [
       "IPY_MODEL_c80c47d5541943209b75a1e8271274bc",
       "IPY_MODEL_6b99517d1369460bb97d64ce391a74aa",
       "IPY_MODEL_34a43878566b4b06a1d9c1f1df1245ef"
      ],
      "layout": "IPY_MODEL_c062ec7a6c8f458aa0f13b8d8d520ada"
     }
    },
    "8126439b189d42fc89e2f4ed1a5cca11": {
     "model_module": "@jupyter-widgets/controls",
     "model_module_version": "1.5.0",
     "model_name": "ProgressStyleModel",
     "state": {
      "_model_module": "@jupyter-widgets/controls",
      "_model_module_version": "1.5.0",
      "_model_name": "ProgressStyleModel",
      "_view_count": null,
      "_view_module": "@jupyter-widgets/base",
      "_view_module_version": "1.2.0",
      "_view_name": "StyleView",
      "bar_color": null,
      "description_width": ""
     }
    },
    "81c5447423e44cf6bffdbfa73955968f": {
     "model_module": "@jupyter-widgets/base",
     "model_module_version": "1.2.0",
     "model_name": "LayoutModel",
     "state": {
      "_model_module": "@jupyter-widgets/base",
      "_model_module_version": "1.2.0",
      "_model_name": "LayoutModel",
      "_view_count": null,
      "_view_module": "@jupyter-widgets/base",
      "_view_module_version": "1.2.0",
      "_view_name": "LayoutView",
      "align_content": null,
      "align_items": null,
      "align_self": null,
      "border": null,
      "bottom": null,
      "display": null,
      "flex": null,
      "flex_flow": null,
      "grid_area": null,
      "grid_auto_columns": null,
      "grid_auto_flow": null,
      "grid_auto_rows": null,
      "grid_column": null,
      "grid_gap": null,
      "grid_row": null,
      "grid_template_areas": null,
      "grid_template_columns": null,
      "grid_template_rows": null,
      "height": null,
      "justify_content": null,
      "justify_items": null,
      "left": null,
      "margin": null,
      "max_height": null,
      "max_width": null,
      "min_height": null,
      "min_width": null,
      "object_fit": null,
      "object_position": null,
      "order": null,
      "overflow": null,
      "overflow_x": null,
      "overflow_y": null,
      "padding": null,
      "right": null,
      "top": null,
      "visibility": null,
      "width": null
     }
    },
    "8463df13f5364e58a0c1f57134a5258b": {
     "model_module": "@jupyter-widgets/base",
     "model_module_version": "1.2.0",
     "model_name": "LayoutModel",
     "state": {
      "_model_module": "@jupyter-widgets/base",
      "_model_module_version": "1.2.0",
      "_model_name": "LayoutModel",
      "_view_count": null,
      "_view_module": "@jupyter-widgets/base",
      "_view_module_version": "1.2.0",
      "_view_name": "LayoutView",
      "align_content": null,
      "align_items": null,
      "align_self": null,
      "border": null,
      "bottom": null,
      "display": null,
      "flex": null,
      "flex_flow": null,
      "grid_area": null,
      "grid_auto_columns": null,
      "grid_auto_flow": null,
      "grid_auto_rows": null,
      "grid_column": null,
      "grid_gap": null,
      "grid_row": null,
      "grid_template_areas": null,
      "grid_template_columns": null,
      "grid_template_rows": null,
      "height": null,
      "justify_content": null,
      "justify_items": null,
      "left": null,
      "margin": null,
      "max_height": null,
      "max_width": null,
      "min_height": null,
      "min_width": null,
      "object_fit": null,
      "object_position": null,
      "order": null,
      "overflow": null,
      "overflow_x": null,
      "overflow_y": null,
      "padding": null,
      "right": null,
      "top": null,
      "visibility": null,
      "width": null
     }
    },
    "8560f08d81bb46af914ce94aab5968d9": {
     "model_module": "@jupyter-widgets/controls",
     "model_module_version": "1.5.0",
     "model_name": "ProgressStyleModel",
     "state": {
      "_model_module": "@jupyter-widgets/controls",
      "_model_module_version": "1.5.0",
      "_model_name": "ProgressStyleModel",
      "_view_count": null,
      "_view_module": "@jupyter-widgets/base",
      "_view_module_version": "1.2.0",
      "_view_name": "StyleView",
      "bar_color": null,
      "description_width": ""
     }
    },
    "86c79b08c47f4e2baca7c519afa9c58d": {
     "model_module": "@jupyter-widgets/controls",
     "model_module_version": "1.5.0",
     "model_name": "HBoxModel",
     "state": {
      "_dom_classes": [],
      "_model_module": "@jupyter-widgets/controls",
      "_model_module_version": "1.5.0",
      "_model_name": "HBoxModel",
      "_view_count": null,
      "_view_module": "@jupyter-widgets/controls",
      "_view_module_version": "1.5.0",
      "_view_name": "HBoxView",
      "box_style": "",
      "children": [
       "IPY_MODEL_57bad4bb63f8495d880252cec44172ae",
       "IPY_MODEL_11498b55fd004f32952160054cd6f2b1",
       "IPY_MODEL_53044f80a18d43de9b0a0915a103d015"
      ],
      "layout": "IPY_MODEL_be29717c09e94d16a488f85877509e6e"
     }
    },
    "87f50477a4a045d08999cb89e3263f7d": {
     "model_module": "@jupyter-widgets/controls",
     "model_module_version": "1.5.0",
     "model_name": "HBoxModel",
     "state": {
      "_dom_classes": [],
      "_model_module": "@jupyter-widgets/controls",
      "_model_module_version": "1.5.0",
      "_model_name": "HBoxModel",
      "_view_count": null,
      "_view_module": "@jupyter-widgets/controls",
      "_view_module_version": "1.5.0",
      "_view_name": "HBoxView",
      "box_style": "",
      "children": [
       "IPY_MODEL_ba57beb6d744466e813e31973a8895b8",
       "IPY_MODEL_0c4c50e6c9e649b5ba1d2d427b7dc2d7",
       "IPY_MODEL_a690bfbb9ae9421096c4f4e01acb41a6"
      ],
      "layout": "IPY_MODEL_a7685210646d4bf1a82f678d9f29cb67"
     }
    },
    "89ff014109594b8797377d18f8b23061": {
     "model_module": "@jupyter-widgets/base",
     "model_module_version": "1.2.0",
     "model_name": "LayoutModel",
     "state": {
      "_model_module": "@jupyter-widgets/base",
      "_model_module_version": "1.2.0",
      "_model_name": "LayoutModel",
      "_view_count": null,
      "_view_module": "@jupyter-widgets/base",
      "_view_module_version": "1.2.0",
      "_view_name": "LayoutView",
      "align_content": null,
      "align_items": null,
      "align_self": null,
      "border": null,
      "bottom": null,
      "display": null,
      "flex": null,
      "flex_flow": null,
      "grid_area": null,
      "grid_auto_columns": null,
      "grid_auto_flow": null,
      "grid_auto_rows": null,
      "grid_column": null,
      "grid_gap": null,
      "grid_row": null,
      "grid_template_areas": null,
      "grid_template_columns": null,
      "grid_template_rows": null,
      "height": null,
      "justify_content": null,
      "justify_items": null,
      "left": null,
      "margin": null,
      "max_height": null,
      "max_width": null,
      "min_height": null,
      "min_width": null,
      "object_fit": null,
      "object_position": null,
      "order": null,
      "overflow": null,
      "overflow_x": null,
      "overflow_y": null,
      "padding": null,
      "right": null,
      "top": null,
      "visibility": null,
      "width": null
     }
    },
    "8ada41c0054f438fa8a20a23e706ec83": {
     "model_module": "@jupyter-widgets/controls",
     "model_module_version": "1.5.0",
     "model_name": "DescriptionStyleModel",
     "state": {
      "_model_module": "@jupyter-widgets/controls",
      "_model_module_version": "1.5.0",
      "_model_name": "DescriptionStyleModel",
      "_view_count": null,
      "_view_module": "@jupyter-widgets/base",
      "_view_module_version": "1.2.0",
      "_view_name": "StyleView",
      "description_width": ""
     }
    },
    "8b5219a7a6da48cf9c0f27ab3be97818": {
     "model_module": "@jupyter-widgets/controls",
     "model_module_version": "1.5.0",
     "model_name": "DescriptionStyleModel",
     "state": {
      "_model_module": "@jupyter-widgets/controls",
      "_model_module_version": "1.5.0",
      "_model_name": "DescriptionStyleModel",
      "_view_count": null,
      "_view_module": "@jupyter-widgets/base",
      "_view_module_version": "1.2.0",
      "_view_name": "StyleView",
      "description_width": ""
     }
    },
    "8f9db6dcb9b7444891fb3febccbd0907": {
     "model_module": "@jupyter-widgets/base",
     "model_module_version": "1.2.0",
     "model_name": "LayoutModel",
     "state": {
      "_model_module": "@jupyter-widgets/base",
      "_model_module_version": "1.2.0",
      "_model_name": "LayoutModel",
      "_view_count": null,
      "_view_module": "@jupyter-widgets/base",
      "_view_module_version": "1.2.0",
      "_view_name": "LayoutView",
      "align_content": null,
      "align_items": null,
      "align_self": null,
      "border": null,
      "bottom": null,
      "display": null,
      "flex": null,
      "flex_flow": null,
      "grid_area": null,
      "grid_auto_columns": null,
      "grid_auto_flow": null,
      "grid_auto_rows": null,
      "grid_column": null,
      "grid_gap": null,
      "grid_row": null,
      "grid_template_areas": null,
      "grid_template_columns": null,
      "grid_template_rows": null,
      "height": null,
      "justify_content": null,
      "justify_items": null,
      "left": null,
      "margin": null,
      "max_height": null,
      "max_width": null,
      "min_height": null,
      "min_width": null,
      "object_fit": null,
      "object_position": null,
      "order": null,
      "overflow": null,
      "overflow_x": null,
      "overflow_y": null,
      "padding": null,
      "right": null,
      "top": null,
      "visibility": null,
      "width": null
     }
    },
    "9004973c536e4521b96fbd5bcb6b290e": {
     "model_module": "@jupyter-widgets/controls",
     "model_module_version": "1.5.0",
     "model_name": "HBoxModel",
     "state": {
      "_dom_classes": [],
      "_model_module": "@jupyter-widgets/controls",
      "_model_module_version": "1.5.0",
      "_model_name": "HBoxModel",
      "_view_count": null,
      "_view_module": "@jupyter-widgets/controls",
      "_view_module_version": "1.5.0",
      "_view_name": "HBoxView",
      "box_style": "",
      "children": [
       "IPY_MODEL_4fded5d9b28e41a38ef60d6bf31f5126",
       "IPY_MODEL_96295018e17d4c3485f08f2cf8d0c67c",
       "IPY_MODEL_d89c5698357042d28708e39edba8bdd5"
      ],
      "layout": "IPY_MODEL_a5ef614bf09b4129879245540c1bc432"
     }
    },
    "92b69de181c4457096105685c95f37a8": {
     "model_module": "@jupyter-widgets/controls",
     "model_module_version": "1.5.0",
     "model_name": "ProgressStyleModel",
     "state": {
      "_model_module": "@jupyter-widgets/controls",
      "_model_module_version": "1.5.0",
      "_model_name": "ProgressStyleModel",
      "_view_count": null,
      "_view_module": "@jupyter-widgets/base",
      "_view_module_version": "1.2.0",
      "_view_name": "StyleView",
      "bar_color": null,
      "description_width": ""
     }
    },
    "92db3105667d4727a899e741a6455e78": {
     "model_module": "@jupyter-widgets/controls",
     "model_module_version": "1.5.0",
     "model_name": "HTMLModel",
     "state": {
      "_dom_classes": [],
      "_model_module": "@jupyter-widgets/controls",
      "_model_module_version": "1.5.0",
      "_model_name": "HTMLModel",
      "_view_count": null,
      "_view_module": "@jupyter-widgets/controls",
      "_view_module_version": "1.5.0",
      "_view_name": "HTMLView",
      "description": "",
      "description_tooltip": null,
      "layout": "IPY_MODEL_d59efc3f63754cc29250afdf91644a0c",
      "placeholder": "​",
      "style": "IPY_MODEL_8ada41c0054f438fa8a20a23e706ec83",
      "value": " 5.44k/? [00:00&lt;00:00, 209kB/s]"
     }
    },
    "96295018e17d4c3485f08f2cf8d0c67c": {
     "model_module": "@jupyter-widgets/controls",
     "model_module_version": "1.5.0",
     "model_name": "FloatProgressModel",
     "state": {
      "_dom_classes": [],
      "_model_module": "@jupyter-widgets/controls",
      "_model_module_version": "1.5.0",
      "_model_name": "FloatProgressModel",
      "_view_count": null,
      "_view_module": "@jupyter-widgets/controls",
      "_view_module_version": "1.5.0",
      "_view_name": "ProgressView",
      "bar_style": "success",
      "description": "",
      "description_tooltip": null,
      "layout": "IPY_MODEL_c91288390aac4bdbb49c1224646b32b1",
      "max": 359172492,
      "min": 0,
      "orientation": "horizontal",
      "style": "IPY_MODEL_8064cc8f14c142608a7b666c36196843",
      "value": 359172492
     }
    },
    "a0f90f7bcd4948bd880d5c919f0dcbd9": {
     "model_module": "@jupyter-widgets/controls",
     "model_module_version": "1.5.0",
     "model_name": "DescriptionStyleModel",
     "state": {
      "_model_module": "@jupyter-widgets/controls",
      "_model_module_version": "1.5.0",
      "_model_name": "DescriptionStyleModel",
      "_view_count": null,
      "_view_module": "@jupyter-widgets/base",
      "_view_module_version": "1.2.0",
      "_view_name": "StyleView",
      "description_width": ""
     }
    },
    "a5ef614bf09b4129879245540c1bc432": {
     "model_module": "@jupyter-widgets/base",
     "model_module_version": "1.2.0",
     "model_name": "LayoutModel",
     "state": {
      "_model_module": "@jupyter-widgets/base",
      "_model_module_version": "1.2.0",
      "_model_name": "LayoutModel",
      "_view_count": null,
      "_view_module": "@jupyter-widgets/base",
      "_view_module_version": "1.2.0",
      "_view_name": "LayoutView",
      "align_content": null,
      "align_items": null,
      "align_self": null,
      "border": null,
      "bottom": null,
      "display": null,
      "flex": null,
      "flex_flow": null,
      "grid_area": null,
      "grid_auto_columns": null,
      "grid_auto_flow": null,
      "grid_auto_rows": null,
      "grid_column": null,
      "grid_gap": null,
      "grid_row": null,
      "grid_template_areas": null,
      "grid_template_columns": null,
      "grid_template_rows": null,
      "height": null,
      "justify_content": null,
      "justify_items": null,
      "left": null,
      "margin": null,
      "max_height": null,
      "max_width": null,
      "min_height": null,
      "min_width": null,
      "object_fit": null,
      "object_position": null,
      "order": null,
      "overflow": null,
      "overflow_x": null,
      "overflow_y": null,
      "padding": null,
      "right": null,
      "top": null,
      "visibility": null,
      "width": null
     }
    },
    "a690bfbb9ae9421096c4f4e01acb41a6": {
     "model_module": "@jupyter-widgets/controls",
     "model_module_version": "1.5.0",
     "model_name": "HTMLModel",
     "state": {
      "_dom_classes": [],
      "_model_module": "@jupyter-widgets/controls",
      "_model_module_version": "1.5.0",
      "_model_name": "HTMLModel",
      "_view_count": null,
      "_view_module": "@jupyter-widgets/controls",
      "_view_module_version": "1.5.0",
      "_view_name": "HTMLView",
      "description": "",
      "description_tooltip": null,
      "layout": "IPY_MODEL_81c5447423e44cf6bffdbfa73955968f",
      "placeholder": "​",
      "style": "IPY_MODEL_5c27ce1e885d4753a30b80265e36f8df",
      "value": " 28.7k/? [00:00&lt;00:00, 2.83MB/s]"
     }
    },
    "a7685210646d4bf1a82f678d9f29cb67": {
     "model_module": "@jupyter-widgets/base",
     "model_module_version": "1.2.0",
     "model_name": "LayoutModel",
     "state": {
      "_model_module": "@jupyter-widgets/base",
      "_model_module_version": "1.2.0",
      "_model_name": "LayoutModel",
      "_view_count": null,
      "_view_module": "@jupyter-widgets/base",
      "_view_module_version": "1.2.0",
      "_view_name": "LayoutView",
      "align_content": null,
      "align_items": null,
      "align_self": null,
      "border": null,
      "bottom": null,
      "display": null,
      "flex": null,
      "flex_flow": null,
      "grid_area": null,
      "grid_auto_columns": null,
      "grid_auto_flow": null,
      "grid_auto_rows": null,
      "grid_column": null,
      "grid_gap": null,
      "grid_row": null,
      "grid_template_areas": null,
      "grid_template_columns": null,
      "grid_template_rows": null,
      "height": null,
      "justify_content": null,
      "justify_items": null,
      "left": null,
      "margin": null,
      "max_height": null,
      "max_width": null,
      "min_height": null,
      "min_width": null,
      "object_fit": null,
      "object_position": null,
      "order": null,
      "overflow": null,
      "overflow_x": null,
      "overflow_y": null,
      "padding": null,
      "right": null,
      "top": null,
      "visibility": null,
      "width": null
     }
    },
    "a7c3a1bf72924c3288b13f90f410b1c9": {
     "model_module": "@jupyter-widgets/controls",
     "model_module_version": "1.5.0",
     "model_name": "DescriptionStyleModel",
     "state": {
      "_model_module": "@jupyter-widgets/controls",
      "_model_module_version": "1.5.0",
      "_model_name": "DescriptionStyleModel",
      "_view_count": null,
      "_view_module": "@jupyter-widgets/base",
      "_view_module_version": "1.2.0",
      "_view_name": "StyleView",
      "description_width": ""
     }
    },
    "adb2e210f1c045c19e6087b99b7e3ac3": {
     "model_module": "@jupyter-widgets/controls",
     "model_module_version": "1.5.0",
     "model_name": "DescriptionStyleModel",
     "state": {
      "_model_module": "@jupyter-widgets/controls",
      "_model_module_version": "1.5.0",
      "_model_name": "DescriptionStyleModel",
      "_view_count": null,
      "_view_module": "@jupyter-widgets/base",
      "_view_module_version": "1.2.0",
      "_view_name": "StyleView",
      "description_width": ""
     }
    },
    "ba57beb6d744466e813e31973a8895b8": {
     "model_module": "@jupyter-widgets/controls",
     "model_module_version": "1.5.0",
     "model_name": "HTMLModel",
     "state": {
      "_dom_classes": [],
      "_model_module": "@jupyter-widgets/controls",
      "_model_module_version": "1.5.0",
      "_model_name": "HTMLModel",
      "_view_count": null,
      "_view_module": "@jupyter-widgets/controls",
      "_view_module_version": "1.5.0",
      "_view_name": "HTMLView",
      "description": "",
      "description_tooltip": null,
      "layout": "IPY_MODEL_7d234b706c464c7a91bcf02377852505",
      "placeholder": "​",
      "style": "IPY_MODEL_160f437035bd4439a35b2efae25a2026",
      "value": "vocab.txt: "
     }
    },
    "be29717c09e94d16a488f85877509e6e": {
     "model_module": "@jupyter-widgets/base",
     "model_module_version": "1.2.0",
     "model_name": "LayoutModel",
     "state": {
      "_model_module": "@jupyter-widgets/base",
      "_model_module_version": "1.2.0",
      "_model_name": "LayoutModel",
      "_view_count": null,
      "_view_module": "@jupyter-widgets/base",
      "_view_module_version": "1.2.0",
      "_view_name": "LayoutView",
      "align_content": null,
      "align_items": null,
      "align_self": null,
      "border": null,
      "bottom": null,
      "display": null,
      "flex": null,
      "flex_flow": null,
      "grid_area": null,
      "grid_auto_columns": null,
      "grid_auto_flow": null,
      "grid_auto_rows": null,
      "grid_column": null,
      "grid_gap": null,
      "grid_row": null,
      "grid_template_areas": null,
      "grid_template_columns": null,
      "grid_template_rows": null,
      "height": null,
      "justify_content": null,
      "justify_items": null,
      "left": null,
      "margin": null,
      "max_height": null,
      "max_width": null,
      "min_height": null,
      "min_width": null,
      "object_fit": null,
      "object_position": null,
      "order": null,
      "overflow": null,
      "overflow_x": null,
      "overflow_y": null,
      "padding": null,
      "right": null,
      "top": null,
      "visibility": null,
      "width": null
     }
    },
    "c062ec7a6c8f458aa0f13b8d8d520ada": {
     "model_module": "@jupyter-widgets/base",
     "model_module_version": "1.2.0",
     "model_name": "LayoutModel",
     "state": {
      "_model_module": "@jupyter-widgets/base",
      "_model_module_version": "1.2.0",
      "_model_name": "LayoutModel",
      "_view_count": null,
      "_view_module": "@jupyter-widgets/base",
      "_view_module_version": "1.2.0",
      "_view_name": "LayoutView",
      "align_content": null,
      "align_items": null,
      "align_self": null,
      "border": null,
      "bottom": null,
      "display": null,
      "flex": null,
      "flex_flow": null,
      "grid_area": null,
      "grid_auto_columns": null,
      "grid_auto_flow": null,
      "grid_auto_rows": null,
      "grid_column": null,
      "grid_gap": null,
      "grid_row": null,
      "grid_template_areas": null,
      "grid_template_columns": null,
      "grid_template_rows": null,
      "height": null,
      "justify_content": null,
      "justify_items": null,
      "left": null,
      "margin": null,
      "max_height": null,
      "max_width": null,
      "min_height": null,
      "min_width": null,
      "object_fit": null,
      "object_position": null,
      "order": null,
      "overflow": null,
      "overflow_x": null,
      "overflow_y": null,
      "padding": null,
      "right": null,
      "top": null,
      "visibility": null,
      "width": null
     }
    },
    "c80c47d5541943209b75a1e8271274bc": {
     "model_module": "@jupyter-widgets/controls",
     "model_module_version": "1.5.0",
     "model_name": "HTMLModel",
     "state": {
      "_dom_classes": [],
      "_model_module": "@jupyter-widgets/controls",
      "_model_module_version": "1.5.0",
      "_model_name": "HTMLModel",
      "_view_count": null,
      "_view_module": "@jupyter-widgets/controls",
      "_view_module_version": "1.5.0",
      "_view_name": "HTMLView",
      "description": "",
      "description_tooltip": null,
      "layout": "IPY_MODEL_522f3ea6b021462fa029fc404cc5563f",
      "placeholder": "​",
      "style": "IPY_MODEL_0d95821c2ebf411bba3b9f574951beba",
      "value": "config.json: "
     }
    },
    "c91288390aac4bdbb49c1224646b32b1": {
     "model_module": "@jupyter-widgets/base",
     "model_module_version": "1.2.0",
     "model_name": "LayoutModel",
     "state": {
      "_model_module": "@jupyter-widgets/base",
      "_model_module_version": "1.2.0",
      "_model_name": "LayoutModel",
      "_view_count": null,
      "_view_module": "@jupyter-widgets/base",
      "_view_module_version": "1.2.0",
      "_view_name": "LayoutView",
      "align_content": null,
      "align_items": null,
      "align_self": null,
      "border": null,
      "bottom": null,
      "display": null,
      "flex": null,
      "flex_flow": null,
      "grid_area": null,
      "grid_auto_columns": null,
      "grid_auto_flow": null,
      "grid_auto_rows": null,
      "grid_column": null,
      "grid_gap": null,
      "grid_row": null,
      "grid_template_areas": null,
      "grid_template_columns": null,
      "grid_template_rows": null,
      "height": null,
      "justify_content": null,
      "justify_items": null,
      "left": null,
      "margin": null,
      "max_height": null,
      "max_width": null,
      "min_height": null,
      "min_width": null,
      "object_fit": null,
      "object_position": null,
      "order": null,
      "overflow": null,
      "overflow_x": null,
      "overflow_y": null,
      "padding": null,
      "right": null,
      "top": null,
      "visibility": null,
      "width": null
     }
    },
    "c9182c33b3c2419e98882f76901a257c": {
     "model_module": "@jupyter-widgets/base",
     "model_module_version": "1.2.0",
     "model_name": "LayoutModel",
     "state": {
      "_model_module": "@jupyter-widgets/base",
      "_model_module_version": "1.2.0",
      "_model_name": "LayoutModel",
      "_view_count": null,
      "_view_module": "@jupyter-widgets/base",
      "_view_module_version": "1.2.0",
      "_view_name": "LayoutView",
      "align_content": null,
      "align_items": null,
      "align_self": null,
      "border": null,
      "bottom": null,
      "display": null,
      "flex": null,
      "flex_flow": null,
      "grid_area": null,
      "grid_auto_columns": null,
      "grid_auto_flow": null,
      "grid_auto_rows": null,
      "grid_column": null,
      "grid_gap": null,
      "grid_row": null,
      "grid_template_areas": null,
      "grid_template_columns": null,
      "grid_template_rows": null,
      "height": null,
      "justify_content": null,
      "justify_items": null,
      "left": null,
      "margin": null,
      "max_height": null,
      "max_width": null,
      "min_height": null,
      "min_width": null,
      "object_fit": null,
      "object_position": null,
      "order": null,
      "overflow": null,
      "overflow_x": null,
      "overflow_y": null,
      "padding": null,
      "right": null,
      "top": null,
      "visibility": null,
      "width": null
     }
    },
    "cbdc741e3a54416f8877b3d27a1de277": {
     "model_module": "@jupyter-widgets/base",
     "model_module_version": "1.2.0",
     "model_name": "LayoutModel",
     "state": {
      "_model_module": "@jupyter-widgets/base",
      "_model_module_version": "1.2.0",
      "_model_name": "LayoutModel",
      "_view_count": null,
      "_view_module": "@jupyter-widgets/base",
      "_view_module_version": "1.2.0",
      "_view_name": "LayoutView",
      "align_content": null,
      "align_items": null,
      "align_self": null,
      "border": null,
      "bottom": null,
      "display": null,
      "flex": null,
      "flex_flow": null,
      "grid_area": null,
      "grid_auto_columns": null,
      "grid_auto_flow": null,
      "grid_auto_rows": null,
      "grid_column": null,
      "grid_gap": null,
      "grid_row": null,
      "grid_template_areas": null,
      "grid_template_columns": null,
      "grid_template_rows": null,
      "height": null,
      "justify_content": null,
      "justify_items": null,
      "left": null,
      "margin": null,
      "max_height": null,
      "max_width": null,
      "min_height": null,
      "min_width": null,
      "object_fit": null,
      "object_position": null,
      "order": null,
      "overflow": null,
      "overflow_x": null,
      "overflow_y": null,
      "padding": null,
      "right": null,
      "top": null,
      "visibility": null,
      "width": null
     }
    },
    "d2c68ec58b6d47e5b8fa9f7f44fbf4d7": {
     "model_module": "@jupyter-widgets/controls",
     "model_module_version": "1.5.0",
     "model_name": "HBoxModel",
     "state": {
      "_dom_classes": [],
      "_model_module": "@jupyter-widgets/controls",
      "_model_module_version": "1.5.0",
      "_model_name": "HBoxModel",
      "_view_count": null,
      "_view_module": "@jupyter-widgets/controls",
      "_view_module_version": "1.5.0",
      "_view_name": "HBoxView",
      "box_style": "",
      "children": [
       "IPY_MODEL_3992d727c289479a94b1dd439afd0176",
       "IPY_MODEL_5b4bf98b8f054f20a8f34e8e6da86e26",
       "IPY_MODEL_30ca152430874dceb986f7e49efa17c8"
      ],
      "layout": "IPY_MODEL_693378cd039d423e8a9d3ec298b5d596"
     }
    },
    "d48cd85a25d74a849f3283332d23f79e": {
     "model_module": "@jupyter-widgets/controls",
     "model_module_version": "1.5.0",
     "model_name": "ProgressStyleModel",
     "state": {
      "_model_module": "@jupyter-widgets/controls",
      "_model_module_version": "1.5.0",
      "_model_name": "ProgressStyleModel",
      "_view_count": null,
      "_view_module": "@jupyter-widgets/base",
      "_view_module_version": "1.2.0",
      "_view_name": "StyleView",
      "bar_color": null,
      "description_width": ""
     }
    },
    "d59efc3f63754cc29250afdf91644a0c": {
     "model_module": "@jupyter-widgets/base",
     "model_module_version": "1.2.0",
     "model_name": "LayoutModel",
     "state": {
      "_model_module": "@jupyter-widgets/base",
      "_model_module_version": "1.2.0",
      "_model_name": "LayoutModel",
      "_view_count": null,
      "_view_module": "@jupyter-widgets/base",
      "_view_module_version": "1.2.0",
      "_view_name": "LayoutView",
      "align_content": null,
      "align_items": null,
      "align_self": null,
      "border": null,
      "bottom": null,
      "display": null,
      "flex": null,
      "flex_flow": null,
      "grid_area": null,
      "grid_auto_columns": null,
      "grid_auto_flow": null,
      "grid_auto_rows": null,
      "grid_column": null,
      "grid_gap": null,
      "grid_row": null,
      "grid_template_areas": null,
      "grid_template_columns": null,
      "grid_template_rows": null,
      "height": null,
      "justify_content": null,
      "justify_items": null,
      "left": null,
      "margin": null,
      "max_height": null,
      "max_width": null,
      "min_height": null,
      "min_width": null,
      "object_fit": null,
      "object_position": null,
      "order": null,
      "overflow": null,
      "overflow_x": null,
      "overflow_y": null,
      "padding": null,
      "right": null,
      "top": null,
      "visibility": null,
      "width": null
     }
    },
    "d702f6fd54244b118463bcb77cf19f38": {
     "model_module": "@jupyter-widgets/controls",
     "model_module_version": "1.5.0",
     "model_name": "HTMLModel",
     "state": {
      "_dom_classes": [],
      "_model_module": "@jupyter-widgets/controls",
      "_model_module_version": "1.5.0",
      "_model_name": "HTMLModel",
      "_view_count": null,
      "_view_module": "@jupyter-widgets/controls",
      "_view_module_version": "1.5.0",
      "_view_name": "HTMLView",
      "description": "",
      "description_tooltip": null,
      "layout": "IPY_MODEL_23a68dc529104025bf8d042678bf2854",
      "placeholder": "​",
      "style": "IPY_MODEL_4b0c0794b1684ba1a600c2af3626b457",
      "value": "dnabert_layer.py: "
     }
    },
    "d89c5698357042d28708e39edba8bdd5": {
     "model_module": "@jupyter-widgets/controls",
     "model_module_version": "1.5.0",
     "model_name": "HTMLModel",
     "state": {
      "_dom_classes": [],
      "_model_module": "@jupyter-widgets/controls",
      "_model_module_version": "1.5.0",
      "_model_name": "HTMLModel",
      "_view_count": null,
      "_view_module": "@jupyter-widgets/controls",
      "_view_module_version": "1.5.0",
      "_view_name": "HTMLView",
      "description": "",
      "description_tooltip": null,
      "layout": "IPY_MODEL_89ff014109594b8797377d18f8b23061",
      "placeholder": "​",
      "style": "IPY_MODEL_382fc78f4d0648cc9b593475f0191c59",
      "value": " 359M/359M [00:03&lt;00:00, 206MB/s]"
     }
    },
    "e445cc3656c84ad0979035b0526c5b38": {
     "model_module": "@jupyter-widgets/base",
     "model_module_version": "1.2.0",
     "model_name": "LayoutModel",
     "state": {
      "_model_module": "@jupyter-widgets/base",
      "_model_module_version": "1.2.0",
      "_model_name": "LayoutModel",
      "_view_count": null,
      "_view_module": "@jupyter-widgets/base",
      "_view_module_version": "1.2.0",
      "_view_name": "LayoutView",
      "align_content": null,
      "align_items": null,
      "align_self": null,
      "border": null,
      "bottom": null,
      "display": null,
      "flex": null,
      "flex_flow": null,
      "grid_area": null,
      "grid_auto_columns": null,
      "grid_auto_flow": null,
      "grid_auto_rows": null,
      "grid_column": null,
      "grid_gap": null,
      "grid_row": null,
      "grid_template_areas": null,
      "grid_template_columns": null,
      "grid_template_rows": null,
      "height": null,
      "justify_content": null,
      "justify_items": null,
      "left": null,
      "margin": null,
      "max_height": null,
      "max_width": null,
      "min_height": null,
      "min_width": null,
      "object_fit": null,
      "object_position": null,
      "order": null,
      "overflow": null,
      "overflow_x": null,
      "overflow_y": null,
      "padding": null,
      "right": null,
      "top": null,
      "visibility": null,
      "width": null
     }
    },
    "e5caaa7e528d40968459163442f364d6": {
     "model_module": "@jupyter-widgets/controls",
     "model_module_version": "1.5.0",
     "model_name": "HBoxModel",
     "state": {
      "_dom_classes": [],
      "_model_module": "@jupyter-widgets/controls",
      "_model_module_version": "1.5.0",
      "_model_name": "HBoxModel",
      "_view_count": null,
      "_view_module": "@jupyter-widgets/controls",
      "_view_module_version": "1.5.0",
      "_view_name": "HBoxView",
      "box_style": "",
      "children": [
       "IPY_MODEL_f7dcb83a6b9a49d9971a113885d1d8bc",
       "IPY_MODEL_23625fc363784ad9ace3eb0b2be00766",
       "IPY_MODEL_35b2b15a0b86447cb57fee4242ea2271"
      ],
      "layout": "IPY_MODEL_214d7354e5944931b8bb48e4663c9598"
     }
    },
    "e6cddbcf7b97421ba6bb0cf47a3efd9f": {
     "model_module": "@jupyter-widgets/base",
     "model_module_version": "1.2.0",
     "model_name": "LayoutModel",
     "state": {
      "_model_module": "@jupyter-widgets/base",
      "_model_module_version": "1.2.0",
      "_model_name": "LayoutModel",
      "_view_count": null,
      "_view_module": "@jupyter-widgets/base",
      "_view_module_version": "1.2.0",
      "_view_name": "LayoutView",
      "align_content": null,
      "align_items": null,
      "align_self": null,
      "border": null,
      "bottom": null,
      "display": null,
      "flex": null,
      "flex_flow": null,
      "grid_area": null,
      "grid_auto_columns": null,
      "grid_auto_flow": null,
      "grid_auto_rows": null,
      "grid_column": null,
      "grid_gap": null,
      "grid_row": null,
      "grid_template_areas": null,
      "grid_template_columns": null,
      "grid_template_rows": null,
      "height": null,
      "justify_content": null,
      "justify_items": null,
      "left": null,
      "margin": null,
      "max_height": null,
      "max_width": null,
      "min_height": null,
      "min_width": null,
      "object_fit": null,
      "object_position": null,
      "order": null,
      "overflow": null,
      "overflow_x": null,
      "overflow_y": null,
      "padding": null,
      "right": null,
      "top": null,
      "visibility": null,
      "width": null
     }
    },
    "e8fc22e363574829bc5204e45dbc87a6": {
     "model_module": "@jupyter-widgets/controls",
     "model_module_version": "1.5.0",
     "model_name": "DescriptionStyleModel",
     "state": {
      "_model_module": "@jupyter-widgets/controls",
      "_model_module_version": "1.5.0",
      "_model_name": "DescriptionStyleModel",
      "_view_count": null,
      "_view_module": "@jupyter-widgets/base",
      "_view_module_version": "1.2.0",
      "_view_name": "StyleView",
      "description_width": ""
     }
    },
    "eaa9ead700ea4f08907d730387c06637": {
     "model_module": "@jupyter-widgets/controls",
     "model_module_version": "1.5.0",
     "model_name": "HBoxModel",
     "state": {
      "_dom_classes": [],
      "_model_module": "@jupyter-widgets/controls",
      "_model_module_version": "1.5.0",
      "_model_name": "HBoxModel",
      "_view_count": null,
      "_view_module": "@jupyter-widgets/controls",
      "_view_module_version": "1.5.0",
      "_view_name": "HBoxView",
      "box_style": "",
      "children": [
       "IPY_MODEL_6984e5b1e0e14c3ca357917741b2acb4",
       "IPY_MODEL_33adb26106104d77bf2f4ab458a7d276",
       "IPY_MODEL_0881bcceeef74abb896d738ded6b2cf4"
      ],
      "layout": "IPY_MODEL_07ed41f760624e43b05b9771e9ccf3d0"
     }
    },
    "ec44fefab7194fd3949bffbab3785367": {
     "model_module": "@jupyter-widgets/base",
     "model_module_version": "1.2.0",
     "model_name": "LayoutModel",
     "state": {
      "_model_module": "@jupyter-widgets/base",
      "_model_module_version": "1.2.0",
      "_model_name": "LayoutModel",
      "_view_count": null,
      "_view_module": "@jupyter-widgets/base",
      "_view_module_version": "1.2.0",
      "_view_name": "LayoutView",
      "align_content": null,
      "align_items": null,
      "align_self": null,
      "border": null,
      "bottom": null,
      "display": null,
      "flex": null,
      "flex_flow": null,
      "grid_area": null,
      "grid_auto_columns": null,
      "grid_auto_flow": null,
      "grid_auto_rows": null,
      "grid_column": null,
      "grid_gap": null,
      "grid_row": null,
      "grid_template_areas": null,
      "grid_template_columns": null,
      "grid_template_rows": null,
      "height": null,
      "justify_content": null,
      "justify_items": null,
      "left": null,
      "margin": null,
      "max_height": null,
      "max_width": null,
      "min_height": null,
      "min_width": null,
      "object_fit": null,
      "object_position": null,
      "order": null,
      "overflow": null,
      "overflow_x": null,
      "overflow_y": null,
      "padding": null,
      "right": null,
      "top": null,
      "visibility": null,
      "width": null
     }
    },
    "f7dcb83a6b9a49d9971a113885d1d8bc": {
     "model_module": "@jupyter-widgets/controls",
     "model_module_version": "1.5.0",
     "model_name": "HTMLModel",
     "state": {
      "_dom_classes": [],
      "_model_module": "@jupyter-widgets/controls",
      "_model_module_version": "1.5.0",
      "_model_name": "HTMLModel",
      "_view_count": null,
      "_view_module": "@jupyter-widgets/controls",
      "_view_module_version": "1.5.0",
      "_view_name": "HTMLView",
      "description": "",
      "description_tooltip": null,
      "layout": "IPY_MODEL_cbdc741e3a54416f8877b3d27a1de277",
      "placeholder": "​",
      "style": "IPY_MODEL_8b5219a7a6da48cf9c0f27ab3be97818",
      "value": "tokenizer_config.json: 100%"
     }
    },
    "fb841c0acbd444608a0a1fd95168e42d": {
     "model_module": "@jupyter-widgets/controls",
     "model_module_version": "1.5.0",
     "model_name": "ProgressStyleModel",
     "state": {
      "_model_module": "@jupyter-widgets/controls",
      "_model_module_version": "1.5.0",
      "_model_name": "ProgressStyleModel",
      "_view_count": null,
      "_view_module": "@jupyter-widgets/base",
      "_view_module_version": "1.2.0",
      "_view_name": "StyleView",
      "bar_color": null,
      "description_width": ""
     }
    },
    "fc8ffd59cccc42cfb9c45ed73c5a61e2": {
     "model_module": "@jupyter-widgets/base",
     "model_module_version": "1.2.0",
     "model_name": "LayoutModel",
     "state": {
      "_model_module": "@jupyter-widgets/base",
      "_model_module_version": "1.2.0",
      "_model_name": "LayoutModel",
      "_view_count": null,
      "_view_module": "@jupyter-widgets/base",
      "_view_module_version": "1.2.0",
      "_view_name": "LayoutView",
      "align_content": null,
      "align_items": null,
      "align_self": null,
      "border": null,
      "bottom": null,
      "display": null,
      "flex": null,
      "flex_flow": null,
      "grid_area": null,
      "grid_auto_columns": null,
      "grid_auto_flow": null,
      "grid_auto_rows": null,
      "grid_column": null,
      "grid_gap": null,
      "grid_row": null,
      "grid_template_areas": null,
      "grid_template_columns": null,
      "grid_template_rows": null,
      "height": null,
      "justify_content": null,
      "justify_items": null,
      "left": null,
      "margin": null,
      "max_height": null,
      "max_width": null,
      "min_height": null,
      "min_width": null,
      "object_fit": null,
      "object_position": null,
      "order": null,
      "overflow": null,
      "overflow_x": null,
      "overflow_y": null,
      "padding": null,
      "right": null,
      "top": null,
      "visibility": null,
      "width": "20px"
     }
    },
    "fe23f45234564d23ba345b1f603dcf15": {
     "model_module": "@jupyter-widgets/controls",
     "model_module_version": "1.5.0",
     "model_name": "ProgressStyleModel",
     "state": {
      "_model_module": "@jupyter-widgets/controls",
      "_model_module_version": "1.5.0",
      "_model_name": "ProgressStyleModel",
      "_view_count": null,
      "_view_module": "@jupyter-widgets/base",
      "_view_module_version": "1.2.0",
      "_view_name": "StyleView",
      "bar_color": null,
      "description_width": ""
     }
    }
   }
  }
 },
 "nbformat": 4,
 "nbformat_minor": 4
}
